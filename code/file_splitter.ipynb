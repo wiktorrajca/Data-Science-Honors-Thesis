{
 "cells": [
  {
   "cell_type": "code",
   "execution_count": null,
   "metadata": {},
   "outputs": [
    {
     "name": "stderr",
     "output_type": "stream",
     "text": [
      "/var/folders/r2/9vnxdxyd26380tms_8k538b40000gn/T/ipykernel_55705/700420125.py:4: DtypeWarning: Columns (1,13,14) have mixed types. Specify dtype option on import or set low_memory=False.\n",
      "  df = pd.read_csv(\"/Users/wiktorrajca/Desktop/Research/URAP_Fedyk/data/Orbis_Data/shareholders_first_level1.csv\")  # Replace \"input.csv\" with your file path\n"
     ]
    },
    {
     "name": "stdout",
     "output_type": "stream",
     "text": [
      "CSV file has been split into output1.csv, output2.csv, and output3.csv\n"
     ]
    }
   ],
   "source": [
    "import pandas as pd\n",
    "\n",
    "# Load the CSV file into a DataFrame\n",
    "df = pd.read_csv(\"/Users/wiktorrajca/Desktop/Research/URAP_Fedyk/data/Orbis_Data/shareholders_first_level1.csv\")  # Replace \"input.csv\" with your file path\n",
    "\n",
    "# Calculate the number of rows per split\n",
    "n = len(df)\n",
    "split_size = n // 3\n",
    "\n",
    "# Split the DataFrame into three parts\n",
    "df1 = df.iloc[:split_size]\n",
    "df2 = df.iloc[split_size:2*split_size]\n",
    "df3 = df.iloc[2*split_size:]\n",
    "\n",
    "# Save each split into separate CSV files\n",
    "df1.to_csv(\"testing/output1.csv\", index=False)\n",
    "df2.to_csv(\"testing/output2.csv\", index=False)\n",
    "df3.to_csv(\"testing/output3.csv\", index=False)\n",
    "\n",
    "print(\"CSV file has been split into output1.csv, output2.csv, and output3.csv\")"
   ]
  }
 ],
 "metadata": {
  "kernelspec": {
   "display_name": "Python 3",
   "language": "python",
   "name": "python3"
  },
  "language_info": {
   "codemirror_mode": {
    "name": "ipython",
    "version": 3
   },
   "file_extension": ".py",
   "mimetype": "text/x-python",
   "name": "python",
   "nbconvert_exporter": "python",
   "pygments_lexer": "ipython3",
   "version": "3.9.6"
  }
 },
 "nbformat": 4,
 "nbformat_minor": 2
}
