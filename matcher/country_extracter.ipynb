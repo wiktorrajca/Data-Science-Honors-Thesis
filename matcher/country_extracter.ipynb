{
 "cells": [
  {
   "cell_type": "code",
   "execution_count": 3,
   "metadata": {},
   "outputs": [
    {
     "name": "stderr",
     "output_type": "stream",
     "text": [
      "/var/folders/r2/9vnxdxyd26380tms_8k538b40000gn/T/ipykernel_35360/2959919617.py:8: DtypeWarning: Columns (18,20) have mixed types. Specify dtype option on import or set low_memory=False.\n",
      "  df = pd.read_csv(csv_file)\n"
     ]
    },
    {
     "name": "stdout",
     "output_type": "stream",
     "text": [
      "Unique two-letter prefixes in column 'WIN_COUNTRY_CODE':\n",
      "['IT', 'FR', 'CZ', 'DK', 'DE', 'EE', 'NL', 'PT', 'PL', 'BG', 'HU', 'MT', 'LU', 'ES', 'GR', 'SE', 'LT', 'CY', 'BE', 'LV', 'SK', 'UK', 'RO', 'SI', 'IE', 'AT', 'SA', 'US', 'MK', 'NO', 'CH', 'HR', 'FI', 'AU', 'TR', 'IS', 'SR', 'AD', 'BT', 'JP', 'HK', 'AX', 'VU', 'ZA', 'MA', 'BY', 'RU', 'CA', 'KE', 'GA', 'VN', 'LI', 'TN', 'OM', 'AF', 'RS', 'AE', 'MU', 'VA', 'SG', 'AR', 'GE', 'IL', 'BI', 'CN', 'NE', 'PE', 'BF', 'VG', 'EG', 'UA', 'AM', 'AI', 'PG', 'SZ', 'BA', 'IN', 'FK', 'BR', 'JO', 'KR', 'SV', 'NP', 'SM', 'VI', 'IO', 'VE', 'AL', '1A', 'PH', 'TG', 'ET', 'CC', 'IQ', 'MC', 'LB', 'DZ', 'NZ', 'MY', 'IR', 'FO', 'WF', 'BB', 'PA', 'AZ', 'BZ', 'MG', 'TW', 'TZ', 'SD', 'MZ', 'PR', 'CO', 'ME', 'PN', 'GM', 'GH', 'TH', 'UG', 'MD', 'MS', 'UM', 'KN', 'MR', 'PK', 'EC', 'BJ', 'KP', 'UY', 'BO', 'HN', 'BM', 'GG', 'CR', 'CL', 'GD', 'GN', 'NI']\n"
     ]
    }
   ],
   "source": [
    "import pandas as pd\n",
    "\n",
    "# Specify the path to your CSV file and the column name you want to check.\n",
    "csv_file = \"/Users/wiktorrajca/Desktop/Research/URAP_Fedyk/export_CAN_2019.csv\"  # Change this to your CSV file path.\n",
    "column_name = \"WIN_COUNTRY_CODE\"     # Change this to the column you want to inspect.\n",
    "\n",
    "# Load the CSV file into a DataFrame.\n",
    "df = pd.read_csv(csv_file)\n",
    "\n",
    "# Ensure that the column is treated as a string, then extract the first two letters.\n",
    "# Using dropna() to avoid errors if there are missing values.\n",
    "prefixes = df[column_name].dropna().astype(str).str[:2]\n",
    "\n",
    "# Get unique two-letter prefixes.\n",
    "unique_prefixes = prefixes.unique().tolist()\n",
    "\n",
    "# Display the unique two-letter prefixes.\n",
    "print(f\"Unique two-letter prefixes in column '{column_name}':\")\n",
    "print(unique_prefixes)"
   ]
  }
 ],
 "metadata": {
  "kernelspec": {
   "display_name": "Python 3",
   "language": "python",
   "name": "python3"
  },
  "language_info": {
   "codemirror_mode": {
    "name": "ipython",
    "version": 3
   },
   "file_extension": ".py",
   "mimetype": "text/x-python",
   "name": "python",
   "nbconvert_exporter": "python",
   "pygments_lexer": "ipython3",
   "version": "3.9.6"
  }
 },
 "nbformat": 4,
 "nbformat_minor": 2
}
