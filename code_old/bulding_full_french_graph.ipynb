{
 "cells": [
  {
   "cell_type": "markdown",
   "id": "77c5c709",
   "metadata": {},
   "source": [
    "#### IMPORTS"
   ]
  },
  {
   "cell_type": "code",
   "execution_count": 1,
   "id": "85c567d1",
   "metadata": {},
   "outputs": [],
   "source": [
    "import pandas as pd\n",
    "import networkx as nx\n",
    "import os"
   ]
  },
  {
   "cell_type": "markdown",
   "id": "aa96996e",
   "metadata": {},
   "source": [
    "#### EXTRACTING TED FOR FRANCE AND CLEANING"
   ]
  },
  {
   "cell_type": "code",
   "execution_count": 34,
   "id": "08e6ebd6",
   "metadata": {},
   "outputs": [
    {
     "ename": "ParserError",
     "evalue": "Error tokenizing data. C error: Calling read(nbytes) on source failed. Try engine='python'.",
     "output_type": "error",
     "traceback": [
      "\u001b[0;31m---------------------------------------------------------------------------\u001b[0m",
      "\u001b[0;31mParserError\u001b[0m                               Traceback (most recent call last)",
      "Cell \u001b[0;32mIn[34], line 1\u001b[0m\n\u001b[0;32m----> 1\u001b[0m ted \u001b[38;5;241m=\u001b[39m \u001b[43mpd\u001b[49m\u001b[38;5;241;43m.\u001b[39;49m\u001b[43mread_csv\u001b[49m\u001b[43m(\u001b[49m\u001b[38;5;124;43m'\u001b[39;49m\u001b[38;5;124;43m/Users/wiktorrajca/Documents/GitHub/Data-Science-Honors-Thesis/ted_all.csv\u001b[39;49m\u001b[38;5;124;43m'\u001b[39;49m\u001b[43m)\u001b[49m\n",
      "File \u001b[0;32m~/Library/Python/3.9/lib/python/site-packages/pandas/io/parsers/readers.py:1026\u001b[0m, in \u001b[0;36mread_csv\u001b[0;34m(filepath_or_buffer, sep, delimiter, header, names, index_col, usecols, dtype, engine, converters, true_values, false_values, skipinitialspace, skiprows, skipfooter, nrows, na_values, keep_default_na, na_filter, verbose, skip_blank_lines, parse_dates, infer_datetime_format, keep_date_col, date_parser, date_format, dayfirst, cache_dates, iterator, chunksize, compression, thousands, decimal, lineterminator, quotechar, quoting, doublequote, escapechar, comment, encoding, encoding_errors, dialect, on_bad_lines, delim_whitespace, low_memory, memory_map, float_precision, storage_options, dtype_backend)\u001b[0m\n\u001b[1;32m   1013\u001b[0m kwds_defaults \u001b[38;5;241m=\u001b[39m _refine_defaults_read(\n\u001b[1;32m   1014\u001b[0m     dialect,\n\u001b[1;32m   1015\u001b[0m     delimiter,\n\u001b[0;32m   (...)\u001b[0m\n\u001b[1;32m   1022\u001b[0m     dtype_backend\u001b[38;5;241m=\u001b[39mdtype_backend,\n\u001b[1;32m   1023\u001b[0m )\n\u001b[1;32m   1024\u001b[0m kwds\u001b[38;5;241m.\u001b[39mupdate(kwds_defaults)\n\u001b[0;32m-> 1026\u001b[0m \u001b[38;5;28;01mreturn\u001b[39;00m \u001b[43m_read\u001b[49m\u001b[43m(\u001b[49m\u001b[43mfilepath_or_buffer\u001b[49m\u001b[43m,\u001b[49m\u001b[43m \u001b[49m\u001b[43mkwds\u001b[49m\u001b[43m)\u001b[49m\n",
      "File \u001b[0;32m~/Library/Python/3.9/lib/python/site-packages/pandas/io/parsers/readers.py:626\u001b[0m, in \u001b[0;36m_read\u001b[0;34m(filepath_or_buffer, kwds)\u001b[0m\n\u001b[1;32m    623\u001b[0m     \u001b[38;5;28;01mreturn\u001b[39;00m parser\n\u001b[1;32m    625\u001b[0m \u001b[38;5;28;01mwith\u001b[39;00m parser:\n\u001b[0;32m--> 626\u001b[0m     \u001b[38;5;28;01mreturn\u001b[39;00m \u001b[43mparser\u001b[49m\u001b[38;5;241;43m.\u001b[39;49m\u001b[43mread\u001b[49m\u001b[43m(\u001b[49m\u001b[43mnrows\u001b[49m\u001b[43m)\u001b[49m\n",
      "File \u001b[0;32m~/Library/Python/3.9/lib/python/site-packages/pandas/io/parsers/readers.py:1923\u001b[0m, in \u001b[0;36mTextFileReader.read\u001b[0;34m(self, nrows)\u001b[0m\n\u001b[1;32m   1916\u001b[0m nrows \u001b[38;5;241m=\u001b[39m validate_integer(\u001b[38;5;124m\"\u001b[39m\u001b[38;5;124mnrows\u001b[39m\u001b[38;5;124m\"\u001b[39m, nrows)\n\u001b[1;32m   1917\u001b[0m \u001b[38;5;28;01mtry\u001b[39;00m:\n\u001b[1;32m   1918\u001b[0m     \u001b[38;5;66;03m# error: \"ParserBase\" has no attribute \"read\"\u001b[39;00m\n\u001b[1;32m   1919\u001b[0m     (\n\u001b[1;32m   1920\u001b[0m         index,\n\u001b[1;32m   1921\u001b[0m         columns,\n\u001b[1;32m   1922\u001b[0m         col_dict,\n\u001b[0;32m-> 1923\u001b[0m     ) \u001b[38;5;241m=\u001b[39m \u001b[38;5;28;43mself\u001b[39;49m\u001b[38;5;241;43m.\u001b[39;49m\u001b[43m_engine\u001b[49m\u001b[38;5;241;43m.\u001b[39;49m\u001b[43mread\u001b[49m\u001b[43m(\u001b[49m\u001b[43m  \u001b[49m\u001b[38;5;66;43;03m# type: ignore[attr-defined]\u001b[39;49;00m\n\u001b[1;32m   1924\u001b[0m \u001b[43m        \u001b[49m\u001b[43mnrows\u001b[49m\n\u001b[1;32m   1925\u001b[0m \u001b[43m    \u001b[49m\u001b[43m)\u001b[49m\n\u001b[1;32m   1926\u001b[0m \u001b[38;5;28;01mexcept\u001b[39;00m \u001b[38;5;167;01mException\u001b[39;00m:\n\u001b[1;32m   1927\u001b[0m     \u001b[38;5;28mself\u001b[39m\u001b[38;5;241m.\u001b[39mclose()\n",
      "File \u001b[0;32m~/Library/Python/3.9/lib/python/site-packages/pandas/io/parsers/c_parser_wrapper.py:234\u001b[0m, in \u001b[0;36mCParserWrapper.read\u001b[0;34m(self, nrows)\u001b[0m\n\u001b[1;32m    232\u001b[0m \u001b[38;5;28;01mtry\u001b[39;00m:\n\u001b[1;32m    233\u001b[0m     \u001b[38;5;28;01mif\u001b[39;00m \u001b[38;5;28mself\u001b[39m\u001b[38;5;241m.\u001b[39mlow_memory:\n\u001b[0;32m--> 234\u001b[0m         chunks \u001b[38;5;241m=\u001b[39m \u001b[38;5;28;43mself\u001b[39;49m\u001b[38;5;241;43m.\u001b[39;49m\u001b[43m_reader\u001b[49m\u001b[38;5;241;43m.\u001b[39;49m\u001b[43mread_low_memory\u001b[49m\u001b[43m(\u001b[49m\u001b[43mnrows\u001b[49m\u001b[43m)\u001b[49m\n\u001b[1;32m    235\u001b[0m         \u001b[38;5;66;03m# destructive to chunks\u001b[39;00m\n\u001b[1;32m    236\u001b[0m         data \u001b[38;5;241m=\u001b[39m _concatenate_chunks(chunks)\n",
      "File \u001b[0;32mparsers.pyx:838\u001b[0m, in \u001b[0;36mpandas._libs.parsers.TextReader.read_low_memory\u001b[0;34m()\u001b[0m\n",
      "File \u001b[0;32mparsers.pyx:905\u001b[0m, in \u001b[0;36mpandas._libs.parsers.TextReader._read_rows\u001b[0;34m()\u001b[0m\n",
      "File \u001b[0;32mparsers.pyx:874\u001b[0m, in \u001b[0;36mpandas._libs.parsers.TextReader._tokenize_rows\u001b[0;34m()\u001b[0m\n",
      "File \u001b[0;32mparsers.pyx:891\u001b[0m, in \u001b[0;36mpandas._libs.parsers.TextReader._check_tokenize_status\u001b[0;34m()\u001b[0m\n",
      "File \u001b[0;32mparsers.pyx:2061\u001b[0m, in \u001b[0;36mpandas._libs.parsers.raise_parser_error\u001b[0;34m()\u001b[0m\n",
      "\u001b[0;31mParserError\u001b[0m: Error tokenizing data. C error: Calling read(nbytes) on source failed. Try engine='python'."
     ]
    }
   ],
   "source": [
    "ted = pd.read_csv('/Users/wiktorrajca/Documents/GitHub/Data-Science-Honors-Thesis/ted_all.csv')"
   ]
  },
  {
   "cell_type": "code",
   "execution_count": 5,
   "id": "6a8502f3",
   "metadata": {},
   "outputs": [
    {
     "name": "stdout",
     "output_type": "stream",
     "text": [
      "Missing VALUE_EURO entries: 2136202\n",
      "20.35% of VALUE_EURO is missing\n"
     ]
    }
   ],
   "source": [
    "nan_count = ted['WIN_NAME'].isna().sum()\n",
    "print(f\"Missing VALUE_EURO entries: {nan_count}\")\n",
    "total = len(ted)\n",
    "pct_missing = nan_count / total * 100\n",
    "print(f\"{pct_missing:.2f}% of VALUE_EURO is missing\")"
   ]
  },
  {
   "cell_type": "code",
   "execution_count": 6,
   "id": "d65aba74",
   "metadata": {},
   "outputs": [],
   "source": [
    "ted_clean = ted.dropna(subset = ['WIN_NAME'])"
   ]
  },
  {
   "cell_type": "code",
   "execution_count": 9,
   "id": "fac75481",
   "metadata": {},
   "outputs": [],
   "source": [
    "ted_french = ted_clean[ted_clean['WIN_COUNTRY_CODE'].str[:2] == 'FR']"
   ]
  },
  {
   "cell_type": "code",
   "execution_count": 11,
   "id": "5cf19e72",
   "metadata": {},
   "outputs": [],
   "source": [
    "ted_french.to_csv('ted_french_full')"
   ]
  },
  {
   "cell_type": "code",
   "execution_count": 13,
   "id": "ac44ca9e",
   "metadata": {},
   "outputs": [],
   "source": [
    "ted_italian = ted_clean[ted_clean['WIN_COUNTRY_CODE'].str[:2] == 'IT']"
   ]
  },
  {
   "cell_type": "code",
   "execution_count": 14,
   "id": "4c9e3a28",
   "metadata": {},
   "outputs": [
    {
     "data": {
      "text/plain": [
       "(279617, 75)"
      ]
     },
     "execution_count": 14,
     "metadata": {},
     "output_type": "execute_result"
    }
   ],
   "source": [
    "ted_italian.shape"
   ]
  },
  {
   "cell_type": "code",
   "execution_count": 15,
   "id": "8f47df3f",
   "metadata": {},
   "outputs": [],
   "source": [
    "ted_italian.to_csv('ted_italian_full')"
   ]
  },
  {
   "cell_type": "markdown",
   "id": "98d3c550",
   "metadata": {},
   "source": [
    "### After merge"
   ]
  },
  {
   "cell_type": "code",
   "execution_count": 2,
   "id": "f7dcdbb0",
   "metadata": {},
   "outputs": [
    {
     "name": "stderr",
     "output_type": "stream",
     "text": [
      "/var/folders/r2/9vnxdxyd26380tms_8k538b40000gn/T/ipykernel_65741/3259451970.py:1: DtypeWarning: Columns (9,11,15,17,18,19,24,25,34,44,47,56,58,61,63) have mixed types. Specify dtype option on import or set low_memory=False.\n",
      "  french_merge_1 = pd.read_csv('/Users/wiktorrajca/Documents/GitHub/Data-Science-Honors-Thesis/code/french_merge_full/merged_result_1.csv')\n"
     ]
    }
   ],
   "source": [
    "french_merge_1 = pd.read_csv('/Users/wiktorrajca/Documents/GitHub/Data-Science-Honors-Thesis/code/french_merge_full/merged_result_1.csv')"
   ]
  },
  {
   "cell_type": "code",
   "execution_count": 5,
   "id": "8327d3e9",
   "metadata": {},
   "outputs": [
    {
     "data": {
      "text/plain": [
       "(152788, 78)"
      ]
     },
     "execution_count": 5,
     "metadata": {},
     "output_type": "execute_result"
    }
   ],
   "source": [
    "french_merge_1.shape"
   ]
  },
  {
   "cell_type": "code",
   "execution_count": 6,
   "id": "1975537a",
   "metadata": {},
   "outputs": [],
   "source": [
    "french_merge_1_filtered = french_merge_1[\n",
    "    french_merge_1['WIN_COUNTRY_CODE'].str[:2] == french_merge_1['bvdidnumber'].astype(str).str[:2]\n",
    "]"
   ]
  },
  {
   "cell_type": "code",
   "execution_count": 7,
   "id": "a5b3fd8d",
   "metadata": {},
   "outputs": [
    {
     "data": {
      "text/plain": [
       "(78457, 78)"
      ]
     },
     "execution_count": 7,
     "metadata": {},
     "output_type": "execute_result"
    }
   ],
   "source": [
    "french_merge_1_filtered.shape"
   ]
  },
  {
   "cell_type": "code",
   "execution_count": 1,
   "id": "2af2da42",
   "metadata": {},
   "outputs": [],
   "source": [
    "import os\n",
    "import pandas as pd\n",
    "\n",
    "def load_and_filter_csvs(directory_path):\n",
    "    all_dfs = []\n",
    "\n",
    "    for filename in os.listdir(directory_path):\n",
    "        if filename.endswith(\".csv\"):\n",
    "            file_path = os.path.join(directory_path, filename)\n",
    "            df = pd.read_csv(file_path)\n",
    "\n",
    "            # Ensure both columns are treated as strings\n",
    "            df['WIN_COUNTRY_CODE'] = df['WIN_COUNTRY_CODE'].astype(str)\n",
    "            df['bvdidnumber'] = df['bvdidnumber'].astype(str)\n",
    "\n",
    "            # Filter rows\n",
    "            df_filtered = df[df['WIN_COUNTRY_CODE'].str[:2] == df['bvdidnumber'].str[:2]]\n",
    "\n",
    "            all_dfs.append(df_filtered)\n",
    "\n",
    "    # Combine all filtered DataFrames into one\n",
    "    combined_df = pd.concat(all_dfs, ignore_index=True)\n",
    "    return combined_df"
   ]
  },
  {
   "cell_type": "code",
   "execution_count": 13,
   "id": "b7441542",
   "metadata": {},
   "outputs": [
    {
     "name": "stderr",
     "output_type": "stream",
     "text": [
      "/var/folders/r2/9vnxdxyd26380tms_8k538b40000gn/T/ipykernel_65741/1273740770.py:10: DtypeWarning: Columns (9,14,15,17,18,19,21,24,25,34,44,47,56,58,61,63) have mixed types. Specify dtype option on import or set low_memory=False.\n",
      "  df = pd.read_csv(file_path)\n",
      "/var/folders/r2/9vnxdxyd26380tms_8k538b40000gn/T/ipykernel_65741/1273740770.py:10: DtypeWarning: Columns (9,11,15,17,18,19,21,24,25,34,44,47,53,56,58,61,63) have mixed types. Specify dtype option on import or set low_memory=False.\n",
      "  df = pd.read_csv(file_path)\n",
      "/var/folders/r2/9vnxdxyd26380tms_8k538b40000gn/T/ipykernel_65741/1273740770.py:10: DtypeWarning: Columns (9,11,14,15,17,18,19,24,25,34,44,47,53,56,58,61,63) have mixed types. Specify dtype option on import or set low_memory=False.\n",
      "  df = pd.read_csv(file_path)\n",
      "/var/folders/r2/9vnxdxyd26380tms_8k538b40000gn/T/ipykernel_65741/1273740770.py:10: DtypeWarning: Columns (9,11,14,15,17,18,19,24,25,34,47,56,58,61,63) have mixed types. Specify dtype option on import or set low_memory=False.\n",
      "  df = pd.read_csv(file_path)\n",
      "/var/folders/r2/9vnxdxyd26380tms_8k538b40000gn/T/ipykernel_65741/1273740770.py:10: DtypeWarning: Columns (19,34,47,58,61) have mixed types. Specify dtype option on import or set low_memory=False.\n",
      "  df = pd.read_csv(file_path)\n",
      "/var/folders/r2/9vnxdxyd26380tms_8k538b40000gn/T/ipykernel_65741/1273740770.py:10: DtypeWarning: Columns (9,11,15,17,18,19,24,25,31,34,47,56,58,61,63) have mixed types. Specify dtype option on import or set low_memory=False.\n",
      "  df = pd.read_csv(file_path)\n",
      "/var/folders/r2/9vnxdxyd26380tms_8k538b40000gn/T/ipykernel_65741/1273740770.py:10: DtypeWarning: Columns (9,15,17,18,19,24,25,34,47,56,58,61,63) have mixed types. Specify dtype option on import or set low_memory=False.\n",
      "  df = pd.read_csv(file_path)\n",
      "/var/folders/r2/9vnxdxyd26380tms_8k538b40000gn/T/ipykernel_65741/1273740770.py:10: DtypeWarning: Columns (19,34,58,61) have mixed types. Specify dtype option on import or set low_memory=False.\n",
      "  df = pd.read_csv(file_path)\n",
      "/var/folders/r2/9vnxdxyd26380tms_8k538b40000gn/T/ipykernel_65741/1273740770.py:10: DtypeWarning: Columns (9,11,15,17,18,19,21,24,25,34,44,47,53,56,58,61,63) have mixed types. Specify dtype option on import or set low_memory=False.\n",
      "  df = pd.read_csv(file_path)\n",
      "/var/folders/r2/9vnxdxyd26380tms_8k538b40000gn/T/ipykernel_65741/1273740770.py:10: DtypeWarning: Columns (9,15,17,18,19,24,25,34,47,56,58,63) have mixed types. Specify dtype option on import or set low_memory=False.\n",
      "  df = pd.read_csv(file_path)\n",
      "/var/folders/r2/9vnxdxyd26380tms_8k538b40000gn/T/ipykernel_65741/1273740770.py:10: DtypeWarning: Columns (9,15,17,18,19,21,24,25,34,44,47,56,58,61,63) have mixed types. Specify dtype option on import or set low_memory=False.\n",
      "  df = pd.read_csv(file_path)\n",
      "/var/folders/r2/9vnxdxyd26380tms_8k538b40000gn/T/ipykernel_65741/1273740770.py:10: DtypeWarning: Columns (19,21,61) have mixed types. Specify dtype option on import or set low_memory=False.\n",
      "  df = pd.read_csv(file_path)\n",
      "/var/folders/r2/9vnxdxyd26380tms_8k538b40000gn/T/ipykernel_65741/1273740770.py:10: DtypeWarning: Columns (19,21,61) have mixed types. Specify dtype option on import or set low_memory=False.\n",
      "  df = pd.read_csv(file_path)\n",
      "/var/folders/r2/9vnxdxyd26380tms_8k538b40000gn/T/ipykernel_65741/1273740770.py:10: DtypeWarning: Columns (9,15,17,18,19,24,25,34,44,47,56,58,61,63) have mixed types. Specify dtype option on import or set low_memory=False.\n",
      "  df = pd.read_csv(file_path)\n",
      "/var/folders/r2/9vnxdxyd26380tms_8k538b40000gn/T/ipykernel_65741/1273740770.py:10: DtypeWarning: Columns (9,15,17,18,19,24,25,34,47,56,58,61,63) have mixed types. Specify dtype option on import or set low_memory=False.\n",
      "  df = pd.read_csv(file_path)\n",
      "/var/folders/r2/9vnxdxyd26380tms_8k538b40000gn/T/ipykernel_65741/1273740770.py:10: DtypeWarning: Columns (9,15,17,18,19,24,25,34,44,47,56,58,63) have mixed types. Specify dtype option on import or set low_memory=False.\n",
      "  df = pd.read_csv(file_path)\n",
      "/var/folders/r2/9vnxdxyd26380tms_8k538b40000gn/T/ipykernel_65741/1273740770.py:10: DtypeWarning: Columns (9,15,17,18,19,21,24,25,34,44,47,56,58,61,63) have mixed types. Specify dtype option on import or set low_memory=False.\n",
      "  df = pd.read_csv(file_path)\n",
      "/var/folders/r2/9vnxdxyd26380tms_8k538b40000gn/T/ipykernel_65741/1273740770.py:10: DtypeWarning: Columns (19,34,58) have mixed types. Specify dtype option on import or set low_memory=False.\n",
      "  df = pd.read_csv(file_path)\n",
      "/var/folders/r2/9vnxdxyd26380tms_8k538b40000gn/T/ipykernel_65741/1273740770.py:10: DtypeWarning: Columns (19) have mixed types. Specify dtype option on import or set low_memory=False.\n",
      "  df = pd.read_csv(file_path)\n",
      "/var/folders/r2/9vnxdxyd26380tms_8k538b40000gn/T/ipykernel_65741/1273740770.py:10: DtypeWarning: Columns (9,15,17,18,19,24,25,34,44,47,56,58,61,63) have mixed types. Specify dtype option on import or set low_memory=False.\n",
      "  df = pd.read_csv(file_path)\n",
      "/var/folders/r2/9vnxdxyd26380tms_8k538b40000gn/T/ipykernel_65741/1273740770.py:10: DtypeWarning: Columns (9,15,17,18,19,24,25,31,34,44,47,56,58,61,63) have mixed types. Specify dtype option on import or set low_memory=False.\n",
      "  df = pd.read_csv(file_path)\n",
      "/var/folders/r2/9vnxdxyd26380tms_8k538b40000gn/T/ipykernel_65741/1273740770.py:10: DtypeWarning: Columns (19) have mixed types. Specify dtype option on import or set low_memory=False.\n",
      "  df = pd.read_csv(file_path)\n",
      "/var/folders/r2/9vnxdxyd26380tms_8k538b40000gn/T/ipykernel_65741/1273740770.py:10: DtypeWarning: Columns (9,15,17,18,19,24,25,34,44,47,56,58,61,63) have mixed types. Specify dtype option on import or set low_memory=False.\n",
      "  df = pd.read_csv(file_path)\n",
      "/var/folders/r2/9vnxdxyd26380tms_8k538b40000gn/T/ipykernel_65741/1273740770.py:10: DtypeWarning: Columns (9,11,15,17,18,19,21,24,25,34,44,47,56,58,61,63) have mixed types. Specify dtype option on import or set low_memory=False.\n",
      "  df = pd.read_csv(file_path)\n",
      "/var/folders/r2/9vnxdxyd26380tms_8k538b40000gn/T/ipykernel_65741/1273740770.py:10: DtypeWarning: Columns (9,11,15,17,18,19,21,24,25,31,34,44,47,53,56,58,61,63) have mixed types. Specify dtype option on import or set low_memory=False.\n",
      "  df = pd.read_csv(file_path)\n",
      "/var/folders/r2/9vnxdxyd26380tms_8k538b40000gn/T/ipykernel_65741/1273740770.py:10: DtypeWarning: Columns (9,15,17,18,19,21,24,25,34,47,56,58,61,63) have mixed types. Specify dtype option on import or set low_memory=False.\n",
      "  df = pd.read_csv(file_path)\n",
      "/var/folders/r2/9vnxdxyd26380tms_8k538b40000gn/T/ipykernel_65741/1273740770.py:10: DtypeWarning: Columns (9,15,17,18,19,24,25,34,44,47,53,56,58,61,63) have mixed types. Specify dtype option on import or set low_memory=False.\n",
      "  df = pd.read_csv(file_path)\n",
      "/var/folders/r2/9vnxdxyd26380tms_8k538b40000gn/T/ipykernel_65741/1273740770.py:10: DtypeWarning: Columns (9,15,17,18,19,24,25,34,47,56,58,61,63) have mixed types. Specify dtype option on import or set low_memory=False.\n",
      "  df = pd.read_csv(file_path)\n",
      "/var/folders/r2/9vnxdxyd26380tms_8k538b40000gn/T/ipykernel_65741/1273740770.py:10: DtypeWarning: Columns (9,11,15,17,18,19,24,25,34,44,47,56,58,61,63) have mixed types. Specify dtype option on import or set low_memory=False.\n",
      "  df = pd.read_csv(file_path)\n",
      "/var/folders/r2/9vnxdxyd26380tms_8k538b40000gn/T/ipykernel_65741/1273740770.py:10: DtypeWarning: Columns (9,11,15,17,18,19,21,24,25,34,47,56,58,63) have mixed types. Specify dtype option on import or set low_memory=False.\n",
      "  df = pd.read_csv(file_path)\n",
      "/var/folders/r2/9vnxdxyd26380tms_8k538b40000gn/T/ipykernel_65741/1273740770.py:10: DtypeWarning: Columns (9,15,17,18,19,24,25,34,47,56,58,61,63) have mixed types. Specify dtype option on import or set low_memory=False.\n",
      "  df = pd.read_csv(file_path)\n",
      "/var/folders/r2/9vnxdxyd26380tms_8k538b40000gn/T/ipykernel_65741/1273740770.py:10: DtypeWarning: Columns (9,15,17,18,19,21,24,25,31,34,44,47,53,56,58,61,63) have mixed types. Specify dtype option on import or set low_memory=False.\n",
      "  df = pd.read_csv(file_path)\n",
      "/var/folders/r2/9vnxdxyd26380tms_8k538b40000gn/T/ipykernel_65741/1273740770.py:10: DtypeWarning: Columns (9,11,15,17,18,19,24,25,34,44,47,56,58,63) have mixed types. Specify dtype option on import or set low_memory=False.\n",
      "  df = pd.read_csv(file_path)\n",
      "/var/folders/r2/9vnxdxyd26380tms_8k538b40000gn/T/ipykernel_65741/1273740770.py:10: DtypeWarning: Columns (9,15,17,18,19,24,25,34,47,56,58,61,63) have mixed types. Specify dtype option on import or set low_memory=False.\n",
      "  df = pd.read_csv(file_path)\n",
      "/var/folders/r2/9vnxdxyd26380tms_8k538b40000gn/T/ipykernel_65741/1273740770.py:10: DtypeWarning: Columns (9,15,17,18,19,24,25,34,44,47,53,56,58,61,63) have mixed types. Specify dtype option on import or set low_memory=False.\n",
      "  df = pd.read_csv(file_path)\n",
      "/var/folders/r2/9vnxdxyd26380tms_8k538b40000gn/T/ipykernel_65741/1273740770.py:10: DtypeWarning: Columns (9,15,17,18,19,24,25,34,44,47,56,58,61,63) have mixed types. Specify dtype option on import or set low_memory=False.\n",
      "  df = pd.read_csv(file_path)\n",
      "/var/folders/r2/9vnxdxyd26380tms_8k538b40000gn/T/ipykernel_65741/1273740770.py:10: DtypeWarning: Columns (9,11,15,17,18,19,21,24,25,31,34,44,47,53,56,58,61,63) have mixed types. Specify dtype option on import or set low_memory=False.\n",
      "  df = pd.read_csv(file_path)\n",
      "/var/folders/r2/9vnxdxyd26380tms_8k538b40000gn/T/ipykernel_65741/1273740770.py:10: DtypeWarning: Columns (9,15,17,18,19,24,25,34,44,47,56,58,61,63) have mixed types. Specify dtype option on import or set low_memory=False.\n",
      "  df = pd.read_csv(file_path)\n",
      "/var/folders/r2/9vnxdxyd26380tms_8k538b40000gn/T/ipykernel_65741/1273740770.py:10: DtypeWarning: Columns (9,11,14,15,17,18,19,20,21,24,25,29,34,35,44,47,53,56,58,61,63) have mixed types. Specify dtype option on import or set low_memory=False.\n",
      "  df = pd.read_csv(file_path)\n",
      "/var/folders/r2/9vnxdxyd26380tms_8k538b40000gn/T/ipykernel_65741/1273740770.py:10: DtypeWarning: Columns (9,18,19,21,24,25,34,47,56,58,61,63) have mixed types. Specify dtype option on import or set low_memory=False.\n",
      "  df = pd.read_csv(file_path)\n",
      "/var/folders/r2/9vnxdxyd26380tms_8k538b40000gn/T/ipykernel_65741/1273740770.py:10: DtypeWarning: Columns (9,15,17,18,19,21,24,25,34,44,47,56,58,61,63) have mixed types. Specify dtype option on import or set low_memory=False.\n",
      "  df = pd.read_csv(file_path)\n",
      "/var/folders/r2/9vnxdxyd26380tms_8k538b40000gn/T/ipykernel_65741/1273740770.py:10: DtypeWarning: Columns (9,15,17,18,19,24,25,34,47,56,58,61,63) have mixed types. Specify dtype option on import or set low_memory=False.\n",
      "  df = pd.read_csv(file_path)\n",
      "/var/folders/r2/9vnxdxyd26380tms_8k538b40000gn/T/ipykernel_65741/1273740770.py:10: DtypeWarning: Columns (9,15,17,18,19,24,25,34,47,56,58,61,63) have mixed types. Specify dtype option on import or set low_memory=False.\n",
      "  df = pd.read_csv(file_path)\n",
      "/var/folders/r2/9vnxdxyd26380tms_8k538b40000gn/T/ipykernel_65741/1273740770.py:10: DtypeWarning: Columns (9,15,17,18,19,24,25,31,34,47,56,58,61,63) have mixed types. Specify dtype option on import or set low_memory=False.\n",
      "  df = pd.read_csv(file_path)\n",
      "/var/folders/r2/9vnxdxyd26380tms_8k538b40000gn/T/ipykernel_65741/1273740770.py:10: DtypeWarning: Columns (9,11,15,17,18,19,21,24,25,34,44,47,53,56,58,61,63) have mixed types. Specify dtype option on import or set low_memory=False.\n",
      "  df = pd.read_csv(file_path)\n",
      "/var/folders/r2/9vnxdxyd26380tms_8k538b40000gn/T/ipykernel_65741/1273740770.py:10: DtypeWarning: Columns (9,11,15,17,18,19,24,25,34,44,47,56,58,61,63) have mixed types. Specify dtype option on import or set low_memory=False.\n",
      "  df = pd.read_csv(file_path)\n",
      "/var/folders/r2/9vnxdxyd26380tms_8k538b40000gn/T/ipykernel_65741/1273740770.py:10: DtypeWarning: Columns (9,15,17,18,19,24,25,34,47,56,58,61,63) have mixed types. Specify dtype option on import or set low_memory=False.\n",
      "  df = pd.read_csv(file_path)\n"
     ]
    }
   ],
   "source": [
    "full_france_merged_filtered = load_and_filter_csvs('/Users/wiktorrajca/Documents/GitHub/Data-Science-Honors-Thesis/code/french_merge_full')"
   ]
  },
  {
   "cell_type": "code",
   "execution_count": 17,
   "id": "69b0ff1c",
   "metadata": {},
   "outputs": [],
   "source": [
    "full_france_merged_filtered.to_csv(\"french_merge_full/french_merge_full_filtered.csv\")"
   ]
  },
  {
   "cell_type": "code",
   "execution_count": 3,
   "id": "c5461078",
   "metadata": {},
   "outputs": [
    {
     "name": "stderr",
     "output_type": "stream",
     "text": [
      "/var/folders/r2/9vnxdxyd26380tms_8k538b40000gn/T/ipykernel_76190/1273740770.py:10: DtypeWarning: Columns (19,61) have mixed types. Specify dtype option on import or set low_memory=False.\n",
      "  df = pd.read_csv(file_path)\n",
      "/var/folders/r2/9vnxdxyd26380tms_8k538b40000gn/T/ipykernel_76190/1273740770.py:10: DtypeWarning: Columns (19) have mixed types. Specify dtype option on import or set low_memory=False.\n",
      "  df = pd.read_csv(file_path)\n",
      "/var/folders/r2/9vnxdxyd26380tms_8k538b40000gn/T/ipykernel_76190/1273740770.py:10: DtypeWarning: Columns (19) have mixed types. Specify dtype option on import or set low_memory=False.\n",
      "  df = pd.read_csv(file_path)\n",
      "/var/folders/r2/9vnxdxyd26380tms_8k538b40000gn/T/ipykernel_76190/1273740770.py:10: DtypeWarning: Columns (19) have mixed types. Specify dtype option on import or set low_memory=False.\n",
      "  df = pd.read_csv(file_path)\n",
      "/var/folders/r2/9vnxdxyd26380tms_8k538b40000gn/T/ipykernel_76190/1273740770.py:10: DtypeWarning: Columns (9,15,17,18,19,24,25,34,47,53,56,58,63) have mixed types. Specify dtype option on import or set low_memory=False.\n",
      "  df = pd.read_csv(file_path)\n",
      "/var/folders/r2/9vnxdxyd26380tms_8k538b40000gn/T/ipykernel_76190/1273740770.py:10: DtypeWarning: Columns (19) have mixed types. Specify dtype option on import or set low_memory=False.\n",
      "  df = pd.read_csv(file_path)\n",
      "/var/folders/r2/9vnxdxyd26380tms_8k538b40000gn/T/ipykernel_76190/1273740770.py:10: DtypeWarning: Columns (19) have mixed types. Specify dtype option on import or set low_memory=False.\n",
      "  df = pd.read_csv(file_path)\n",
      "/var/folders/r2/9vnxdxyd26380tms_8k538b40000gn/T/ipykernel_76190/1273740770.py:10: DtypeWarning: Columns (19) have mixed types. Specify dtype option on import or set low_memory=False.\n",
      "  df = pd.read_csv(file_path)\n",
      "/var/folders/r2/9vnxdxyd26380tms_8k538b40000gn/T/ipykernel_76190/1273740770.py:10: DtypeWarning: Columns (19) have mixed types. Specify dtype option on import or set low_memory=False.\n",
      "  df = pd.read_csv(file_path)\n",
      "/var/folders/r2/9vnxdxyd26380tms_8k538b40000gn/T/ipykernel_76190/1273740770.py:10: DtypeWarning: Columns (19) have mixed types. Specify dtype option on import or set low_memory=False.\n",
      "  df = pd.read_csv(file_path)\n",
      "/var/folders/r2/9vnxdxyd26380tms_8k538b40000gn/T/ipykernel_76190/1273740770.py:10: DtypeWarning: Columns (19) have mixed types. Specify dtype option on import or set low_memory=False.\n",
      "  df = pd.read_csv(file_path)\n",
      "/var/folders/r2/9vnxdxyd26380tms_8k538b40000gn/T/ipykernel_76190/1273740770.py:10: DtypeWarning: Columns (19) have mixed types. Specify dtype option on import or set low_memory=False.\n",
      "  df = pd.read_csv(file_path)\n",
      "/var/folders/r2/9vnxdxyd26380tms_8k538b40000gn/T/ipykernel_76190/1273740770.py:10: DtypeWarning: Columns (19,34,47,58) have mixed types. Specify dtype option on import or set low_memory=False.\n",
      "  df = pd.read_csv(file_path)\n",
      "/var/folders/r2/9vnxdxyd26380tms_8k538b40000gn/T/ipykernel_76190/1273740770.py:10: DtypeWarning: Columns (19) have mixed types. Specify dtype option on import or set low_memory=False.\n",
      "  df = pd.read_csv(file_path)\n",
      "/var/folders/r2/9vnxdxyd26380tms_8k538b40000gn/T/ipykernel_76190/1273740770.py:10: DtypeWarning: Columns (19) have mixed types. Specify dtype option on import or set low_memory=False.\n",
      "  df = pd.read_csv(file_path)\n",
      "/var/folders/r2/9vnxdxyd26380tms_8k538b40000gn/T/ipykernel_76190/1273740770.py:10: DtypeWarning: Columns (19) have mixed types. Specify dtype option on import or set low_memory=False.\n",
      "  df = pd.read_csv(file_path)\n",
      "/var/folders/r2/9vnxdxyd26380tms_8k538b40000gn/T/ipykernel_76190/1273740770.py:10: DtypeWarning: Columns (44) have mixed types. Specify dtype option on import or set low_memory=False.\n",
      "  df = pd.read_csv(file_path)\n",
      "/var/folders/r2/9vnxdxyd26380tms_8k538b40000gn/T/ipykernel_76190/1273740770.py:10: DtypeWarning: Columns (19) have mixed types. Specify dtype option on import or set low_memory=False.\n",
      "  df = pd.read_csv(file_path)\n",
      "/var/folders/r2/9vnxdxyd26380tms_8k538b40000gn/T/ipykernel_76190/1273740770.py:10: DtypeWarning: Columns (61) have mixed types. Specify dtype option on import or set low_memory=False.\n",
      "  df = pd.read_csv(file_path)\n",
      "/var/folders/r2/9vnxdxyd26380tms_8k538b40000gn/T/ipykernel_76190/1273740770.py:10: DtypeWarning: Columns (19) have mixed types. Specify dtype option on import or set low_memory=False.\n",
      "  df = pd.read_csv(file_path)\n",
      "/var/folders/r2/9vnxdxyd26380tms_8k538b40000gn/T/ipykernel_76190/1273740770.py:10: DtypeWarning: Columns (19) have mixed types. Specify dtype option on import or set low_memory=False.\n",
      "  df = pd.read_csv(file_path)\n",
      "/var/folders/r2/9vnxdxyd26380tms_8k538b40000gn/T/ipykernel_76190/1273740770.py:10: DtypeWarning: Columns (19) have mixed types. Specify dtype option on import or set low_memory=False.\n",
      "  df = pd.read_csv(file_path)\n",
      "/var/folders/r2/9vnxdxyd26380tms_8k538b40000gn/T/ipykernel_76190/1273740770.py:10: DtypeWarning: Columns (19) have mixed types. Specify dtype option on import or set low_memory=False.\n",
      "  df = pd.read_csv(file_path)\n",
      "/var/folders/r2/9vnxdxyd26380tms_8k538b40000gn/T/ipykernel_76190/1273740770.py:10: DtypeWarning: Columns (19) have mixed types. Specify dtype option on import or set low_memory=False.\n",
      "  df = pd.read_csv(file_path)\n",
      "/var/folders/r2/9vnxdxyd26380tms_8k538b40000gn/T/ipykernel_76190/1273740770.py:10: DtypeWarning: Columns (19) have mixed types. Specify dtype option on import or set low_memory=False.\n",
      "  df = pd.read_csv(file_path)\n"
     ]
    }
   ],
   "source": [
    "full_italy_merged_filtered = load_and_filter_csvs('/Users/wiktorrajca/Documents/GitHub/Data-Science-Honors-Thesis/code/italian_merge_full')"
   ]
  },
  {
   "cell_type": "code",
   "execution_count": 4,
   "id": "f2011f9e",
   "metadata": {},
   "outputs": [],
   "source": [
    "full_italy_merged_filtered.to_csv(\"italian_merge_full/italian_merge_full_filtered.csv\")"
   ]
  },
  {
   "cell_type": "markdown",
   "id": "950106be",
   "metadata": {},
   "source": [
    "### BUILDING THE GRAPH"
   ]
  },
  {
   "cell_type": "code",
   "execution_count": 5,
   "id": "92ff260c",
   "metadata": {},
   "outputs": [],
   "source": [
    "def load_or_initialize_graph(country_code):\n",
    "    \"\"\"\n",
    "    Loads an existing graph from GraphML if available, otherwise initializes a new one.\n",
    "    \"\"\"\n",
    "    if os.path.exists(f\"procurement_graph_{country_code}.graphml\"):\n",
    "        print(f\"✅ Loading existing graph from procurement_graph_{country_code}.graphml...\")\n",
    "        return nx.read_graphml(f\"procurement_graph_{country_code}.graphml\")\n",
    "    \n",
    "    print(\"🔍 Creating a new graph...\")\n",
    "    return nx.DiGraph()  # Initialize empty graph\n",
    "\n",
    "def add_procurement_winners(G, country_code, procurement_df):\n",
    "    \"\"\"\n",
    "    Processes the procurement DataFrame grouped by 'Unnamed: 0'. In this DiGraph:\n",
    "      - Each procurement group produces one procurement node.\n",
    "      - For each procurement group, company nodes are added (based on 'bvdidnumber')\n",
    "        and an edge is added from the company node to the procurement node.\n",
    "    \n",
    "    Debug output (limited summary):\n",
    "      - Prints a sample (first 5 rows) of the procurement group’s data.\n",
    "      - Prints the unique, cleaned company IDs and their count.\n",
    "      - Prints each edge addition attempt.\n",
    "      - For each procurement, prints the full list of incoming neighbors using G.predecessors(procurement_key)\n",
    "        and then filters these to list only those with \"type\" == \"Company\".\n",
    "      - For procurement \"24\", prints detailed neighbor info.\n",
    "    \n",
    "    For each procurement group:\n",
    "      - If any row has both WIN_COUNTRY_CODE and the company’s bvdidnumber prefix matching the target country_code,\n",
    "        only those rows are used (with \"country_matched\" = True);\n",
    "      - Otherwise, all rows in the group are used (with \"country_matched\" = False).\n",
    "    \n",
    "    Likelihood is computed as 1 divided by the number of unique companies in the selected group.\n",
    "    Both procurement and company IDs are converted to strings (and stripped) for consistency.\n",
    "    \"\"\"\n",
    "    added_procurements = 0\n",
    "    added_edges = 0\n",
    "\n",
    "    grouped = procurement_df.groupby('Unnamed: 0')\n",
    "\n",
    "    for procurement_id, group in grouped:\n",
    "        procurement_key = str(procurement_id).strip()\n",
    "        \n",
    "        # Copy and ensure key columns are strings without extraneous whitespace.\n",
    "        group = group.copy()\n",
    "        group['WIN_COUNTRY_CODE'] = group['WIN_COUNTRY_CODE'].astype(str).str.strip()\n",
    "        group['bvdidnumber'] = group['bvdidnumber'].astype(str).str.strip()\n",
    "        \n",
    "        # print(f\"\\n--- Processing Procurement {procurement_key} ---\")\n",
    "        # print(\"Sample group data (first 5 rows):\")\n",
    "        # print(group[['WIN_COUNTRY_CODE', 'bvdidnumber']].head())\n",
    "        \n",
    "        # Use strict matching if possible.\n",
    "        strict_mask = (group['WIN_COUNTRY_CODE'].str[:2] == country_code) & (group['bvdidnumber'].str[:2] == country_code)\n",
    "        if strict_mask.any():\n",
    "            selected = group[strict_mask]\n",
    "            country_matched_val = True\n",
    "            # print(\"Using strict matching rows (country_matched: True)\")\n",
    "        else:\n",
    "            selected = group\n",
    "            country_matched_val = False\n",
    "            # print(\"No strict match found; using all rows (country_matched: False)\")\n",
    "        \n",
    "        # Determine unique company IDs.\n",
    "        unique_company_ids = selected['bvdidnumber'].unique().tolist()\n",
    "        unique_company_ids = [cid.strip() for cid in unique_company_ids]\n",
    "        unique_companies = len(unique_company_ids)\n",
    "        likelihood = 1 / unique_companies\n",
    "        \n",
    "        # print(f\"Unique company IDs for procurement {procurement_key}: {unique_company_ids}\")\n",
    "        # print(f\"Computed unique companies = {unique_companies} and likelihood = {likelihood:.4f}\")\n",
    "        \n",
    "        # Add or update the procurement node.\n",
    "        if procurement_key not in G:\n",
    "            G.add_node(procurement_key, type=\"Procurement\", unique_companies_count=unique_companies)\n",
    "            added_procurements += 1\n",
    "            # print(f\"Procurement node {procurement_key} added.\")\n",
    "        else:\n",
    "            G.nodes[procurement_key]['unique_companies_count'] = unique_companies\n",
    "            # print(f\"Procurement node {procurement_key} updated with unique_companies_count.\")\n",
    "        \n",
    "        # Process each selected row.\n",
    "        for _, row in selected.iterrows():\n",
    "            company_id = row['bvdidnumber'].strip()\n",
    "            company_attributes = row.to_dict()\n",
    "            company_attributes.update({\n",
    "                \"type\": \"Company\",\n",
    "                \"bid_winner\": True,\n",
    "                \"likelyhood\": likelihood,\n",
    "                \"country_matched\": country_matched_val,\n",
    "                \"the_name\": row['name'],\n",
    "                \"the_country\": row['WIN_COUNTRY_CODE'],\n",
    "                \"the_town\": row['WIN_TOWN'],\n",
    "                \"the_postal_code\": row['WIN_POSTAL_CODE'],\n",
    "                \"the_identifier\": row['WIN_NATIONALID']\n",
    "            })\n",
    "            \n",
    "            if company_id not in G:\n",
    "                G.add_node(company_id, **company_attributes)\n",
    "                # print(f\"Company node {company_id} added.\")\n",
    "            else:\n",
    "                G.nodes[company_id].setdefault(\"likelyhood\", likelihood)\n",
    "                G.nodes[company_id].setdefault(\"country_matched\", country_matched_val)\n",
    "                # print(f\"Company node {company_id} exists; attributes ensured.\")\n",
    "            \n",
    "            # print(f\"Attempting to add edge from company {company_id} to procurement {procurement_key}\")\n",
    "            if not G.has_edge(company_id, procurement_key):\n",
    "                G.add_edge(company_id, procurement_key, relationship='WON')\n",
    "                added_edges += 1\n",
    "                # print(f\"Edge added from {company_id} to {procurement_key}\")\n",
    "            else:\n",
    "                print(f\"Edge from {company_id} to {procurement_key} already exists.\")\n",
    "        \n",
    "        # # Debug: Print full list of incoming neighbors (predecessors) for this procurement.\n",
    "        # all_predecessors = list(G.predecessors(procurement_key))\n",
    "        # print(f\"All incoming neighbors for procurement {procurement_key}: {all_predecessors}\")\n",
    "        \n",
    "        # # Now filter to those with type 'Company'.\n",
    "        # company_predecessors = [nbr for nbr in all_predecessors if G.nodes[nbr].get(\"type\") == \"Company\"]\n",
    "        # print(f\"Filtered company neighbors for procurement {procurement_key}: {company_predecessors}\")\n",
    "        \n",
    "        # if procurement_key == '24':\n",
    "        #     print(f\"Detailed neighbor info for procurement {procurement_key}:\")\n",
    "        #     for nbr in all_predecessors:\n",
    "        #         print(f\"Neighbor {nbr} attributes: {G.nodes[nbr]}\")\n",
    "    \n",
    "    print(f\"\\n✅ Added {added_procurements} procurement nodes, {added_edges} company-procurement edges.\")\n",
    "    return G\n",
    "\n",
    "def lowest_likelihood_group(G):\n",
    "    \"\"\"\n",
    "    Finds the procurement group (a procurement node along with its connected companies)\n",
    "    from a directed graph G (DiGraph) that has more than one company (i.e., multi-winner)\n",
    "    and returns the group that has the lowest likelihood value.\n",
    "    \n",
    "    The likelihood for a procurement is computed as 1 / (number of companies in the group),\n",
    "    so a lower likelihood indicates that more companies are connected.\n",
    "    \n",
    "    Returns:\n",
    "        dict: A dictionary containing the procurement key, the list of company nodes,\n",
    "              and the common likelihood value for that group. For example:\n",
    "                {\n",
    "                  \"procurement\": <procurement_node_key>,\n",
    "                  \"companies\": [<company_node_id>, ...],\n",
    "                  \"likelihood\": <lowest_likelihood_value>\n",
    "                }\n",
    "        If no multi-winner procurement is found, returns an empty dict.\n",
    "    \"\"\"\n",
    "    # First, create a dictionary of all procurement groups with more than one company.\n",
    "    multi_winner = {}\n",
    "    # Iterate over all procurement nodes (we assume they have \"type\" == \"Procurement\")\n",
    "    for node, data in G.nodes(data=True):\n",
    "        if data.get(\"type\") == \"Procurement\":\n",
    "            # In a DiGraph, companies are incoming neighbors (predecessors)\n",
    "            companies = [nbr for nbr in G.predecessors(node) \n",
    "                         if G.nodes[nbr].get(\"type\") == \"Company\"]\n",
    "            if len(companies) > 1:\n",
    "                # We assume all companies share the same likelihood (as computed during node creation)\n",
    "                likelihood = G.nodes[companies[0]].get(\"likelyhood\")\n",
    "                multi_winner[node] = {\n",
    "                    \"companies\": companies,\n",
    "                    \"likelihood\": likelihood\n",
    "                }\n",
    "    \n",
    "    if not multi_winner:\n",
    "        return {}\n",
    "    \n",
    "    # Find the procurement (key) with the lowest likelihood value.\n",
    "    lowest_procurement = min(multi_winner.keys(), key=lambda k: multi_winner[k][\"likelihood\"])\n",
    "    \n",
    "    result = {\n",
    "        \"procurement\": lowest_procurement,\n",
    "        \"number of members\": 1/multi_winner[lowest_procurement][\"likelihood\"],\n",
    "        \"likelihood\": multi_winner[lowest_procurement][\"likelihood\"],\n",
    "        \"companies\": multi_winner[lowest_procurement][\"companies\"]\n",
    "    }\n",
    "    \n",
    "    return result\n",
    "\n",
    "def check_procurements_with_multiple_companies(G):\n",
    "    \"\"\"\n",
    "    Checks which procurement nodes are connected to more than one company.\n",
    "    \n",
    "    Returns:\n",
    "        list: A list of procurement node keys with more than one company neighbor.\n",
    "    \"\"\"\n",
    "    multi_company_procurements = []\n",
    "    for node, attr in G.nodes(data=True):\n",
    "        if attr.get(\"type\") == \"Procurement\":\n",
    "            # For DiGraph, the associated companies are stored as predecessors.\n",
    "            company_predecessors = [nbr for nbr in G.predecessors(node) if G.nodes[nbr].get(\"type\") == \"Company\"]\n",
    "            if len(company_predecessors) > 1:\n",
    "                multi_company_procurements.append(node)\n",
    "                print(f\"Procurement node {node} is connected to {len(company_predecessors)} companies.\")\n",
    "    if not multi_company_procurements:\n",
    "        print(\"No procurement nodes are connected to more than one company.\")\n",
    "    return multi_company_procurements\n",
    "\n",
    "def check_graph_integrity(G):\n",
    "    \"\"\"\n",
    "    Checks if the graph meets integrity expectations:\n",
    "    - No orphan nodes (nodes with no edges)\n",
    "    - Only isolated pairs are connected by 'WON' edges\n",
    "    \"\"\"\n",
    "    print(\"🧪 Running graph integrity checks...\")\n",
    "\n",
    "    # 1. Orphan nodes\n",
    "    orphan_nodes = [n for n in G.nodes if G.degree(n) == 0]\n",
    "    if orphan_nodes:\n",
    "        print(f\"❌ Found {len(orphan_nodes)} orphan nodes.\")\n",
    "    else:\n",
    "        print(\"✅ No orphan nodes found.\")\n",
    "\n",
    "    # 2. Isolated pairs must be connected only by 'WON' edges\n",
    "    only_one_edge = []\n",
    "    for u, v in G.edges:\n",
    "        if G.degree(u) == 1 and G.degree(v) == 1:\n",
    "            rel = G.edges[u, v].get(\"relationship\")\n",
    "            if rel != \"WON\":\n",
    "                only_one_edge.append((u, v, rel))\n",
    "\n",
    "    if only_one_edge:\n",
    "        print(f\"❌ Found {len(only_one_edge)} node pairs connected only by non-WON edges.\")\n",
    "        for u, v, rel in only_one_edge[:5]:  # Show a few examples\n",
    "            print(f\"   - ({u}, {v}) via {rel}\")\n",
    "    else:\n",
    "        print(\"✅ All isolated pairs are connected by 'WON' edges only.\")\n",
    "\n",
    "    print(\"🧪 Integrity check complete.\\n\")"
   ]
  },
  {
   "cell_type": "code",
   "execution_count": 13,
   "id": "f419fd79",
   "metadata": {},
   "outputs": [
    {
     "name": "stdout",
     "output_type": "stream",
     "text": [
      "🔍 Creating a new graph...\n"
     ]
    }
   ],
   "source": [
    "graph = load_or_initialize_graph('france')"
   ]
  },
  {
   "cell_type": "code",
   "execution_count": 6,
   "id": "e79bc153",
   "metadata": {},
   "outputs": [
    {
     "name": "stdout",
     "output_type": "stream",
     "text": [
      "🔍 Creating a new graph...\n"
     ]
    }
   ],
   "source": [
    "graph_it = load_or_initialize_graph('it')"
   ]
  },
  {
   "cell_type": "code",
   "execution_count": 8,
   "id": "e3b2e4a8",
   "metadata": {},
   "outputs": [
    {
     "name": "stderr",
     "output_type": "stream",
     "text": [
      "/var/folders/r2/9vnxdxyd26380tms_8k538b40000gn/T/ipykernel_71712/1912202494.py:1: DtypeWarning: Columns (10,16,18,19,20,22,25,26,35,45,48,57,59,62,64) have mixed types. Specify dtype option on import or set low_memory=False.\n",
      "  full_france_merged_filtered = pd.read_csv('/Users/wiktorrajca/Documents/GitHub/Data-Science-Honors-Thesis/code/french_merge_full/french_merge_full_filtered.csv')\n"
     ]
    }
   ],
   "source": [
    "full_france_merged_filtered = pd.read_csv('/Users/wiktorrajca/Documents/GitHub/Data-Science-Honors-Thesis/code/french_merge_full/french_merge_full_filtered.csv')"
   ]
  },
  {
   "cell_type": "code",
   "execution_count": 14,
   "id": "c6146205",
   "metadata": {},
   "outputs": [
    {
     "name": "stdout",
     "output_type": "stream",
     "text": [
      "\n",
      "✅ Added 133460 procurement nodes, 467411 company-procurement edges.\n"
     ]
    },
    {
     "data": {
      "text/plain": [
       "<networkx.classes.digraph.DiGraph at 0x118e393d0>"
      ]
     },
     "execution_count": 14,
     "metadata": {},
     "output_type": "execute_result"
    }
   ],
   "source": [
    "add_procurement_winners(graph, 'FR', full_france_merged_filtered)"
   ]
  },
  {
   "cell_type": "code",
   "execution_count": 7,
   "id": "0102ff71",
   "metadata": {},
   "outputs": [
    {
     "name": "stderr",
     "output_type": "stream",
     "text": [
      "/var/folders/r2/9vnxdxyd26380tms_8k538b40000gn/T/ipykernel_87218/2887423521.py:1: DtypeWarning: Columns (10,16,18,19,20,25,26,35,48,54,57,59,62,64) have mixed types. Specify dtype option on import or set low_memory=False.\n",
      "  full_italy_merged_filtered = pd.read_csv('/Users/wiktorrajca/Documents/GitHub/Data-Science-Honors-Thesis/code/italian_merge_full/italian_merge_full_filtered.csv')\n"
     ]
    }
   ],
   "source": [
    "full_italy_merged_filtered = pd.read_csv('/Users/wiktorrajca/Documents/GitHub/Data-Science-Honors-Thesis/code/italian_merge_full/italian_merge_full_filtered.csv')"
   ]
  },
  {
   "cell_type": "code",
   "execution_count": 8,
   "id": "871f5430",
   "metadata": {},
   "outputs": [
    {
     "name": "stdout",
     "output_type": "stream",
     "text": [
      "\n",
      "✅ Added 40869 procurement nodes, 622577 company-procurement edges.\n"
     ]
    },
    {
     "data": {
      "text/plain": [
       "<networkx.classes.digraph.DiGraph at 0x103831910>"
      ]
     },
     "execution_count": 8,
     "metadata": {},
     "output_type": "execute_result"
    }
   ],
   "source": [
    "add_procurement_winners(graph_it, 'IT', full_italy_merged_filtered)"
   ]
  },
  {
   "cell_type": "code",
   "execution_count": 20,
   "id": "964daa3d",
   "metadata": {},
   "outputs": [
    {
     "name": "stdout",
     "output_type": "stream",
     "text": [
      "🧪 Running graph integrity checks...\n",
      "✅ No orphan nodes found.\n",
      "✅ All isolated pairs are connected by 'WON' edges only.\n",
      "🧪 Integrity check complete.\n",
      "\n"
     ]
    }
   ],
   "source": [
    "check_graph_integrity(graph)"
   ]
  },
  {
   "cell_type": "code",
   "execution_count": 9,
   "id": "195029b9",
   "metadata": {},
   "outputs": [
    {
     "name": "stdout",
     "output_type": "stream",
     "text": [
      "🧪 Running graph integrity checks...\n",
      "✅ No orphan nodes found.\n",
      "✅ All isolated pairs are connected by 'WON' edges only.\n",
      "🧪 Integrity check complete.\n",
      "\n"
     ]
    }
   ],
   "source": [
    "check_graph_integrity(graph_it)"
   ]
  },
  {
   "cell_type": "markdown",
   "id": "913bb17f",
   "metadata": {},
   "source": [
    "### MATCHING ENTITIES"
   ]
  },
  {
   "cell_type": "code",
   "execution_count": null,
   "id": "a793837c",
   "metadata": {},
   "outputs": [],
   "source": [
    "import os\n",
    "import pandas as pd\n",
    "import networkx as nx\n",
    "from tqdm import tqdm\n",
    "\n",
    "def add_matching_entities(G, df, source_column, target_column, the_name, first_name, country_code, town, relationship_type):\n",
    "    \"\"\"\n",
    "    Adds nodes and edges to the graph only if the `source_column` matches an existing node.\n",
    "    If `target_column` already exists in the graph, only adds the edge if it doesn’t exist.\n",
    "    Also stores full row data for each new node.\n",
    "    \"\"\"\n",
    "    if len(G) == 0:\n",
    "        print(\"⚠️ Graph is empty. Skipping entity matching.\")\n",
    "        return\n",
    "    existing_nodes = set(G.nodes)\n",
    "    existing_edges = set(G.edges)\n",
    "\n",
    "    for _, row in tqdm(df.iterrows(), total=len(df), desc=f\"→ {relationship_type} rows processed\"):\n",
    "        source_id = row[source_column]\n",
    "        target_id = row[target_column]\n",
    "        if pd.isna(row[target_column]):\n",
    "            continue\n",
    "        if source_id in existing_nodes and G.nodes[source_id].get(\"bid_winner\") == True:\n",
    "            if target_id not in existing_nodes:\n",
    "                node_attributes = row.to_dict()\n",
    "                node_attributes[\"type\"] = \"Person\" if first_name in row and pd.notna(row[first_name]) else \"Company\"\n",
    "                node_attributes['the_name'] = row[the_name]\n",
    "                node_attributes['the_country'] = row[country_code]\n",
    "                node_attributes['the_town'] = row[town]\n",
    "                G.add_node(target_id, **node_attributes)\n",
    "                existing_nodes.add(target_id)\n",
    "\n",
    "            if (target_id, source_id) not in existing_edges:\n",
    "                G.add_edge(target_id, source_id, relationship=relationship_type)\n",
    "                existing_edges.add((target_id, source_id))\n",
    "\n",
    "    print(f\"✅ {relationship_type} relationships updated. Graph now has {len(G.nodes)} nodes and {len(G.edges)} edges.\")\n",
    "\n",
    "\n",
    "def load_and_match_all(graph, shareholders_path, subsidiaries_path, basic_shareholders_path):\n",
    "    from tqdm import tqdm\n",
    "    folder_config = {\n",
    "        shareholders_path: {\n",
    "            \"source_column\": \"bvdidnumber\",\n",
    "            \"target_column\": \"shareholderbvdidnumber\",\n",
    "            \"the_name\": \"shareholdername\",\n",
    "            \"first_name\": \"shareholderfirstname\",\n",
    "            \"country_code\": \"shareholdercountryisocode\",\n",
    "            \"town\": \"shareholdercity\",\n",
    "            \"relationship_type\": \"SHAREHOLDER_OF\"\n",
    "        },\n",
    "        subsidiaries_path: {\n",
    "            \"source_column\": \"bvdidnumber\",\n",
    "            \"target_column\": \"subsidiarybvdidnumber\",\n",
    "            \"the_name\": \"subsidiaryname\",\n",
    "            \"first_name\": \"subsidiaryfirstname\",\n",
    "            \"country_code\": \"subsidiarycountryisocode\",\n",
    "            \"town\": \"subsidiarycity\",\n",
    "            \"relationship_type\": \"SUBSIDIARY_OF\"\n",
    "        },\n",
    "        basic_shareholders_path: [\n",
    "            {\n",
    "                \"source_column\": \"bvdidnumber\",\n",
    "                \"target_column\": \"duobvdidnumber\",\n",
    "                \"the_name\": \"duoname\",\n",
    "                \"first_name\": \"duofirstname\",\n",
    "                \"country_code\": \"duocountryisocode\",\n",
    "                \"town\": \"duocity\",\n",
    "                \"relationship_type\": \"DOMESTIC_ULTIMATE_OWNER_OF\"\n",
    "            },\n",
    "            {\n",
    "                \"source_column\": \"bvdidnumber\",\n",
    "                \"target_column\": \"guobvdidnumber\",\n",
    "                \"the_name\": \"guoname\",\n",
    "                \"first_name\": \"guofirstname\",\n",
    "                \"country_code\": \"guocountryisocode\",\n",
    "                \"town\": \"guocity\",\n",
    "                \"relationship_type\": \"GLOBAL_ULTIMATE_OWNER_OF\"\n",
    "            }\n",
    "        ]\n",
    "    }\n",
    "\n",
    "    for folder, configs in folder_config.items():\n",
    "        if isinstance(configs, dict):\n",
    "            configs = [configs]\n",
    "\n",
    "        file_list = [f for f in os.listdir(folder) if f.endswith(\".csv\")]\n",
    "        for file_name in tqdm(file_list, desc=f\"📂 Processing files in {folder}\"):\n",
    "            file_path = os.path.join(folder, file_name)\n",
    "            df = pd.read_csv(file_path, dtype=str)\n",
    "            for config in configs:\n",
    "                add_matching_entities(\n",
    "                    graph,\n",
    "                    df,\n",
    "                    source_column=config[\"source_column\"],\n",
    "                    target_column=config[\"target_column\"],\n",
    "                    the_name=config[\"the_name\"],\n",
    "                    first_name=config[\"first_name\"],\n",
    "                    country_code=config[\"country_code\"],\n",
    "                    town=config[\"town\"],\n",
    "                    relationship_type=config[\"relationship_type\"]\n",
    "                )\n",
    "\n",
    "# import os\n",
    "# import pandas as pd\n",
    "# import networkx as nx\n",
    "# from tqdm import tqdm\n",
    "# from concurrent.futures import ThreadPoolExecutor, as_completed\n",
    "\n",
    "# def read_csv_with_config(file_path, config):\n",
    "#     df = pd.read_csv(file_path, dtype=str)\n",
    "#     return df, config, os.path.basename(file_path)\n",
    "\n",
    "# def add_matching_entities(G, df, source_column, target_column, the_name, first_name, country_code, town, relationship_type):\n",
    "#     if len(G) == 0:\n",
    "#         print(\"⚠️ Graph is empty. Skipping entity matching.\")\n",
    "#         return\n",
    "#     existing_nodes = set(G.nodes)\n",
    "#     existing_edges = set(G.edges)\n",
    "\n",
    "#     for _, row in tqdm(df.iterrows(), total=len(df), desc=f\"→ {relationship_type} rows processed\", leave=False):\n",
    "#         source_id = row[source_column]\n",
    "#         target_id = row[target_column]\n",
    "#         if pd.isna(row[target_column]):\n",
    "#             continue\n",
    "#         if source_id in existing_nodes and G.nodes[source_id].get(\"bid_winner\") == True:\n",
    "#             if target_id not in existing_nodes:\n",
    "#                 node_attributes = row.to_dict()\n",
    "#                 node_attributes[\"type\"] = \"Person\" if first_name in row and pd.notna(row[first_name]) else \"Company\"\n",
    "#                 node_attributes['the_name'] = row[the_name]\n",
    "#                 node_attributes['the_country'] = row[country_code]\n",
    "#                 node_attributes['the_town'] = row[town]\n",
    "#                 G.add_node(target_id, **node_attributes)\n",
    "#                 existing_nodes.add(target_id)\n",
    "\n",
    "#             if (target_id, source_id) not in existing_edges:\n",
    "#                 G.add_edge(target_id, source_id, relationship=relationship_type)\n",
    "#                 existing_edges.add((target_id, source_id))\n",
    "\n",
    "#     print(f\"✅ {relationship_type} from {df.shape[0]} rows → Graph: {len(G.nodes)} nodes, {len(G.edges)} edges.\")\n",
    "\n",
    "# def load_and_match_all(graph, shareholders_path, subsidiaries_path, basic_shareholders_path, max_threads=8):\n",
    "#     folder_config = {\n",
    "#         shareholders_path: [{\n",
    "#             \"source_column\": \"bvdidnumber\",\n",
    "#             \"target_column\": \"shareholderbvdidnumber\",\n",
    "#             \"the_name\": \"shareholdername\",\n",
    "#             \"first_name\": \"shareholderfirstname\",\n",
    "#             \"country_code\": \"shareholdercountryisocode\",\n",
    "#             \"town\": \"shareholdercity\",\n",
    "#             \"relationship_type\": \"SHAREHOLDER_OF\"\n",
    "#         }],\n",
    "#         subsidiaries_path: [{\n",
    "#             \"source_column\": \"bvdidnumber\",\n",
    "#             \"target_column\": \"subsidiarybvdidnumber\",\n",
    "#             \"the_name\": \"subsidiaryname\",\n",
    "#             \"first_name\": \"subsidiaryfirstname\",\n",
    "#             \"country_code\": \"subsidiarycountryisocode\",\n",
    "#             \"town\": \"subsidiarycity\",\n",
    "#             \"relationship_type\": \"SUBSIDIARY_OF\"\n",
    "#         }],\n",
    "#         basic_shareholders_path: [\n",
    "#             {\n",
    "#                 \"source_column\": \"bvdidnumber\",\n",
    "#                 \"target_column\": \"duobvdidnumber\",\n",
    "#                 \"the_name\": \"duoname\",\n",
    "#                 \"first_name\": \"duofirstname\",\n",
    "#                 \"country_code\": \"duocountryisocode\",\n",
    "#                 \"town\": \"duocity\",\n",
    "#                 \"relationship_type\": \"DOMESTIC_ULTIMATE_OWNER_OF\"\n",
    "#             },\n",
    "#             {\n",
    "#                 \"source_column\": \"bvdidnumber\",\n",
    "#                 \"target_column\": \"guobvdidnumber\",\n",
    "#                 \"the_name\": \"guoname\",\n",
    "#                 \"first_name\": \"guofirstname\",\n",
    "#                 \"country_code\": \"guocountryisocode\",\n",
    "#                 \"town\": \"guocity\",\n",
    "#                 \"relationship_type\": \"GLOBAL_ULTIMATE_OWNER_OF\"\n",
    "#             }\n",
    "#         ]\n",
    "#     }\n",
    "\n",
    "#     for folder, configs in folder_config.items():\n",
    "#         if not os.path.isdir(folder):\n",
    "#             print(f\"⚠️ Folder does not exist: {folder}\")\n",
    "#             continue\n",
    "\n",
    "#         file_list = [os.path.join(folder, f) for f in os.listdir(folder) if f.endswith(\".csv\")]\n",
    "#         args_list = [(fp, config) for fp in file_list for config in (configs if isinstance(configs, list) else [configs])]\n",
    "\n",
    "#         print(f\"🧵 Reading {len(file_list)} files from {folder} with ThreadPoolExecutor...\")\n",
    "\n",
    "#         results = []\n",
    "#         with ThreadPoolExecutor(max_workers=max_threads) as executor:\n",
    "#             futures = [executor.submit(read_csv_with_config, fp, config) for fp, config in args_list]\n",
    "#             for future in tqdm(as_completed(futures), total=len(futures), desc=f\"📥 Loading files from {folder}\"):\n",
    "#                 results.append(future.result())\n",
    "\n",
    "#         for df, config, fname in results:\n",
    "#             print(f\"🔗 Matching entities from: {fname}\")\n",
    "#             add_matching_entities(\n",
    "#                 graph,\n",
    "#                 df,\n",
    "#                 source_column=config[\"source_column\"],\n",
    "#                 target_column=config[\"target_column\"],\n",
    "#                 the_name=config[\"the_name\"],\n",
    "#                 first_name=config[\"first_name\"],\n",
    "#                 country_code=config[\"country_code\"],\n",
    "#                 town=config[\"town\"],\n",
    "#                 relationship_type=config[\"relationship_type\"]\n",
    "#             )"
   ]
  },
  {
   "cell_type": "code",
   "execution_count": 23,
   "id": "642f5da3",
   "metadata": {},
   "outputs": [
    {
     "name": "stderr",
     "output_type": "stream",
     "text": [
      "→ SHAREHOLDER_OF rows processed: 100%|██████████| 10000000/10000000 [06:22<00:00, 26139.98it/s]ers_first_level:   0%|          | 0/18 [00:00<?, ?it/s]\n",
      "📂 Processing files in /Users/wiktorrajca/Desktop/Research/URAP_Fedyk/data/Orbis_Data/shareholders_first_level:   6%|▌         | 1/18 [06:38<1:52:46, 398.06s/it]"
     ]
    },
    {
     "name": "stdout",
     "output_type": "stream",
     "text": [
      "✅ SHAREHOLDER_OF relationships updated. Graph now has 336659 nodes and 472997 edges.\n"
     ]
    },
    {
     "name": "stderr",
     "output_type": "stream",
     "text": [
      "→ SHAREHOLDER_OF rows processed: 100%|██████████| 10000000/10000000 [19:21<00:00, 8612.73it/s]\n",
      "📂 Processing files in /Users/wiktorrajca/Desktop/Research/URAP_Fedyk/data/Orbis_Data/shareholders_first_level:  11%|█         | 2/18 [27:37<4:01:12, 904.55s/it]"
     ]
    },
    {
     "name": "stdout",
     "output_type": "stream",
     "text": [
      "✅ SHAREHOLDER_OF relationships updated. Graph now has 339703 nodes and 476282 edges.\n"
     ]
    },
    {
     "name": "stderr",
     "output_type": "stream",
     "text": [
      "→ SHAREHOLDER_OF rows processed: 100%|██████████| 10000000/10000000 [02:46<00:00, 60230.12it/s]\n",
      "📂 Processing files in /Users/wiktorrajca/Desktop/Research/URAP_Fedyk/data/Orbis_Data/shareholders_first_level:  17%|█▋        | 3/18 [30:39<2:23:39, 574.67s/it]"
     ]
    },
    {
     "name": "stdout",
     "output_type": "stream",
     "text": [
      "✅ SHAREHOLDER_OF relationships updated. Graph now has 344271 nodes and 481016 edges.\n"
     ]
    },
    {
     "name": "stderr",
     "output_type": "stream",
     "text": [
      "→ SHAREHOLDER_OF rows processed: 100%|██████████| 10000000/10000000 [02:46<00:00, 59981.96it/s]\n",
      "📂 Processing files in /Users/wiktorrajca/Desktop/Research/URAP_Fedyk/data/Orbis_Data/shareholders_first_level:  22%|██▏       | 4/18 [33:42<1:38:03, 420.25s/it]"
     ]
    },
    {
     "name": "stdout",
     "output_type": "stream",
     "text": [
      "✅ SHAREHOLDER_OF relationships updated. Graph now has 349330 nodes and 486398 edges.\n"
     ]
    },
    {
     "name": "stderr",
     "output_type": "stream",
     "text": [
      "→ SHAREHOLDER_OF rows processed: 100%|██████████| 10000000/10000000 [13:47<00:00, 12079.23it/s]\n",
      "📂 Processing files in /Users/wiktorrajca/Desktop/Research/URAP_Fedyk/data/Orbis_Data/shareholders_first_level:  28%|██▊       | 5/18 [47:46<2:04:10, 573.12s/it]"
     ]
    },
    {
     "name": "stdout",
     "output_type": "stream",
     "text": [
      "✅ SHAREHOLDER_OF relationships updated. Graph now has 356240 nodes and 493792 edges.\n"
     ]
    },
    {
     "name": "stderr",
     "output_type": "stream",
     "text": [
      "→ SHAREHOLDER_OF rows processed: 100%|██████████| 10000000/10000000 [02:40<00:00, 62169.27it/s]\n",
      "📂 Processing files in /Users/wiktorrajca/Desktop/Research/URAP_Fedyk/data/Orbis_Data/shareholders_first_level:  33%|███▎      | 6/18 [50:44<1:27:42, 438.51s/it]"
     ]
    },
    {
     "name": "stdout",
     "output_type": "stream",
     "text": [
      "✅ SHAREHOLDER_OF relationships updated. Graph now has 364552 nodes and 502610 edges.\n"
     ]
    },
    {
     "name": "stderr",
     "output_type": "stream",
     "text": [
      "→ SHAREHOLDER_OF rows processed: 100%|██████████| 10000000/10000000 [02:44<00:00, 60970.03it/s]\n",
      "📂 Processing files in /Users/wiktorrajca/Desktop/Research/URAP_Fedyk/data/Orbis_Data/shareholders_first_level:  39%|███▉      | 7/18 [53:44<1:04:54, 354.02s/it]"
     ]
    },
    {
     "name": "stdout",
     "output_type": "stream",
     "text": [
      "✅ SHAREHOLDER_OF relationships updated. Graph now has 368294 nodes and 506605 edges.\n"
     ]
    },
    {
     "name": "stderr",
     "output_type": "stream",
     "text": [
      "→ SHAREHOLDER_OF rows processed: 100%|██████████| 10000000/10000000 [02:43<00:00, 61216.18it/s]\n",
      "📂 Processing files in /Users/wiktorrajca/Desktop/Research/URAP_Fedyk/data/Orbis_Data/shareholders_first_level:  44%|████▍     | 8/18 [56:43<49:44, 298.45s/it]  "
     ]
    },
    {
     "name": "stdout",
     "output_type": "stream",
     "text": [
      "✅ SHAREHOLDER_OF relationships updated. Graph now has 373025 nodes and 511665 edges.\n"
     ]
    },
    {
     "name": "stderr",
     "output_type": "stream",
     "text": [
      "→ SHAREHOLDER_OF rows processed: 100%|██████████| 9999999/9999999 [02:44<00:00, 60924.44it/s]\n",
      "📂 Processing files in /Users/wiktorrajca/Desktop/Research/URAP_Fedyk/data/Orbis_Data/shareholders_first_level:  50%|█████     | 9/18 [59:44<39:15, 261.67s/it]"
     ]
    },
    {
     "name": "stdout",
     "output_type": "stream",
     "text": [
      "✅ SHAREHOLDER_OF relationships updated. Graph now has 409232 nodes and 561464 edges.\n"
     ]
    },
    {
     "name": "stderr",
     "output_type": "stream",
     "text": [
      "→ SHAREHOLDER_OF rows processed: 100%|██████████| 10000000/10000000 [02:44<00:00, 60698.42it/s]\n",
      "📂 Processing files in /Users/wiktorrajca/Desktop/Research/URAP_Fedyk/data/Orbis_Data/shareholders_first_level:  56%|█████▌    | 10/18 [1:02:47<31:38, 237.26s/it]"
     ]
    },
    {
     "name": "stdout",
     "output_type": "stream",
     "text": [
      "✅ SHAREHOLDER_OF relationships updated. Graph now has 425229 nodes and 578514 edges.\n"
     ]
    },
    {
     "name": "stderr",
     "output_type": "stream",
     "text": [
      "→ SHAREHOLDER_OF rows processed: 100%|██████████| 10000000/10000000 [02:46<00:00, 60106.73it/s]\n",
      "📂 Processing files in /Users/wiktorrajca/Desktop/Research/URAP_Fedyk/data/Orbis_Data/shareholders_first_level:  61%|██████    | 11/18 [1:05:50<25:46, 220.93s/it]"
     ]
    },
    {
     "name": "stdout",
     "output_type": "stream",
     "text": [
      "✅ SHAREHOLDER_OF relationships updated. Graph now has 443321 nodes and 599513 edges.\n"
     ]
    },
    {
     "name": "stderr",
     "output_type": "stream",
     "text": [
      "→ SHAREHOLDER_OF rows processed: 100%|██████████| 10000000/10000000 [02:46<00:00, 59995.45it/s]\n",
      "📂 Processing files in /Users/wiktorrajca/Desktop/Research/URAP_Fedyk/data/Orbis_Data/shareholders_first_level:  67%|██████▋   | 12/18 [1:08:55<20:58, 209.81s/it]"
     ]
    },
    {
     "name": "stdout",
     "output_type": "stream",
     "text": [
      "✅ SHAREHOLDER_OF relationships updated. Graph now has 446846 nodes and 603296 edges.\n"
     ]
    },
    {
     "name": "stderr",
     "output_type": "stream",
     "text": [
      "→ SHAREHOLDER_OF rows processed: 100%|██████████| 10000000/10000000 [02:46<00:00, 60135.64it/s]\n",
      "📂 Processing files in /Users/wiktorrajca/Desktop/Research/URAP_Fedyk/data/Orbis_Data/shareholders_first_level:  72%|███████▏  | 13/18 [1:11:58<16:48, 201.64s/it]"
     ]
    },
    {
     "name": "stdout",
     "output_type": "stream",
     "text": [
      "✅ SHAREHOLDER_OF relationships updated. Graph now has 450719 nodes and 607587 edges.\n"
     ]
    },
    {
     "name": "stderr",
     "output_type": "stream",
     "text": [
      "→ SHAREHOLDER_OF rows processed: 100%|██████████| 10000000/10000000 [02:45<00:00, 60382.43it/s]\n",
      "📂 Processing files in /Users/wiktorrajca/Desktop/Research/URAP_Fedyk/data/Orbis_Data/shareholders_first_level:  78%|███████▊  | 14/18 [1:15:01<13:04, 196.02s/it]"
     ]
    },
    {
     "name": "stdout",
     "output_type": "stream",
     "text": [
      "✅ SHAREHOLDER_OF relationships updated. Graph now has 459922 nodes and 617314 edges.\n"
     ]
    },
    {
     "name": "stderr",
     "output_type": "stream",
     "text": [
      "→ SHAREHOLDER_OF rows processed: 100%|██████████| 10000000/10000000 [02:47<00:00, 59833.23it/s]\n",
      "📂 Processing files in /Users/wiktorrajca/Desktop/Research/URAP_Fedyk/data/Orbis_Data/shareholders_first_level:  83%|████████▎ | 15/18 [1:18:06<09:38, 192.68s/it]"
     ]
    },
    {
     "name": "stdout",
     "output_type": "stream",
     "text": [
      "✅ SHAREHOLDER_OF relationships updated. Graph now has 474193 nodes and 632381 edges.\n"
     ]
    },
    {
     "name": "stderr",
     "output_type": "stream",
     "text": [
      "→ SHAREHOLDER_OF rows processed: 100%|██████████| 10000000/10000000 [02:48<00:00, 59508.43it/s]\n",
      "📂 Processing files in /Users/wiktorrajca/Desktop/Research/URAP_Fedyk/data/Orbis_Data/shareholders_first_level:  89%|████████▉ | 16/18 [1:21:10<06:20, 190.27s/it]"
     ]
    },
    {
     "name": "stdout",
     "output_type": "stream",
     "text": [
      "✅ SHAREHOLDER_OF relationships updated. Graph now has 476994 nodes and 635557 edges.\n"
     ]
    },
    {
     "name": "stderr",
     "output_type": "stream",
     "text": [
      "→ SHAREHOLDER_OF rows processed: 100%|██████████| 10000000/10000000 [02:47<00:00, 59557.59it/s]\n",
      "📂 Processing files in /Users/wiktorrajca/Desktop/Research/URAP_Fedyk/data/Orbis_Data/shareholders_first_level:  94%|█████████▍| 17/18 [1:24:16<03:08, 188.79s/it]"
     ]
    },
    {
     "name": "stdout",
     "output_type": "stream",
     "text": [
      "✅ SHAREHOLDER_OF relationships updated. Graph now has 478387 nodes and 637143 edges.\n"
     ]
    },
    {
     "name": "stderr",
     "output_type": "stream",
     "text": [
      "→ SHAREHOLDER_OF rows processed: 100%|██████████| 4311242/4311242 [01:13<00:00, 58625.51it/s]\n",
      "📂 Processing files in /Users/wiktorrajca/Desktop/Research/URAP_Fedyk/data/Orbis_Data/shareholders_first_level: 100%|██████████| 18/18 [1:25:38<00:00, 285.45s/it]\n"
     ]
    },
    {
     "name": "stdout",
     "output_type": "stream",
     "text": [
      "✅ SHAREHOLDER_OF relationships updated. Graph now has 480522 nodes and 639579 edges.\n"
     ]
    },
    {
     "name": "stderr",
     "output_type": "stream",
     "text": [
      "→ SUBSIDIARY_OF rows processed: 100%|██████████| 9999999/9999999 [02:47<00:00, 59813.75it/s]iaries_first_level:   0%|          | 0/3 [00:00<?, ?it/s]\n",
      "📂 Processing files in /Users/wiktorrajca/Desktop/Research/URAP_Fedyk/data/Orbis_Data/subsidiaries_first_level:  33%|███▎      | 1/3 [03:01<06:02, 181.45s/it]"
     ]
    },
    {
     "name": "stdout",
     "output_type": "stream",
     "text": [
      "✅ SUBSIDIARY_OF relationships updated. Graph now has 530147 nodes and 699901 edges.\n"
     ]
    },
    {
     "name": "stderr",
     "output_type": "stream",
     "text": [
      "→ SUBSIDIARY_OF rows processed: 100%|██████████| 2125877/2125877 [00:35<00:00, 60191.85it/s]\n",
      "📂 Processing files in /Users/wiktorrajca/Desktop/Research/URAP_Fedyk/data/Orbis_Data/subsidiaries_first_level:  67%|██████▋   | 2/3 [03:40<01:37, 97.59s/it] "
     ]
    },
    {
     "name": "stdout",
     "output_type": "stream",
     "text": [
      "✅ SUBSIDIARY_OF relationships updated. Graph now has 532850 nodes and 703566 edges.\n"
     ]
    },
    {
     "name": "stderr",
     "output_type": "stream",
     "text": [
      "→ SUBSIDIARY_OF rows processed: 100%|██████████| 10000000/10000000 [02:46<00:00, 60088.98it/s]\n",
      "📂 Processing files in /Users/wiktorrajca/Desktop/Research/URAP_Fedyk/data/Orbis_Data/subsidiaries_first_level: 100%|██████████| 3/3 [06:40<00:00, 133.58s/it]\n"
     ]
    },
    {
     "name": "stdout",
     "output_type": "stream",
     "text": [
      "✅ SUBSIDIARY_OF relationships updated. Graph now has 539022 nodes and 711442 edges.\n"
     ]
    },
    {
     "name": "stderr",
     "output_type": "stream",
     "text": [
      "→ DOMESTIC_ULTIMATE_OWNER_OF rows processed: 100%|██████████| 9999999/9999999 [02:46<00:00, 59888.56it/s]nfo:   0%|          | 0/7 [00:00<?, ?it/s]\n"
     ]
    },
    {
     "name": "stdout",
     "output_type": "stream",
     "text": [
      "✅ DOMESTIC_ULTIMATE_OWNER_OF relationships updated. Graph now has 540343 nodes and 722990 edges.\n"
     ]
    },
    {
     "name": "stderr",
     "output_type": "stream",
     "text": [
      "→ GLOBAL_ULTIMATE_OWNER_OF rows processed: 100%|██████████| 9999999/9999999 [02:47<00:00, 59549.44it/s]\n",
      "📂 Processing files in /Users/wiktorrajca/Desktop/Research/URAP_Fedyk/data/Orbis_Data/basic_shareholder_info:  14%|█▍        | 1/7 [06:30<39:05, 390.91s/it]"
     ]
    },
    {
     "name": "stdout",
     "output_type": "stream",
     "text": [
      "✅ GLOBAL_ULTIMATE_OWNER_OF relationships updated. Graph now has 541411 nodes and 725145 edges.\n"
     ]
    },
    {
     "name": "stderr",
     "output_type": "stream",
     "text": [
      "→ DOMESTIC_ULTIMATE_OWNER_OF rows processed: 100%|██████████| 9004061/9004061 [02:34<00:00, 58392.59it/s]\n"
     ]
    },
    {
     "name": "stdout",
     "output_type": "stream",
     "text": [
      "✅ DOMESTIC_ULTIMATE_OWNER_OF relationships updated. Graph now has 541452 nodes and 726302 edges.\n"
     ]
    },
    {
     "name": "stderr",
     "output_type": "stream",
     "text": [
      "→ GLOBAL_ULTIMATE_OWNER_OF rows processed: 100%|██████████| 9004061/9004061 [02:30<00:00, 59894.14it/s]\n",
      "📂 Processing files in /Users/wiktorrajca/Desktop/Research/URAP_Fedyk/data/Orbis_Data/basic_shareholder_info:  29%|██▊       | 2/7 [12:29<30:59, 371.86s/it]"
     ]
    },
    {
     "name": "stdout",
     "output_type": "stream",
     "text": [
      "✅ GLOBAL_ULTIMATE_OWNER_OF relationships updated. Graph now has 541483 nodes and 726418 edges.\n"
     ]
    },
    {
     "name": "stderr",
     "output_type": "stream",
     "text": [
      "→ DOMESTIC_ULTIMATE_OWNER_OF rows processed: 100%|██████████| 10000000/10000000 [02:47<00:00, 59746.31it/s]\n"
     ]
    },
    {
     "name": "stdout",
     "output_type": "stream",
     "text": [
      "✅ DOMESTIC_ULTIMATE_OWNER_OF relationships updated. Graph now has 541586 nodes and 727426 edges.\n"
     ]
    },
    {
     "name": "stderr",
     "output_type": "stream",
     "text": [
      "→ GLOBAL_ULTIMATE_OWNER_OF rows processed: 100%|██████████| 10000000/10000000 [02:47<00:00, 59534.65it/s]\n",
      "📂 Processing files in /Users/wiktorrajca/Desktop/Research/URAP_Fedyk/data/Orbis_Data/basic_shareholder_info:  43%|████▎     | 3/7 [19:04<25:29, 382.29s/it]"
     ]
    },
    {
     "name": "stdout",
     "output_type": "stream",
     "text": [
      "✅ GLOBAL_ULTIMATE_OWNER_OF relationships updated. Graph now has 541620 nodes and 727477 edges.\n"
     ]
    },
    {
     "name": "stderr",
     "output_type": "stream",
     "text": [
      "→ DOMESTIC_ULTIMATE_OWNER_OF rows processed: 100%|██████████| 10000000/10000000 [02:48<00:00, 59304.17it/s]\n"
     ]
    },
    {
     "name": "stdout",
     "output_type": "stream",
     "text": [
      "✅ DOMESTIC_ULTIMATE_OWNER_OF relationships updated. Graph now has 541709 nodes and 728285 edges.\n"
     ]
    },
    {
     "name": "stderr",
     "output_type": "stream",
     "text": [
      "→ GLOBAL_ULTIMATE_OWNER_OF rows processed: 100%|██████████| 10000000/10000000 [02:47<00:00, 59735.25it/s]\n",
      "📂 Processing files in /Users/wiktorrajca/Desktop/Research/URAP_Fedyk/data/Orbis_Data/basic_shareholder_info:  57%|█████▋    | 4/7 [25:41<19:25, 388.40s/it]"
     ]
    },
    {
     "name": "stdout",
     "output_type": "stream",
     "text": [
      "✅ GLOBAL_ULTIMATE_OWNER_OF relationships updated. Graph now has 541741 nodes and 728345 edges.\n"
     ]
    },
    {
     "name": "stderr",
     "output_type": "stream",
     "text": [
      "→ DOMESTIC_ULTIMATE_OWNER_OF rows processed: 100%|██████████| 10000000/10000000 [02:48<00:00, 59301.04it/s]\n"
     ]
    },
    {
     "name": "stdout",
     "output_type": "stream",
     "text": [
      "✅ DOMESTIC_ULTIMATE_OWNER_OF relationships updated. Graph now has 541913 nodes and 730611 edges.\n"
     ]
    },
    {
     "name": "stderr",
     "output_type": "stream",
     "text": [
      "→ GLOBAL_ULTIMATE_OWNER_OF rows processed: 100%|██████████| 10000000/10000000 [02:48<00:00, 59503.09it/s]\n",
      "📂 Processing files in /Users/wiktorrajca/Desktop/Research/URAP_Fedyk/data/Orbis_Data/basic_shareholder_info:  71%|███████▏  | 5/7 [32:20<13:04, 392.08s/it]"
     ]
    },
    {
     "name": "stdout",
     "output_type": "stream",
     "text": [
      "✅ GLOBAL_ULTIMATE_OWNER_OF relationships updated. Graph now has 542023 nodes and 730852 edges.\n"
     ]
    },
    {
     "name": "stderr",
     "output_type": "stream",
     "text": [
      "→ DOMESTIC_ULTIMATE_OWNER_OF rows processed: 100%|██████████| 10000000/10000000 [02:48<00:00, 59288.58it/s]\n"
     ]
    },
    {
     "name": "stdout",
     "output_type": "stream",
     "text": [
      "✅ DOMESTIC_ULTIMATE_OWNER_OF relationships updated. Graph now has 542090 nodes and 733561 edges.\n"
     ]
    },
    {
     "name": "stderr",
     "output_type": "stream",
     "text": [
      "→ GLOBAL_ULTIMATE_OWNER_OF rows processed: 100%|██████████| 10000000/10000000 [02:49<00:00, 59136.28it/s]\n",
      "📂 Processing files in /Users/wiktorrajca/Desktop/Research/URAP_Fedyk/data/Orbis_Data/basic_shareholder_info:  86%|████████▌ | 6/7 [39:04<06:36, 396.25s/it]"
     ]
    },
    {
     "name": "stdout",
     "output_type": "stream",
     "text": [
      "✅ GLOBAL_ULTIMATE_OWNER_OF relationships updated. Graph now has 542120 nodes and 733619 edges.\n"
     ]
    },
    {
     "name": "stderr",
     "output_type": "stream",
     "text": [
      "→ DOMESTIC_ULTIMATE_OWNER_OF rows processed: 100%|██████████| 10000000/10000000 [02:48<00:00, 59223.41it/s]\n"
     ]
    },
    {
     "name": "stdout",
     "output_type": "stream",
     "text": [
      "✅ DOMESTIC_ULTIMATE_OWNER_OF relationships updated. Graph now has 542169 nodes and 734218 edges.\n"
     ]
    },
    {
     "name": "stderr",
     "output_type": "stream",
     "text": [
      "→ GLOBAL_ULTIMATE_OWNER_OF rows processed: 100%|██████████| 10000000/10000000 [02:48<00:00, 59447.50it/s]\n",
      "📂 Processing files in /Users/wiktorrajca/Desktop/Research/URAP_Fedyk/data/Orbis_Data/basic_shareholder_info: 100%|██████████| 7/7 [45:42<00:00, 391.82s/it]"
     ]
    },
    {
     "name": "stdout",
     "output_type": "stream",
     "text": [
      "✅ GLOBAL_ULTIMATE_OWNER_OF relationships updated. Graph now has 542189 nodes and 734256 edges.\n"
     ]
    },
    {
     "name": "stderr",
     "output_type": "stream",
     "text": [
      "\n"
     ]
    }
   ],
   "source": [
    "load_and_match_all(graph, '/Users/wiktorrajca/Desktop/Research/URAP_Fedyk/data/Orbis_Data/shareholders_first_level', '/Users/wiktorrajca/Desktop/Research/URAP_Fedyk/data/Orbis_Data/subsidiaries_first_level', '/Users/wiktorrajca/Desktop/Research/URAP_Fedyk/data/Orbis_Data/basic_shareholder_info')"
   ]
  },
  {
   "cell_type": "code",
   "execution_count": 11,
   "id": "eae516db",
   "metadata": {},
   "outputs": [
    {
     "name": "stderr",
     "output_type": "stream",
     "text": [
      "→ SHAREHOLDER_OF rows processed: 100%|██████████| 10000000/10000000 [02:53<00:00, 57586.70it/s]ers_first_level:   0%|          | 0/18 [00:00<?, ?it/s]\n",
      "📂 Processing files in /Users/wiktorrajca/Desktop/Research/URAP_Fedyk/data/Orbis_Data/shareholders_first_level:   6%|▌         | 1/18 [03:10<53:56, 190.41s/it]"
     ]
    },
    {
     "name": "stdout",
     "output_type": "stream",
     "text": [
      "✅ SHAREHOLDER_OF relationships updated. Graph now has 218640 nodes and 624821 edges.\n"
     ]
    },
    {
     "name": "stderr",
     "output_type": "stream",
     "text": [
      "→ SHAREHOLDER_OF rows processed: 100%|██████████| 10000000/10000000 [02:50<00:00, 58494.15it/s]\n",
      "📂 Processing files in /Users/wiktorrajca/Desktop/Research/URAP_Fedyk/data/Orbis_Data/shareholders_first_level:  11%|█         | 2/18 [06:18<50:26, 189.14s/it]"
     ]
    },
    {
     "name": "stdout",
     "output_type": "stream",
     "text": [
      "✅ SHAREHOLDER_OF relationships updated. Graph now has 219142 nodes and 625323 edges.\n"
     ]
    },
    {
     "name": "stderr",
     "output_type": "stream",
     "text": [
      "→ SHAREHOLDER_OF rows processed: 100%|██████████| 10000000/10000000 [02:52<00:00, 58041.82it/s]\n",
      "📂 Processing files in /Users/wiktorrajca/Desktop/Research/URAP_Fedyk/data/Orbis_Data/shareholders_first_level:  17%|█▋        | 3/18 [09:27<47:17, 189.19s/it]"
     ]
    },
    {
     "name": "stdout",
     "output_type": "stream",
     "text": [
      "✅ SHAREHOLDER_OF relationships updated. Graph now has 219774 nodes and 625965 edges.\n"
     ]
    },
    {
     "name": "stderr",
     "output_type": "stream",
     "text": [
      "→ SHAREHOLDER_OF rows processed: 100%|██████████| 10000000/10000000 [02:49<00:00, 59063.40it/s]\n",
      "📂 Processing files in /Users/wiktorrajca/Desktop/Research/URAP_Fedyk/data/Orbis_Data/shareholders_first_level:  22%|██▏       | 4/18 [12:34<43:54, 188.19s/it]"
     ]
    },
    {
     "name": "stdout",
     "output_type": "stream",
     "text": [
      "✅ SHAREHOLDER_OF relationships updated. Graph now has 225151 nodes and 631473 edges.\n"
     ]
    },
    {
     "name": "stderr",
     "output_type": "stream",
     "text": [
      "→ SHAREHOLDER_OF rows processed: 100%|██████████| 10000000/10000000 [02:48<00:00, 59352.22it/s]\n",
      "📂 Processing files in /Users/wiktorrajca/Desktop/Research/URAP_Fedyk/data/Orbis_Data/shareholders_first_level:  28%|██▊       | 5/18 [15:39<40:32, 187.14s/it]"
     ]
    },
    {
     "name": "stdout",
     "output_type": "stream",
     "text": [
      "✅ SHAREHOLDER_OF relationships updated. Graph now has 228348 nodes and 634777 edges.\n"
     ]
    },
    {
     "name": "stderr",
     "output_type": "stream",
     "text": [
      "→ SHAREHOLDER_OF rows processed: 100%|██████████| 10000000/10000000 [02:48<00:00, 59482.58it/s]\n",
      "📂 Processing files in /Users/wiktorrajca/Desktop/Research/URAP_Fedyk/data/Orbis_Data/shareholders_first_level:  33%|███▎      | 6/18 [18:44<37:17, 186.45s/it]"
     ]
    },
    {
     "name": "stdout",
     "output_type": "stream",
     "text": [
      "✅ SHAREHOLDER_OF relationships updated. Graph now has 230124 nodes and 636596 edges.\n"
     ]
    },
    {
     "name": "stderr",
     "output_type": "stream",
     "text": [
      "→ SHAREHOLDER_OF rows processed: 100%|██████████| 10000000/10000000 [02:48<00:00, 59278.28it/s]\n",
      "📂 Processing files in /Users/wiktorrajca/Desktop/Research/URAP_Fedyk/data/Orbis_Data/shareholders_first_level:  39%|███▉      | 7/18 [21:50<34:07, 186.18s/it]"
     ]
    },
    {
     "name": "stdout",
     "output_type": "stream",
     "text": [
      "✅ SHAREHOLDER_OF relationships updated. Graph now has 231420 nodes and 637926 edges.\n"
     ]
    },
    {
     "name": "stderr",
     "output_type": "stream",
     "text": [
      "→ SHAREHOLDER_OF rows processed: 100%|██████████| 10000000/10000000 [02:50<00:00, 58773.90it/s]\n",
      "📂 Processing files in /Users/wiktorrajca/Desktop/Research/URAP_Fedyk/data/Orbis_Data/shareholders_first_level:  44%|████▍     | 8/18 [24:58<31:05, 186.60s/it]"
     ]
    },
    {
     "name": "stdout",
     "output_type": "stream",
     "text": [
      "✅ SHAREHOLDER_OF relationships updated. Graph now has 233476 nodes and 640028 edges.\n"
     ]
    },
    {
     "name": "stderr",
     "output_type": "stream",
     "text": [
      "→ SHAREHOLDER_OF rows processed: 100%|██████████| 9999999/9999999 [02:49<00:00, 58942.04it/s]\n",
      "📂 Processing files in /Users/wiktorrajca/Desktop/Research/URAP_Fedyk/data/Orbis_Data/shareholders_first_level:  50%|█████     | 9/18 [28:05<28:02, 186.95s/it]"
     ]
    },
    {
     "name": "stdout",
     "output_type": "stream",
     "text": [
      "✅ SHAREHOLDER_OF relationships updated. Graph now has 270600 nodes and 680526 edges.\n"
     ]
    },
    {
     "name": "stderr",
     "output_type": "stream",
     "text": [
      "→ SHAREHOLDER_OF rows processed: 100%|██████████| 10000000/10000000 [02:48<00:00, 59242.48it/s]\n",
      "📂 Processing files in /Users/wiktorrajca/Desktop/Research/URAP_Fedyk/data/Orbis_Data/shareholders_first_level:  56%|█████▌    | 10/18 [31:13<24:56, 187.03s/it]"
     ]
    },
    {
     "name": "stdout",
     "output_type": "stream",
     "text": [
      "✅ SHAREHOLDER_OF relationships updated. Graph now has 286170 nodes and 696572 edges.\n"
     ]
    },
    {
     "name": "stderr",
     "output_type": "stream",
     "text": [
      "→ SHAREHOLDER_OF rows processed: 100%|██████████| 10000000/10000000 [02:49<00:00, 59161.32it/s]\n",
      "📂 Processing files in /Users/wiktorrajca/Desktop/Research/URAP_Fedyk/data/Orbis_Data/shareholders_first_level:  61%|██████    | 11/18 [34:20<21:49, 187.10s/it]"
     ]
    },
    {
     "name": "stdout",
     "output_type": "stream",
     "text": [
      "✅ SHAREHOLDER_OF relationships updated. Graph now has 306246 nodes and 717564 edges.\n"
     ]
    },
    {
     "name": "stderr",
     "output_type": "stream",
     "text": [
      "→ SHAREHOLDER_OF rows processed: 100%|██████████| 10000000/10000000 [02:49<00:00, 59118.14it/s]\n",
      "📂 Processing files in /Users/wiktorrajca/Desktop/Research/URAP_Fedyk/data/Orbis_Data/shareholders_first_level:  67%|██████▋   | 12/18 [37:27<18:42, 187.02s/it]"
     ]
    },
    {
     "name": "stdout",
     "output_type": "stream",
     "text": [
      "✅ SHAREHOLDER_OF relationships updated. Graph now has 314342 nodes and 726045 edges.\n"
     ]
    },
    {
     "name": "stderr",
     "output_type": "stream",
     "text": [
      "→ SHAREHOLDER_OF rows processed: 100%|██████████| 10000000/10000000 [02:56<00:00, 56790.84it/s]\n",
      "📂 Processing files in /Users/wiktorrajca/Desktop/Research/URAP_Fedyk/data/Orbis_Data/shareholders_first_level:  72%|███████▏  | 13/18 [40:41<15:45, 189.13s/it]"
     ]
    },
    {
     "name": "stdout",
     "output_type": "stream",
     "text": [
      "✅ SHAREHOLDER_OF relationships updated. Graph now has 315942 nodes and 727758 edges.\n"
     ]
    },
    {
     "name": "stderr",
     "output_type": "stream",
     "text": [
      "→ SHAREHOLDER_OF rows processed: 100%|██████████| 10000000/10000000 [02:56<00:00, 56651.92it/s]\n",
      "📂 Processing files in /Users/wiktorrajca/Desktop/Research/URAP_Fedyk/data/Orbis_Data/shareholders_first_level:  78%|███████▊  | 14/18 [43:57<12:45, 191.26s/it]"
     ]
    },
    {
     "name": "stdout",
     "output_type": "stream",
     "text": [
      "✅ SHAREHOLDER_OF relationships updated. Graph now has 329900 nodes and 742338 edges.\n"
     ]
    },
    {
     "name": "stderr",
     "output_type": "stream",
     "text": [
      "→ SHAREHOLDER_OF rows processed: 100%|██████████| 10000000/10000000 [02:56<00:00, 56522.35it/s]\n",
      "📂 Processing files in /Users/wiktorrajca/Desktop/Research/URAP_Fedyk/data/Orbis_Data/shareholders_first_level:  83%|████████▎ | 15/18 [47:14<09:39, 193.11s/it]"
     ]
    },
    {
     "name": "stdout",
     "output_type": "stream",
     "text": [
      "✅ SHAREHOLDER_OF relationships updated. Graph now has 344513 nodes and 757643 edges.\n"
     ]
    },
    {
     "name": "stderr",
     "output_type": "stream",
     "text": [
      "→ SHAREHOLDER_OF rows processed: 100%|██████████| 10000000/10000000 [02:50<00:00, 58511.67it/s]\n",
      "📂 Processing files in /Users/wiktorrajca/Desktop/Research/URAP_Fedyk/data/Orbis_Data/shareholders_first_level:  89%|████████▉ | 16/18 [50:24<06:24, 192.07s/it]"
     ]
    },
    {
     "name": "stdout",
     "output_type": "stream",
     "text": [
      "✅ SHAREHOLDER_OF relationships updated. Graph now has 346283 nodes and 759530 edges.\n"
     ]
    },
    {
     "name": "stderr",
     "output_type": "stream",
     "text": [
      "→ SHAREHOLDER_OF rows processed: 100%|██████████| 10000000/10000000 [02:51<00:00, 58248.84it/s]\n",
      "📂 Processing files in /Users/wiktorrajca/Desktop/Research/URAP_Fedyk/data/Orbis_Data/shareholders_first_level:  94%|█████████▍| 17/18 [53:35<03:11, 191.72s/it]"
     ]
    },
    {
     "name": "stdout",
     "output_type": "stream",
     "text": [
      "✅ SHAREHOLDER_OF relationships updated. Graph now has 347991 nodes and 761331 edges.\n"
     ]
    },
    {
     "name": "stderr",
     "output_type": "stream",
     "text": [
      "→ SHAREHOLDER_OF rows processed: 100%|██████████| 4311242/4311242 [01:14<00:00, 58030.39it/s]\n",
      "📂 Processing files in /Users/wiktorrajca/Desktop/Research/URAP_Fedyk/data/Orbis_Data/shareholders_first_level: 100%|██████████| 18/18 [54:58<00:00, 183.27s/it]\n"
     ]
    },
    {
     "name": "stdout",
     "output_type": "stream",
     "text": [
      "✅ SHAREHOLDER_OF relationships updated. Graph now has 349941 nodes and 763418 edges.\n"
     ]
    },
    {
     "name": "stderr",
     "output_type": "stream",
     "text": [
      "→ SUBSIDIARY_OF rows processed: 100%|██████████| 9999999/9999999 [02:51<00:00, 58179.55it/s]iaries_first_level:   0%|          | 0/3 [00:00<?, ?it/s]\n",
      "📂 Processing files in /Users/wiktorrajca/Desktop/Research/URAP_Fedyk/data/Orbis_Data/subsidiaries_first_level:  33%|███▎      | 1/3 [03:06<06:12, 186.20s/it]"
     ]
    },
    {
     "name": "stdout",
     "output_type": "stream",
     "text": [
      "✅ SUBSIDIARY_OF relationships updated. Graph now has 377371 nodes and 799149 edges.\n"
     ]
    },
    {
     "name": "stderr",
     "output_type": "stream",
     "text": [
      "→ SUBSIDIARY_OF rows processed: 100%|██████████| 2125877/2125877 [00:36<00:00, 58415.55it/s]\n",
      "📂 Processing files in /Users/wiktorrajca/Desktop/Research/URAP_Fedyk/data/Orbis_Data/subsidiaries_first_level:  67%|██████▋   | 2/3 [03:46<01:40, 100.33s/it]"
     ]
    },
    {
     "name": "stdout",
     "output_type": "stream",
     "text": [
      "✅ SUBSIDIARY_OF relationships updated. Graph now has 378288 nodes and 800341 edges.\n"
     ]
    },
    {
     "name": "stderr",
     "output_type": "stream",
     "text": [
      "→ SUBSIDIARY_OF rows processed: 100%|██████████| 10000000/10000000 [02:51<00:00, 58411.70it/s]\n",
      "📂 Processing files in /Users/wiktorrajca/Desktop/Research/URAP_Fedyk/data/Orbis_Data/subsidiaries_first_level: 100%|██████████| 3/3 [06:52<00:00, 137.37s/it]\n"
     ]
    },
    {
     "name": "stdout",
     "output_type": "stream",
     "text": [
      "✅ SUBSIDIARY_OF relationships updated. Graph now has 381900 nodes and 805132 edges.\n"
     ]
    },
    {
     "name": "stderr",
     "output_type": "stream",
     "text": [
      "→ DOMESTIC_ULTIMATE_OWNER_OF rows processed: 100%|██████████| 9999999/9999999 [02:52<00:00, 57857.14it/s]nfo:   0%|          | 0/7 [00:00<?, ?it/s]\n"
     ]
    },
    {
     "name": "stdout",
     "output_type": "stream",
     "text": [
      "✅ DOMESTIC_ULTIMATE_OWNER_OF relationships updated. Graph now has 383315 nodes and 809960 edges.\n"
     ]
    },
    {
     "name": "stderr",
     "output_type": "stream",
     "text": [
      "→ GLOBAL_ULTIMATE_OWNER_OF rows processed: 100%|██████████| 9999999/9999999 [02:51<00:00, 58200.19it/s]\n",
      "📂 Processing files in /Users/wiktorrajca/Desktop/Research/URAP_Fedyk/data/Orbis_Data/basic_shareholder_info:  14%|█▍        | 1/7 [06:49<40:56, 409.43s/it]"
     ]
    },
    {
     "name": "stdout",
     "output_type": "stream",
     "text": [
      "✅ GLOBAL_ULTIMATE_OWNER_OF relationships updated. Graph now has 384000 nodes and 810966 edges.\n"
     ]
    },
    {
     "name": "stderr",
     "output_type": "stream",
     "text": [
      "→ DOMESTIC_ULTIMATE_OWNER_OF rows processed: 100%|██████████| 9004061/9004061 [02:36<00:00, 57478.90it/s]\n"
     ]
    },
    {
     "name": "stdout",
     "output_type": "stream",
     "text": [
      "✅ DOMESTIC_ULTIMATE_OWNER_OF relationships updated. Graph now has 384158 nodes and 811581 edges.\n"
     ]
    },
    {
     "name": "stderr",
     "output_type": "stream",
     "text": [
      "→ GLOBAL_ULTIMATE_OWNER_OF rows processed: 100%|██████████| 9004061/9004061 [02:37<00:00, 57335.92it/s]\n",
      "📂 Processing files in /Users/wiktorrajca/Desktop/Research/URAP_Fedyk/data/Orbis_Data/basic_shareholder_info:  29%|██▊       | 2/7 [13:03<32:22, 388.44s/it]"
     ]
    },
    {
     "name": "stdout",
     "output_type": "stream",
     "text": [
      "✅ GLOBAL_ULTIMATE_OWNER_OF relationships updated. Graph now has 384194 nodes and 811651 edges.\n"
     ]
    },
    {
     "name": "stderr",
     "output_type": "stream",
     "text": [
      "→ DOMESTIC_ULTIMATE_OWNER_OF rows processed: 100%|██████████| 10000000/10000000 [02:51<00:00, 58139.78it/s]\n"
     ]
    },
    {
     "name": "stdout",
     "output_type": "stream",
     "text": [
      "✅ DOMESTIC_ULTIMATE_OWNER_OF relationships updated. Graph now has 384238 nodes and 811883 edges.\n"
     ]
    },
    {
     "name": "stderr",
     "output_type": "stream",
     "text": [
      "→ GLOBAL_ULTIMATE_OWNER_OF rows processed: 100%|██████████| 10000000/10000000 [02:51<00:00, 58280.23it/s]\n",
      "📂 Processing files in /Users/wiktorrajca/Desktop/Research/URAP_Fedyk/data/Orbis_Data/basic_shareholder_info:  43%|████▎     | 3/7 [19:51<26:29, 397.31s/it]"
     ]
    },
    {
     "name": "stdout",
     "output_type": "stream",
     "text": [
      "✅ GLOBAL_ULTIMATE_OWNER_OF relationships updated. Graph now has 384252 nodes and 811909 edges.\n"
     ]
    },
    {
     "name": "stderr",
     "output_type": "stream",
     "text": [
      "→ DOMESTIC_ULTIMATE_OWNER_OF rows processed: 100%|██████████| 10000000/10000000 [02:51<00:00, 58152.01it/s]\n"
     ]
    },
    {
     "name": "stdout",
     "output_type": "stream",
     "text": [
      "✅ DOMESTIC_ULTIMATE_OWNER_OF relationships updated. Graph now has 384325 nodes and 812151 edges.\n"
     ]
    },
    {
     "name": "stderr",
     "output_type": "stream",
     "text": [
      "→ GLOBAL_ULTIMATE_OWNER_OF rows processed: 100%|██████████| 10000000/10000000 [02:52<00:00, 57826.43it/s]\n",
      "📂 Processing files in /Users/wiktorrajca/Desktop/Research/URAP_Fedyk/data/Orbis_Data/basic_shareholder_info:  57%|█████▋    | 4/7 [26:38<20:03, 401.32s/it]"
     ]
    },
    {
     "name": "stdout",
     "output_type": "stream",
     "text": [
      "✅ GLOBAL_ULTIMATE_OWNER_OF relationships updated. Graph now has 384346 nodes and 812177 edges.\n"
     ]
    },
    {
     "name": "stderr",
     "output_type": "stream",
     "text": [
      "→ DOMESTIC_ULTIMATE_OWNER_OF rows processed: 100%|██████████| 10000000/10000000 [02:53<00:00, 57611.95it/s]\n"
     ]
    },
    {
     "name": "stdout",
     "output_type": "stream",
     "text": [
      "✅ DOMESTIC_ULTIMATE_OWNER_OF relationships updated. Graph now has 384471 nodes and 812572 edges.\n"
     ]
    },
    {
     "name": "stderr",
     "output_type": "stream",
     "text": [
      "→ GLOBAL_ULTIMATE_OWNER_OF rows processed: 100%|██████████| 10000000/10000000 [02:51<00:00, 58245.92it/s]\n",
      "📂 Processing files in /Users/wiktorrajca/Desktop/Research/URAP_Fedyk/data/Orbis_Data/basic_shareholder_info:  71%|███████▏  | 5/7 [33:31<13:30, 405.36s/it]"
     ]
    },
    {
     "name": "stdout",
     "output_type": "stream",
     "text": [
      "✅ GLOBAL_ULTIMATE_OWNER_OF relationships updated. Graph now has 384483 nodes and 812594 edges.\n"
     ]
    },
    {
     "name": "stderr",
     "output_type": "stream",
     "text": [
      "→ DOMESTIC_ULTIMATE_OWNER_OF rows processed: 100%|██████████| 10000000/10000000 [02:54<00:00, 57285.22it/s]\n"
     ]
    },
    {
     "name": "stdout",
     "output_type": "stream",
     "text": [
      "✅ DOMESTIC_ULTIMATE_OWNER_OF relationships updated. Graph now has 384846 nodes and 813670 edges.\n"
     ]
    },
    {
     "name": "stderr",
     "output_type": "stream",
     "text": [
      "→ GLOBAL_ULTIMATE_OWNER_OF rows processed: 100%|██████████| 10000000/10000000 [02:51<00:00, 58200.30it/s]\n",
      "📂 Processing files in /Users/wiktorrajca/Desktop/Research/URAP_Fedyk/data/Orbis_Data/basic_shareholder_info:  86%|████████▌ | 6/7 [40:32<06:50, 410.98s/it]"
     ]
    },
    {
     "name": "stdout",
     "output_type": "stream",
     "text": [
      "✅ GLOBAL_ULTIMATE_OWNER_OF relationships updated. Graph now has 384886 nodes and 813731 edges.\n"
     ]
    },
    {
     "name": "stderr",
     "output_type": "stream",
     "text": [
      "→ DOMESTIC_ULTIMATE_OWNER_OF rows processed: 100%|██████████| 10000000/10000000 [02:52<00:00, 58071.36it/s]\n"
     ]
    },
    {
     "name": "stdout",
     "output_type": "stream",
     "text": [
      "✅ DOMESTIC_ULTIMATE_OWNER_OF relationships updated. Graph now has 384966 nodes and 814021 edges.\n"
     ]
    },
    {
     "name": "stderr",
     "output_type": "stream",
     "text": [
      "→ GLOBAL_ULTIMATE_OWNER_OF rows processed: 100%|██████████| 10000000/10000000 [02:51<00:00, 58244.09it/s]\n",
      "📂 Processing files in /Users/wiktorrajca/Desktop/Research/URAP_Fedyk/data/Orbis_Data/basic_shareholder_info: 100%|██████████| 7/7 [47:27<00:00, 406.82s/it]\n"
     ]
    },
    {
     "name": "stdout",
     "output_type": "stream",
     "text": [
      "✅ GLOBAL_ULTIMATE_OWNER_OF relationships updated. Graph now has 384979 nodes and 814037 edges.\n"
     ]
    }
   ],
   "source": [
    "load_and_match_all(graph_it, '/Users/wiktorrajca/Desktop/Research/URAP_Fedyk/data/Orbis_Data/shareholders_first_level', '/Users/wiktorrajca/Desktop/Research/URAP_Fedyk/data/Orbis_Data/subsidiaries_first_level', '/Users/wiktorrajca/Desktop/Research/URAP_Fedyk/data/Orbis_Data/basic_shareholder_info')"
   ]
  },
  {
   "cell_type": "code",
   "execution_count": 77,
   "id": "ccaf23f4",
   "metadata": {},
   "outputs": [],
   "source": [
    "def clean_node_attributes(G):\n",
    "    \"\"\"\n",
    "    Ensures all node attributes are stored as strings and missing values are handled.\n",
    "    \"\"\"\n",
    "    for node in G.nodes:\n",
    "        for attr, value in G.nodes[node].items():\n",
    "            if pd.isna(value) or value is None:  # Replace NaN/None with 'Unknown'\n",
    "                G.nodes[node][attr] = \"Unknown\"\n",
    "            else:\n",
    "                G.nodes[node][attr] = str(value)  # Convert everything to a string\n",
    "\n",
    "def save_graph(G, country_code):\n",
    "    \"\"\"\n",
    "    Saves the graph to GraphML format.\n",
    "    \"\"\"\n",
    "    clean_node_attributes(G)  # Ensure consistent types before saving\n",
    "    nx.write_graphml(G, f\"procurement_graph_{country_code}_clean.graphml\")\n",
    "    print(f\"✅ Graph saved to procurement_graph_{country_code}_clean.graphml\")"
   ]
  },
  {
   "cell_type": "code",
   "execution_count": 25,
   "id": "87faf7e9",
   "metadata": {},
   "outputs": [
    {
     "name": "stdout",
     "output_type": "stream",
     "text": [
      "🧪 Running graph integrity checks...\n",
      "✅ No orphan nodes found.\n",
      "✅ All isolated pairs are connected by 'WON' edges only.\n",
      "🧪 Integrity check complete.\n",
      "\n"
     ]
    }
   ],
   "source": [
    "check_graph_integrity(graph)"
   ]
  },
  {
   "cell_type": "code",
   "execution_count": 12,
   "id": "7d1ce869",
   "metadata": {},
   "outputs": [
    {
     "name": "stdout",
     "output_type": "stream",
     "text": [
      "🧪 Running graph integrity checks...\n",
      "✅ No orphan nodes found.\n",
      "✅ All isolated pairs are connected by 'WON' edges only.\n",
      "🧪 Integrity check complete.\n",
      "\n"
     ]
    }
   ],
   "source": [
    "check_graph_integrity(graph_it)"
   ]
  },
  {
   "cell_type": "code",
   "execution_count": 26,
   "id": "2a059382",
   "metadata": {},
   "outputs": [
    {
     "name": "stdout",
     "output_type": "stream",
     "text": [
      "✅ Graph saved to procurement_graph_france_build_full_clean.graphml\n"
     ]
    }
   ],
   "source": [
    "save_graph(graph, 'france_build_full')"
   ]
  },
  {
   "cell_type": "code",
   "execution_count": 14,
   "id": "37be5dbd",
   "metadata": {},
   "outputs": [
    {
     "name": "stdout",
     "output_type": "stream",
     "text": [
      "✅ Graph saved to procurement_graph_italy_build_full_clean.graphml\n"
     ]
    }
   ],
   "source": [
    "save_graph(graph_it, 'italy_build_full')"
   ]
  },
  {
   "cell_type": "code",
   "execution_count": 27,
   "id": "baafd96e",
   "metadata": {},
   "outputs": [],
   "source": [
    "nx.write_graphml(graph, f\"france_raw_full.graphml\")"
   ]
  },
  {
   "cell_type": "code",
   "execution_count": 32,
   "id": "9ff44de7",
   "metadata": {},
   "outputs": [
    {
     "data": {
      "text/plain": [
       "542189"
      ]
     },
     "execution_count": 32,
     "metadata": {},
     "output_type": "execute_result"
    }
   ],
   "source": [
    "graph.number_of_nodes()"
   ]
  },
  {
   "cell_type": "code",
   "execution_count": 15,
   "id": "958d0e37",
   "metadata": {},
   "outputs": [
    {
     "data": {
      "text/plain": [
       "384979"
      ]
     },
     "execution_count": 15,
     "metadata": {},
     "output_type": "execute_result"
    }
   ],
   "source": [
    "graph_it.number_of_nodes()"
   ]
  },
  {
   "cell_type": "markdown",
   "id": "51d0dfc6",
   "metadata": {},
   "source": [
    "### YENTE (THIS PART IS IN screening_graphs.ipynb)"
   ]
  },
  {
   "cell_type": "code",
   "execution_count": 5,
   "id": "0397bd72",
   "metadata": {},
   "outputs": [],
   "source": [
    "graph = nx.read_graphml(f\"/Users/wiktorrajca/Documents/GitHub/Data-Science-Honors-Thesis/code/procurement_graph_france_build_full_clean.graphml\")"
   ]
  },
  {
   "cell_type": "code",
   "execution_count": 37,
   "id": "811509ff",
   "metadata": {},
   "outputs": [
    {
     "name": "stderr",
     "output_type": "stream",
     "text": [
      "/var/folders/r2/9vnxdxyd26380tms_8k538b40000gn/T/ipykernel_71712/1874303691.py:1: DtypeWarning: Columns (10,16,18,19,20,22,25,26,35,45,48,57,59,62,64) have mixed types. Specify dtype option on import or set low_memory=False.\n",
      "  french_ted_merged = pd.read_csv(\"french_merge_full/french_merge_full_filtered.csv\")\n"
     ]
    }
   ],
   "source": [
    "french_ted_merged = pd.read_csv(\"french_merge_full/french_merge_full_filtered.csv\")"
   ]
  },
  {
   "cell_type": "code",
   "execution_count": 38,
   "id": "882bc73e",
   "metadata": {},
   "outputs": [
    {
     "data": {
      "text/plain": [
       "(467411, 79)"
      ]
     },
     "execution_count": 38,
     "metadata": {},
     "output_type": "execute_result"
    }
   ],
   "source": [
    "french_ted_merged.shape"
   ]
  },
  {
   "cell_type": "code",
   "execution_count": 10,
   "id": "9bf4df78",
   "metadata": {},
   "outputs": [
    {
     "name": "stdout",
     "output_type": "stream",
     "text": [
      "{'limit': 10, 'offset': 0, 'total': {'value': 2, 'relation': 'eq'}, 'results': [{'id': 'NK-Ys9Rm9keqNY2hFMG8Uhvto', 'caption': 'Cubit Semiconductor Limited', 'schema': 'Company', 'properties': {'name': ['CUBIT SEMICONDUCTOR LIMITED', 'Cubit Semiconductor Limited', 'Cubit Semiconductor Ltd'], 'address': ['Milltown Court, 2 Milltown Road, D06E849 Dublin', 'MILLTOWN COURT, 2 MILLTOWN ROAD, DUBLIN, IRL', '2 Lakelands Avenue, Stillorgan, Blackrock, DUBLIN, A94 VW99, Ireland', '2 Milltown Court, Milltown Road, DUBLIN, Ireland', '1671 Bong Myong Dong, Bon, Office 1st Floor, Chungcheongbuk-Do, 28452 Cheongju-si'], 'opencorporatesUrl': ['https://opencorporates.com/companies/ie/499093'], 'addressEntity': ['addr-568b97873e6c343de864199a8563b2e759df786f', 'addr-b76daa4291c9b1496306fde65a9f5cad1e8f3a6e'], 'sourceUrl': ['https://sanctionssearch.ofac.treas.gov/Details.aspx?id=47593', 'https://permid.org/1-5087095595'], 'registrationNumber': ['499093'], 'createdAt': ['2024-02-23'], 'uniqueEntityId': ['UARYRW1U2YF6'], 'jurisdiction': ['ie'], 'taxNumber': ['IE9794222F'], 'country': ['ie', 'kr'], 'topics': ['sanction'], 'incorporationDate': ['2011-05-23'], 'phone': ['+35315479043'], 'status': ['Active'], 'permId': ['5087095595'], 'website': ['https://www.cubitsemi.com/']}, 'datasets': ['us_sam_exclusions', 'us_trade_csl', 'permid', 'opencorporates', 'us_ofac_sdn'], 'referents': ['oc-companies-ie-499093', 'usgsa-s4mrs26kn', 'ofac-47593', 'permid-5087095595'], 'target': True, 'first_seen': '2024-02-23T14:10:55', 'last_seen': '2025-04-27T12:10:02', 'last_change': '2025-02-23T07:55:03'}, {'id': 'Q3218882', 'caption': 'Larry Fink', 'schema': 'Person', 'properties': {'name': ['Լոուրենս Ֆինկ', 'Лоуренс ФИНК', 'Лоренс Финк', 'लॉरी फ़िंक', 'Larry Fink', 'Laurence Douglas Fink', 'Лари Финк', 'لورنس د. فينك', 'ローレンス・フィンク', '래리 핑크', 'לארי פינק', 'لارنس فینک', 'Laurence D. Fink', '拉里·芬克', 'Ларрі Фінк'], 'position': ['старший исполнительный директор компании «Блэкрок»', 'chief executive officer (1988-)'], 'birthDate': ['1952-11-02'], 'topics': ['role.pep', 'sanction.counter'], 'citizenship': ['us'], 'firstName': ['Laurence'], 'education': ['UCLA Anderson School of Management', 'University of California, Los Angeles'], 'religion': ['Judaism'], 'gender': ['male'], 'alias': ['Waldo W.Palma', 'Laurence Fink', 'ラリ ー・フィンク', 'Laurence Douglas Fink'], 'lastName': ['Fink'], 'website': ['https://www.blackrock.com/corporate/about-us/leadership/larry-fink'], 'weakAlias': ['劳伦斯·道格拉斯·芬克', '劳伦斯·芬克'], 'wikidataId': ['Q3218882'], 'birthPlace': ['Van Nuys'], 'notes': ['American billionaire businessperson and board member, chairman and CEO of BlackRock']}, 'datasets': ['wikidata', 'ru_mfa_sanctions'], 'referents': ['ru-mfa-08fade482d7d344d5178e504fbb04a3f0a188c90'], 'target': True, 'first_seen': '2025-01-09T18:05:46', 'last_seen': '2025-04-27T00:47:03', 'last_change': '2025-04-03T00:47:03'}], 'facets': {'topics': {'label': 'Topics', 'values': [{'name': 'role.pep', 'label': 'Politician', 'count': 1}, {'name': 'sanction', 'label': 'Sanctioned entity', 'count': 1}, {'name': 'sanction.counter', 'label': 'Counter-sanctioned entity', 'count': 1}]}, 'datasets': {'label': 'Data sources', 'values': [{'name': 'opencorporates', 'label': 'OpenCorporates', 'count': 1}, {'name': 'permid', 'label': 'PermID Open Data', 'count': 1}, {'name': 'ru_mfa_sanctions', 'label': 'Russia Personal Sanctions Targeting US Citizens', 'count': 1}, {'name': 'us_ofac_sdn', 'label': 'US OFAC Specially Designated Nationals (SDN) List', 'count': 1}, {'name': 'us_sam_exclusions', 'label': 'US SAM Procurement Exclusions', 'count': 1}, {'name': 'us_trade_csl', 'label': 'US Trade Consolidated Screening List (CSL)', 'count': 1}, {'name': 'wikidata', 'label': 'Wikidata', 'count': 1}]}, 'countries': {'label': 'Countries', 'values': [{'name': 'ie', 'label': 'Ireland', 'count': 1}, {'name': 'kr', 'label': 'South Korea', 'count': 1}, {'name': 'us', 'label': 'United States of America', 'count': 1}]}}}\n"
     ]
    }
   ],
   "source": [
    "import requests\n",
    "\n",
    "response = requests.get(\"http://localhost:8000/search/sanctions\", params={\"q\": \" BlackRock\"})\n",
    "results = response.json()\n",
    "print(results)"
   ]
  },
  {
   "cell_type": "code",
   "execution_count": 8,
   "id": "2c311bb6",
   "metadata": {},
   "outputs": [
    {
     "name": "stderr",
     "output_type": "stream",
     "text": [
      "2025-04-27 14:40:03,622 ERROR: Scope debarments batch failed: 404 Client Error: Not Found for url: http://localhost:8000/match/debarments\n",
      "2025-04-27 14:40:03,622 ERROR: Scope maritime batch failed: 404 Client Error: Not Found for url: http://localhost:8000/match/maritime\n"
     ]
    },
    {
     "name": "stdout",
     "output_type": "stream",
     "text": [
      "2 nodes → 6 batches across 6 scopes.\n",
      "  completed 1/6 batches\n",
      "  completed 6/6 batches\n",
      "C1 {\n",
      "  \"debarments\": {\n",
      "    \"match_found\": false,\n",
      "    \"dataset\": \"debarments\"\n",
      "  },\n",
      "  \"maritime\": {\n",
      "    \"match_found\": false,\n",
      "    \"dataset\": \"maritime\"\n",
      "  },\n",
      "  \"regulatory\": {\n",
      "    \"match_found\": true,\n",
      "    \"matched_name\": null,\n",
      "    \"matched_entity\": {},\n",
      "    \"dataset\": \"regulatory\",\n",
      "    \"score\": 0.75\n",
      "  },\n",
      "  \"crime\": {\n",
      "    \"match_found\": true,\n",
      "    \"matched_name\": null,\n",
      "    \"matched_entity\": {},\n",
      "    \"dataset\": \"crime\",\n",
      "    \"score\": 0.75\n",
      "  },\n",
      "  \"sanctions\": {\n",
      "    \"match_found\": false,\n",
      "    \"dataset\": \"sanctions\"\n",
      "  },\n",
      "  \"peps\": {\n",
      "    \"match_found\": false,\n",
      "    \"dataset\": \"peps\"\n",
      "  }\n",
      "}\n",
      "P1 {\n",
      "  \"debarments\": {\n",
      "    \"match_found\": false,\n",
      "    \"dataset\": \"debarments\"\n",
      "  },\n",
      "  \"maritime\": {\n",
      "    \"match_found\": false,\n",
      "    \"dataset\": \"maritime\"\n",
      "  },\n",
      "  \"regulatory\": {\n",
      "    \"match_found\": false,\n",
      "    \"dataset\": \"regulatory\"\n",
      "  },\n",
      "  \"crime\": {\n",
      "    \"match_found\": false,\n",
      "    \"dataset\": \"crime\"\n",
      "  },\n",
      "  \"sanctions\": {\n",
      "    \"match_found\": false,\n",
      "    \"dataset\": \"sanctions\"\n",
      "  },\n",
      "  \"peps\": {\n",
      "    \"match_found\": true,\n",
      "    \"matched_name\": null,\n",
      "    \"matched_entity\": {},\n",
      "    \"dataset\": \"peps\",\n",
      "    \"score\": 0.9\n",
      "  }\n",
      "}\n"
     ]
    }
   ],
   "source": [
    "import networkx as nx\n",
    "import requests, math, logging\n",
    "from concurrent.futures import ThreadPoolExecutor, as_completed\n",
    "\n",
    "# show only warnings+ by default\n",
    "logging.basicConfig(level=logging.WARNING, format='%(asctime)s %(levelname)s: %(message)s')\n",
    "\n",
    "DATASET_SCOPES = [\"sanctions\",\"debarments\",\"peps\",\"maritime\",\"regulatory\",\"crime\"]\n",
    "\n",
    "def is_valid(v):\n",
    "    if v is None: \n",
    "        return False\n",
    "    if isinstance(v, str):\n",
    "        vv = v.strip().lower()\n",
    "        if vv in (\"\", \"nan\", \"unknown\", \"-\"):\n",
    "            return False\n",
    "    if isinstance(v, float) and math.isnan(v):\n",
    "        return False\n",
    "    return True\n",
    "\n",
    "def build_entity_payload(nid, data):\n",
    "    name = data.get(\"the_name\")\n",
    "    if not is_valid(name):\n",
    "        return None\n",
    "\n",
    "    t = data.get(\"type\",\"\").strip().lower()\n",
    "    if t==\"company\":\n",
    "        schema=\"Company\"\n",
    "    elif t==\"person\":\n",
    "        schema=\"Person\"\n",
    "    else:\n",
    "        return None\n",
    "\n",
    "    props = {\"name\":[name.strip()]}\n",
    "    if schema==\"Company\" and is_valid(data.get(\"the_identifier\")):\n",
    "        props[\"registrationNumber\"] = [data[\"the_identifier\"].strip()]\n",
    "    if is_valid(data.get(\"the_country\")):\n",
    "        c = data[\"the_country\"].strip()\n",
    "        props[\"jurisdiction\" if schema==\"Company\" else \"nationality\"] = [c]\n",
    "    if is_valid(data.get(\"the_postal_code\")):\n",
    "        props[\"postalCode\"] = [data[\"the_postal_code\"].strip()]\n",
    "    if is_valid(data.get(\"the_town\")):\n",
    "        props[\"town\"] = [data[\"the_town\"].strip()]\n",
    "\n",
    "    props.setdefault(\"identifiers\", []).append({\"source\":\"GraphID\",\"value\":str(nid)})\n",
    "    return {\"schema\":schema,\"properties\":props}\n",
    "\n",
    "def chunks(lst, n):\n",
    "    for i in range(0, len(lst), n):\n",
    "        yield lst[i:i+n]\n",
    "\n",
    "def _match_batch(scope, batch, all_queries, yente_base):\n",
    "    \"\"\"\n",
    "    Thread‐friendly batch matcher.\n",
    "    Returns list of (nid, record_dict).\n",
    "    \"\"\"\n",
    "    url = f\"{yente_base}/match/{scope}\"\n",
    "    payload = {\"queries\": {nid: all_queries[nid] for nid in batch}}\n",
    "    try:\n",
    "        r = requests.post(url, json=payload, timeout=30)\n",
    "        r.raise_for_status()\n",
    "    except Exception as e:\n",
    "        logging.error(\"Scope %s batch failed: %s\", scope, e)\n",
    "        return [\n",
    "            (nid, {\n",
    "                \"match_found\": False,\n",
    "                \"dataset\": scope\n",
    "            }) \n",
    "            for nid in batch\n",
    "        ]\n",
    "\n",
    "    out = []\n",
    "    reps = r.json().get(\"responses\", {})\n",
    "    for nid, res in reps.items():\n",
    "        hits = res.get(\"results\", [])\n",
    "        if hits:\n",
    "            top = hits[0]\n",
    "            entity = top.get(\"entity\", {})\n",
    "\n",
    "            # 1) top‐level name property\n",
    "            matched_name = entity.get(\"name\")\n",
    "            # 2) fallback to properties.name[0]\n",
    "            if not matched_name:\n",
    "                matched_name = entity.get(\"properties\", {})\\\n",
    "                                     .get(\"name\", [None])[0]\n",
    "            # 3) fallback to ID\n",
    "            if not matched_name:\n",
    "                matched_name = entity.get(\"id\")\n",
    "\n",
    "            rec = {\n",
    "                \"match_found\":   True,\n",
    "                \"matched_name\":  matched_name,\n",
    "                \"matched_entity\": entity,       # <-- full dict for debugging\n",
    "                \"dataset\":       scope,\n",
    "                \"score\":         top.get(\"score\")\n",
    "            }\n",
    "        else:\n",
    "            rec = {\n",
    "                \"match_found\": False,\n",
    "                \"dataset\":     scope\n",
    "            }\n",
    "        out.append((nid, rec))\n",
    "    return out\n",
    "\n",
    "def screen_graph_multi_threads(\n",
    "    graph: nx.DiGraph,\n",
    "    yente_base: str=\"http://localhost:8000\",\n",
    "    batch_size: int=50,\n",
    "    max_workers: int=None\n",
    ") -> nx.DiGraph:\n",
    "    # build all queries\n",
    "    all_q = {}\n",
    "    for nid, data in graph.nodes(data=True):\n",
    "        p = build_entity_payload(nid, data)\n",
    "        if p:\n",
    "            all_q[nid] = p\n",
    "    if not all_q:\n",
    "        logging.error(\"No valid nodes to screen.\")\n",
    "        return graph\n",
    "\n",
    "    nodes = list(all_q.keys())\n",
    "    total_batches = sum(math.ceil(len(nodes)/batch_size) for _ in DATASET_SCOPES)\n",
    "    print(f\"{len(nodes)} nodes → {total_batches} batches across {len(DATASET_SCOPES)} scopes.\")\n",
    "\n",
    "    if max_workers is None:\n",
    "        import os\n",
    "        max_workers = os.cpu_count() or 4\n",
    "\n",
    "    with ThreadPoolExecutor(max_workers=max_workers) as exe:\n",
    "        futures = []\n",
    "        for scope in DATASET_SCOPES:\n",
    "            for batch in chunks(nodes, batch_size):\n",
    "                futures.append(\n",
    "                    exe.submit(_match_batch, scope, batch, all_q, yente_base)\n",
    "                )\n",
    "\n",
    "        completed = 0\n",
    "        for fut in as_completed(futures):\n",
    "            completed += 1\n",
    "            for nid, record in fut.result():\n",
    "                graph.nodes[nid].setdefault(\"screening\", {})[record[\"dataset\"]] = record\n",
    "\n",
    "            # progress every 100 batches\n",
    "            if completed == 1 or completed % 100 == 0 or completed == len(futures):\n",
    "                print(f\"  completed {completed}/{len(futures)} batches\")\n",
    "\n",
    "    return graph\n",
    "\n",
    "# Example (in Jupyter):\n",
    "G = nx.DiGraph()\n",
    "G.add_node(\"C1\", type=\"Company\", the_name=\"BlackRock, Inc.\", the_identifier=\"US012345\", the_postal_code=\"10022\", the_town=\"New York\", the_country=\"US\")\n",
    "G.add_node(\"P1\", type=\"Person\", the_name=\"Jane Doe\", the_country=\"US\")\n",
    "\n",
    "# Run with 10 threads:\n",
    "screened = screen_graph_multi_threads(G, batch_size=20, max_workers=10)\n",
    "\n",
    "import json\n",
    "for nid, data in screened.nodes(data=True):\n",
    "    print(nid, json.dumps(data[\"screening\"], indent=2))"
   ]
  },
  {
   "cell_type": "code",
   "execution_count": 7,
   "id": "c98d430e",
   "metadata": {},
   "outputs": [
    {
     "ename": "NameError",
     "evalue": "name 'screen_graph_multi_threads' is not defined",
     "output_type": "error",
     "traceback": [
      "\u001b[0;31m---------------------------------------------------------------------------\u001b[0m",
      "\u001b[0;31mNameError\u001b[0m                                 Traceback (most recent call last)",
      "Cell \u001b[0;32mIn[7], line 1\u001b[0m\n\u001b[0;32m----> 1\u001b[0m screened_graph \u001b[38;5;241m=\u001b[39m \u001b[43mscreen_graph_multi_threads\u001b[49m(graph, batch_size\u001b[38;5;241m=\u001b[39m\u001b[38;5;241m50\u001b[39m, max_workers\u001b[38;5;241m=\u001b[39m\u001b[38;5;241m10\u001b[39m)\n",
      "\u001b[0;31mNameError\u001b[0m: name 'screen_graph_multi_threads' is not defined"
     ]
    }
   ],
   "source": [
    "screened_graph = screen_graph_multi_threads(graph, batch_size=50, max_workers=10)"
   ]
  },
  {
   "cell_type": "code",
   "execution_count": null,
   "id": "d84ff200",
   "metadata": {},
   "outputs": [],
   "source": []
  },
  {
   "cell_type": "markdown",
   "id": "55e03a5b",
   "metadata": {},
   "source": [
    "### AFTER SCREENING"
   ]
  },
  {
   "cell_type": "code",
   "execution_count": 16,
   "id": "8f472690",
   "metadata": {},
   "outputs": [],
   "source": [
    "graph = nx.read_graphml(f\"/Users/wiktorrajca/Documents/GitHub/Data-Science-Honors-Thesis/code/procurement_graph_france_build_full_clean.graphml\")"
   ]
  },
  {
   "cell_type": "code",
   "execution_count": 2,
   "id": "c0166de8",
   "metadata": {},
   "outputs": [],
   "source": [
    "graph_it = nx.read_graphml(f\"/Users/wiktorrajca/Documents/GitHub/Data-Science-Honors-Thesis/code/procurement_graph_italy_build_full_clean.graphml\")"
   ]
  },
  {
   "cell_type": "code",
   "execution_count": 4,
   "id": "eadc6659",
   "metadata": {},
   "outputs": [],
   "source": [
    "import networkx as nx\n",
    "import pandas as pd\n",
    "import ast\n",
    "\n",
    "# Load your graph\n",
    "#G = graph  # or however you load it\n",
    "G = graph_it\n",
    "# Load your CSV\n",
    "df = pd.read_csv(\"screening_results_for_france.csv\")\n",
    "df = pd.read_csv(\"screening_results_for_italy_2.csv\")\n",
    "\n",
    "# Make sure 'node_id' is treated as a string\n",
    "df['node_id'] = df['node_id'].astype(str)\n",
    "\n",
    "# Group screening results by node\n",
    "screening_results = {}\n",
    "\n",
    "for node_id, group in df.groupby('node_id'):\n",
    "    match_found = group['match_found'].fillna(False).astype(bool).any()\n",
    "    \n",
    "    if not match_found:\n",
    "        screening_results[node_id] = {\"match_found\": False}\n",
    "    else:\n",
    "        datasets = []\n",
    "        scores = {}\n",
    "        for _, row in group.iterrows():\n",
    "            if row['match_found']:\n",
    "                dataset = row['dataset']\n",
    "                datasets.append(dataset)\n",
    "                scores[dataset] = row['score'] if pd.notnull(row['score']) else None\n",
    "        \n",
    "        screening_results[node_id] = {\n",
    "            \"match_found\": True,\n",
    "            \"datasets\": \", \".join(datasets),\n",
    "            \"scores\": scores\n",
    "        }\n",
    "\n",
    "# Attach results to the graph\n",
    "for node in G.nodes:\n",
    "    node_id = str(node)  # ensure matching type\n",
    "    screening_info = screening_results.get(node_id, {\"match_found\": False})\n",
    "    G.nodes[node][\"screening\"] = screening_info\n",
    "\n",
    "# Optionally save your graph\n",
    "# nx.write_graphml(G, \"your_graph_with_screening.graphml\")"
   ]
  },
  {
   "cell_type": "code",
   "execution_count": 21,
   "id": "f4eee99f",
   "metadata": {},
   "outputs": [
    {
     "name": "stdout",
     "output_type": "stream",
     "text": [
      "✅ Graph saved to procurement_graph_france_full_screened_clean.graphml\n"
     ]
    }
   ],
   "source": [
    "save_graph(G, \"france_full_screened\")"
   ]
  },
  {
   "cell_type": "code",
   "execution_count": 7,
   "id": "ae157447",
   "metadata": {},
   "outputs": [
    {
     "name": "stdout",
     "output_type": "stream",
     "text": [
      "✅ Graph saved to procurement_graph_italy_full_screened_again_clean.graphml\n"
     ]
    }
   ],
   "source": [
    "save_graph(G, \"italy_full_screened_again\")"
   ]
  },
  {
   "cell_type": "code",
   "execution_count": 22,
   "id": "7db77971",
   "metadata": {},
   "outputs": [],
   "source": [
    "def check_all_nodes_have_screening(G):\n",
    "    \"\"\"\n",
    "    Check if every node in the graph has a 'screening' attribute.\n",
    "    Returns True if all nodes have it, False otherwise.\n",
    "    \"\"\"\n",
    "    for node, attrs in G.nodes(data=True):\n",
    "        if 'screening' not in attrs:\n",
    "            return False\n",
    "    return True"
   ]
  },
  {
   "cell_type": "code",
   "execution_count": 60,
   "id": "dfcb73da",
   "metadata": {},
   "outputs": [
    {
     "data": {
      "text/plain": [
       "True"
      ]
     },
     "execution_count": 60,
     "metadata": {},
     "output_type": "execute_result"
    }
   ],
   "source": [
    "check_all_nodes_have_screening(G)"
   ]
  },
  {
   "cell_type": "markdown",
   "id": "97c6c702",
   "metadata": {},
   "source": [
    "### ANALYSIS"
   ]
  },
  {
   "cell_type": "code",
   "execution_count": 2,
   "id": "03697e09",
   "metadata": {},
   "outputs": [],
   "source": [
    "graph_it = nx.read_graphml(f\"/Users/wiktorrajca/Documents/GitHub/Data-Science-Honors-Thesis/code/procurement_graph_italy_full_screened_again_clean.graphml\")"
   ]
  },
  {
   "cell_type": "code",
   "execution_count": 5,
   "id": "07bc59c3",
   "metadata": {},
   "outputs": [],
   "source": [
    "graph_fr = nx.read_graphml(f\"/Users/wiktorrajca/Documents/GitHub/Data-Science-Honors-Thesis/code/procurement_graph_france_full_screened_clean.graphml\")"
   ]
  },
  {
   "cell_type": "code",
   "execution_count": 6,
   "id": "7767884b",
   "metadata": {},
   "outputs": [],
   "source": [
    "import networkx as nx\n",
    "import ast\n",
    "import re\n",
    "\n",
    "def parse_screening(node_attrs):\n",
    "    \"\"\"\n",
    "    Parse the 'screening' attribute (dict) into a float score.\n",
    "    Now uses the maximum score across datasets if match_found=True.\n",
    "    Returns 0.0 if no match.\n",
    "    \"\"\"\n",
    "    s = node_attrs.get('screening', '')\n",
    "    try:\n",
    "        # No need to literal_eval if it's already a dict, but support both\n",
    "        if isinstance(s, str):\n",
    "            data = ast.literal_eval(s)\n",
    "        else:\n",
    "            data = s\n",
    "        \n",
    "        if not data.get('match_found', False):\n",
    "            return 0.0\n",
    "        \n",
    "        scores = data.get('scores', {})\n",
    "        if isinstance(scores, dict) and scores:\n",
    "            return max(float(v) for v in scores.values() if v is not None)\n",
    "        else:\n",
    "            return 0.0\n",
    "    except (ValueError, SyntaxError):\n",
    "        return 0.0\n",
    "\n",
    "def parse_stake(node_attrs, stake_attrs):\n",
    "    \"\"\"\n",
    "    Extract an ownership stake from node attributes.\n",
    "    \"\"\"\n",
    "    for attr in stake_attrs:\n",
    "        val = node_attrs.get(attr)\n",
    "        if val is not None:\n",
    "            m = re.search(r'\\d+\\.?\\d*', str(val))\n",
    "            if m:\n",
    "                try:\n",
    "                    return float(m.group()) / 100.0\n",
    "                except ValueError:\n",
    "                    pass\n",
    "    return 1.0\n",
    "\n",
    "def compute_channel_prob(G, candidate, relationship, stake_attrs, omega):\n",
    "    \"\"\"\n",
    "    Compute the probability that at least one connected entity\n",
    "    (via the specified relationship) is flagged.\n",
    "    \"\"\"\n",
    "    prod = 1.0\n",
    "    for u, v, data in G.in_edges(candidate, data=True):\n",
    "        if data.get('relationship') == relationship:\n",
    "            p_entity = parse_screening(G.nodes[u])\n",
    "            w = parse_stake(G.nodes[u], stake_attrs)\n",
    "            prod *= (1 - omega * w * p_entity)\n",
    "    return 1 - prod\n",
    "\n",
    "def compute_shadiness(G,\n",
    "                      omega_sub=0.5, omega_sh=0.6,\n",
    "                      omega_duo=0.4, omega_guo=0.7):\n",
    "    \"\"\"\n",
    "    For each node marked with bid_winner='True', compute and set the 'shadiness' attribute.\n",
    "    \"\"\"\n",
    "    for node, attrs in G.nodes(data=True):\n",
    "        if attrs.get('bid_winner') == 'True':\n",
    "            # Direct flag\n",
    "            p_dir = parse_screening(attrs)\n",
    "\n",
    "            # Channel probabilities\n",
    "            P_sub = compute_channel_prob(G, node, 'SUBSIDIARY_OF',\n",
    "                                         ['subsidiarydirect', 'subsidiarytotal'], omega_sub)\n",
    "            P_sh  = compute_channel_prob(G, node, 'SHAREHOLDER_OF',\n",
    "                                         ['shareholderdirect', 'shareholdertotal'], omega_sh)\n",
    "            P_duo = compute_channel_prob(G, node, 'DOMESTIC_ULTIMATE_OWNER_OF',\n",
    "                                         ['duodirect', 'duototal'], omega_duo)\n",
    "            P_guo = compute_channel_prob(G, node, 'GLOBAL_ULTIMATE_OWNER_OF',\n",
    "                                         ['guodirect', 'guototal'], omega_guo)\n",
    "\n",
    "            # OR-style union merge\n",
    "            S = 1 - (1 - p_dir) * (1 - P_sub) * (1 - P_sh) * (1 - P_duo) * (1 - P_guo)\n",
    "\n",
    "            # Assign back to node\n",
    "            G.nodes[node]['shadiness'] = S"
   ]
  },
  {
   "cell_type": "code",
   "execution_count": 7,
   "id": "48a8cf0d",
   "metadata": {},
   "outputs": [],
   "source": [
    "G_it = graph_it\n",
    "G_fr = graph_fr"
   ]
  },
  {
   "cell_type": "code",
   "execution_count": 101,
   "id": "1497814c",
   "metadata": {},
   "outputs": [],
   "source": [
    "compute_shadiness(G_it)\n",
    "compute_shadiness(G_fr)"
   ]
  },
  {
   "cell_type": "code",
   "execution_count": 103,
   "id": "f30cef1a",
   "metadata": {},
   "outputs": [],
   "source": [
    "def verify_shadiness_computed_and_range(G):\n",
    "    \"\"\"\n",
    "    Check that every winner node in G has a 'shadiness' attribute.\n",
    "    Prints a warning if any are missing, and reports the range of shadiness values.\n",
    "    Returns:\n",
    "      all_computed (bool): True if every winner has shadiness.\n",
    "      missing_list (list): list of winner node IDs missing the attribute.\n",
    "      (min_val, max_val) (tuple): range of shadiness values if computed, else (None, None).\n",
    "    \"\"\"\n",
    "    # Identify winner nodes\n",
    "    winners = [n for n, attrs in G.nodes(data=True) if attrs.get('bid_winner') == 'True']\n",
    "    \n",
    "    # Check for missing shadiness\n",
    "    missing = [n for n in winners if 'shadiness' not in G.nodes[n]]\n",
    "    all_computed = len(missing) == 0\n",
    "\n",
    "    if not all_computed:\n",
    "        print(f\"Warning: {len(missing)} winner nodes missing 'shadiness': {missing}\")\n",
    "    else:\n",
    "        print(\"All winner nodes have 'shadiness'.\")\n",
    "\n",
    "    # Compute range of shadiness values\n",
    "    values = [G.nodes[n]['shadiness'] for n in winners if 'shadiness' in G.nodes[n]]\n",
    "    if values:\n",
    "        min_val = min(values)\n",
    "        max_val = max(values)\n",
    "        print(f\"Shadiness range: {min_val:.3f} to {max_val:.3f}\")\n",
    "    else:\n",
    "        min_val = max_val = None\n",
    "        print(\"No shadiness values found to compute range.\")\n",
    "\n",
    "    return all_computed, missing, (min_val, max_val)"
   ]
  },
  {
   "cell_type": "code",
   "execution_count": 104,
   "id": "c4b3d6d4",
   "metadata": {},
   "outputs": [
    {
     "name": "stdout",
     "output_type": "stream",
     "text": [
      "All winner nodes have 'shadiness'.\n",
      "Shadiness range: 0.000 to 1.000\n",
      "All winner nodes have 'shadiness'.\n",
      "Shadiness range: 0.000 to 1.000\n"
     ]
    },
    {
     "data": {
      "text/plain": [
       "(True, [], (0.0, 1.0))"
      ]
     },
     "execution_count": 104,
     "metadata": {},
     "output_type": "execute_result"
    }
   ],
   "source": [
    "verify_shadiness_computed_and_range(G_it)\n",
    "verify_shadiness_computed_and_range(G_fr)"
   ]
  },
  {
   "cell_type": "code",
   "execution_count": 105,
   "id": "798b34d6",
   "metadata": {},
   "outputs": [],
   "source": [
    "def compute_expected_shadiness(G):\n",
    "    \"\"\"\n",
    "    For each procurement node in G, compute and set the 'expected_shadiness' attribute.\n",
    "    'expected_shadiness' = sum over all winner candidates of (likelyhood * shadiness).\n",
    "    \"\"\"\n",
    "    for node, attrs in G.nodes(data=True):\n",
    "        if attrs.get('type') == 'Procurement':\n",
    "            total = 0.0\n",
    "            # incoming edges from winner candidates\n",
    "            for u, v, data in G.in_edges(node, data=True):\n",
    "                if data.get('relationship') == 'WON' and G.nodes[u].get('bid_winner') == 'True':\n",
    "                    likelyhood = float(G.nodes[u].get('likelyhood', 0.0))  # keep typo\n",
    "                    shadiness = float(G.nodes[u].get('shadiness', 0.0))\n",
    "                    total += likelyhood * shadiness\n",
    "            G.nodes[node]['expected_shadiness'] = min(max(total, 0.0), 1.0)  # safely clipped"
   ]
  },
  {
   "cell_type": "code",
   "execution_count": 106,
   "id": "a53ff6d8",
   "metadata": {},
   "outputs": [],
   "source": [
    "compute_expected_shadiness(G_it)\n",
    "compute_expected_shadiness(G_fr)"
   ]
  },
  {
   "cell_type": "code",
   "execution_count": 107,
   "id": "1ad54fda",
   "metadata": {},
   "outputs": [],
   "source": [
    "def verify_expected_shadiness_computed(G):\n",
    "    \"\"\"\n",
    "    Check that every Procurement node in G has an 'expected_shadiness' attribute.\n",
    "    Prints a warning if any are missing and reports the range of computed values.\n",
    "    Returns:\n",
    "      all_computed (bool): True if every Procurement has expected_shadiness.\n",
    "      missing_list (list): list of Procurement node IDs missing the attribute.\n",
    "      (min_val, max_val) (tuple): range of expected_shadiness if computed, else (None, None).\n",
    "    \"\"\"\n",
    "    missing = [\n",
    "        n for n, attrs in G.nodes(data=True)\n",
    "        if attrs.get('type') == 'Procurement' and 'expected_shadiness' not in attrs\n",
    "    ]\n",
    "    all_computed = len(missing) == 0\n",
    "\n",
    "    if not all_computed:\n",
    "        print(f\"Warning: {len(missing)} procurement nodes missing 'expected_shadiness': {missing}\")\n",
    "    else:\n",
    "        print(\"All procurement nodes have 'expected_shadiness'.\")\n",
    "\n",
    "    # Compute range if at least one computed\n",
    "    values = [\n",
    "        attrs['expected_shadiness']\n",
    "        for n, attrs in G.nodes(data=True)\n",
    "        if attrs.get('type') == 'Procurement' and 'expected_shadiness' in attrs\n",
    "    ]\n",
    "\n",
    "    if values:\n",
    "        min_val = min(values)\n",
    "        max_val = max(values)\n",
    "        print(f\"Expected shadiness range: {min_val:.3f} to {max_val:.3f}\")\n",
    "    else:\n",
    "        min_val = max_val = None\n",
    "        print(\"No expected shadiness values found to compute range.\")\n",
    "\n",
    "    return all_computed, missing, (min_val, max_val)"
   ]
  },
  {
   "cell_type": "code",
   "execution_count": 108,
   "id": "4267902a",
   "metadata": {},
   "outputs": [
    {
     "name": "stdout",
     "output_type": "stream",
     "text": [
      "All procurement nodes have 'expected_shadiness'.\n",
      "Expected shadiness range: 0.000 to 1.000\n"
     ]
    },
    {
     "data": {
      "text/plain": [
       "(True, [], (0.0, 1.0))"
      ]
     },
     "execution_count": 108,
     "metadata": {},
     "output_type": "execute_result"
    }
   ],
   "source": [
    "verify_expected_shadiness_computed(G_it)"
   ]
  },
  {
   "cell_type": "code",
   "execution_count": 109,
   "id": "ca167b37",
   "metadata": {},
   "outputs": [
    {
     "name": "stdout",
     "output_type": "stream",
     "text": [
      "All procurement nodes have 'expected_shadiness'.\n",
      "Expected shadiness range: 0.000 to 1.000\n"
     ]
    },
    {
     "data": {
      "text/plain": [
       "(True, [], (0.0, 1.0))"
      ]
     },
     "execution_count": 109,
     "metadata": {},
     "output_type": "execute_result"
    }
   ],
   "source": [
    "verify_expected_shadiness_computed(G_fr)"
   ]
  },
  {
   "cell_type": "code",
   "execution_count": 110,
   "id": "0e41b222",
   "metadata": {},
   "outputs": [],
   "source": [
    "import numpy as np\n",
    "import re\n",
    "\n",
    "def parse_numeric_value(val):\n",
    "    \"\"\"\n",
    "    Parse a procurement value which may be a string with commas or other characters.\n",
    "    Returns a float or None if parsing fails.\n",
    "    \"\"\"\n",
    "    if isinstance(val, (int, float)):\n",
    "        return float(val)\n",
    "    if isinstance(val, str):\n",
    "        s = re.sub(r'[^0-9.]', '', val)\n",
    "        try:\n",
    "            return float(s)\n",
    "        except ValueError:\n",
    "            return None\n",
    "    return None\n",
    "\n",
    "# def compute_urgency_from_winner_values(G, \n",
    "#                                        value_attrs=('AWARD_VALUE_EURO_FIN_1', \n",
    "#                                                     'AWARD_EST_VALUE_EURO', \n",
    "#                                                     'AWARD_VALUE_EURO'),\n",
    "#                                        a=0.5, b=2.0, median_fill=True):\n",
    "#     \"\"\"\n",
    "#     Compute and set 'urgency' (nonlinear) and 'urgency_linear' (linear) for each Procurement node.\n",
    "#     \"\"\"\n",
    "#     # 1) Collect all raw procurement values from winners\n",
    "#     raw_vals = []\n",
    "#     procurement_winner_values = {}  # map procurement -> extracted value\n",
    "    \n",
    "#     for p, attrs in G.nodes(data=True):\n",
    "#         if attrs.get('type') == 'Procurement':\n",
    "#             # find winners of this procurement\n",
    "#             vals = []\n",
    "#             for u, v, data in G.in_edges(p, data=True):\n",
    "#                 if data.get('relationship') == 'WON' and G.nodes[u].get('bid_winner') == 'True':\n",
    "#                     # extract value from winner u\n",
    "#                     for attr in value_attrs:\n",
    "#                         num = parse_numeric_value(G.nodes[u].get(attr))\n",
    "#                         if num is not None:\n",
    "#                             vals.append(num)\n",
    "#                             break\n",
    "#             if vals:\n",
    "#                 # all winners have same value, but take average in case of differences\n",
    "#                 val = float(np.mean(vals))\n",
    "#                 raw_vals.append(val)\n",
    "#                 procurement_winner_values[p] = val\n",
    "    \n",
    "#     if not raw_vals:\n",
    "#         raise ValueError(f\"No numeric values found on winner nodes under {value_attrs}.\")\n",
    "    \n",
    "#     median_v = np.median(raw_vals)\n",
    "#     vmax = max(raw_vals)\n",
    "    \n",
    "#     # 2) Compute urgency and urgency_linear per procurement\n",
    "#     for p, attrs in G.nodes(data=True):\n",
    "#         if attrs.get('type') == 'Procurement':\n",
    "#             v = procurement_winner_values.get(p)\n",
    "#             if v is None:\n",
    "#                 if median_fill:\n",
    "#                     v = median_v\n",
    "#                 else:\n",
    "#                     G.nodes[p]['urgency'] = 0.0\n",
    "#                     G.nodes[p]['urgency_linear'] = 0.0\n",
    "#                     continue\n",
    "#             x = v / vmax if vmax > 0 else 0.0  # normalized value between 0 and 1\n",
    "\n",
    "#             # Nonlinear scaling\n",
    "#             gamma = a + (b - a) * x\n",
    "#             v_scaled = x ** gamma if x > 0 else 0.0\n",
    "\n",
    "#             # Expected shadiness\n",
    "#             r = float(attrs.get('expected_shadiness', 0.0))\n",
    "            \n",
    "#             # Assign urgencies\n",
    "#             G.nodes[p]['urgency'] = r * v_scaled\n",
    "#             G.nodes[p]['urgency_linear'] = r * x\n",
    "\n",
    "from scipy.stats import norm\n",
    "\n",
    "def compute_urgency_from_winner_values(G, \n",
    "                                       value_attrs=('AWARD_VALUE_EURO_FIN_1', \n",
    "                                                    'AWARD_EST_VALUE_EURO', \n",
    "                                                    'AWARD_VALUE_EURO'),\n",
    "                                       a=0.5, b=2.0, median_fill=True,\n",
    "                                       value_cap=1_000_000_000):\n",
    "    \"\"\"\n",
    "    Compute and set 'urgency' (nonlinear) and 'urgency_linear' (linear) for each Procurement node,\n",
    "    using z-score normalization and standard normal CDF. Values > value_cap are discarded.\n",
    "    \"\"\"\n",
    "    raw_vals = []\n",
    "    procurement_winner_values = {}\n",
    "\n",
    "    for p, attrs in G.nodes(data=True):\n",
    "        if attrs.get('type') == 'Procurement':\n",
    "            vals = []\n",
    "            for u, v, data in G.in_edges(p, data=True):\n",
    "                if data.get('relationship') == 'WON' and G.nodes[u].get('bid_winner') == 'True':\n",
    "                    for attr in value_attrs:\n",
    "                        num = parse_numeric_value(G.nodes[u].get(attr))\n",
    "                        if num is not None and num <= value_cap:\n",
    "                            vals.append(num)\n",
    "                            break\n",
    "            if vals:\n",
    "                val = float(np.mean(vals))\n",
    "                raw_vals.append(val)\n",
    "                procurement_winner_values[p] = val\n",
    "\n",
    "    if not raw_vals:\n",
    "        raise ValueError(f\"No valid numeric values found (all exceeded {value_cap}) under {value_attrs}.\")\n",
    "\n",
    "    mean_v = np.mean(raw_vals)\n",
    "    std_v = np.std(raw_vals)\n",
    "\n",
    "    if std_v == 0:\n",
    "        raise ValueError(\"Standard deviation of procurement values is zero — cannot z-score.\")\n",
    "\n",
    "    # 2) Compute urgency scores\n",
    "    for p, attrs in G.nodes(data=True):\n",
    "        if attrs.get('type') == 'Procurement':\n",
    "            v = procurement_winner_values.get(p)\n",
    "            if v is None:\n",
    "                if median_fill:\n",
    "                    v = np.median(raw_vals)\n",
    "                else:\n",
    "                    G.nodes[p]['urgency'] = 0.0\n",
    "                    G.nodes[p]['urgency_linear'] = 0.0\n",
    "                    continue\n",
    "\n",
    "            z = (v - mean_v) / std_v\n",
    "            x = norm.cdf(z)  # maps z to [0, 1]\n",
    "\n",
    "            gamma = a + (b - a) * x\n",
    "            v_scaled = x ** gamma if x > 0 else 0.0\n",
    "\n",
    "            r = float(attrs.get('expected_shadiness', 0.0))\n",
    "            G.nodes[p]['urgency'] = r * v_scaled\n",
    "            G.nodes[p]['urgency_linear'] = r * x\n",
    "\n",
    "def verify_urgency_computed_and_range(G):\n",
    "    \"\"\"\n",
    "    Verify every Procurement node has 'urgency' and 'urgency_linear' and report their ranges.\n",
    "    Returns (all_computed, missing_list, (min_val, max_val)).\n",
    "    \"\"\"\n",
    "    missing = []\n",
    "    urgency_values = []\n",
    "    urgency_linear_values = []\n",
    "    \n",
    "    for n, attrs in G.nodes(data=True):\n",
    "        if attrs.get('type') == 'Procurement':\n",
    "            if 'urgency' not in attrs or 'urgency_linear' not in attrs:\n",
    "                missing.append(n)\n",
    "            else:\n",
    "                urgency_values.append(attrs['urgency'])\n",
    "                urgency_linear_values.append(attrs['urgency_linear'])\n",
    "    \n",
    "    all_computed = len(missing) == 0\n",
    "    if not all_computed:\n",
    "        print(f\"Warning: {len(missing)} procurement nodes missing 'urgency' or 'urgency_linear': {missing}\")\n",
    "    else:\n",
    "        print(\"✅ All procurement nodes have both 'urgency' and 'urgency_linear'.\")\n",
    "\n",
    "    if urgency_values:\n",
    "        print(f\"Urgency range: {min(urgency_values):.3f} to {max(urgency_values):.3f}\")\n",
    "    else:\n",
    "        print(\"No urgency values found.\")\n",
    "\n",
    "    if urgency_linear_values:\n",
    "        print(f\"Urgency_linear range: {min(urgency_linear_values):.3f} to {max(urgency_linear_values):.3f}\")\n",
    "    else:\n",
    "        print(\"No urgency_linear values found.\")\n",
    "\n",
    "    return all_computed, missing, (min(urgency_values) if urgency_values else None, max(urgency_values) if urgency_values else None)\n"
   ]
  },
  {
   "cell_type": "code",
   "execution_count": 111,
   "id": "c386654d",
   "metadata": {},
   "outputs": [],
   "source": [
    "compute_urgency_from_winner_values(G_it)"
   ]
  },
  {
   "cell_type": "code",
   "execution_count": 112,
   "id": "5409b16c",
   "metadata": {},
   "outputs": [],
   "source": [
    "compute_urgency_from_winner_values(G_fr)"
   ]
  },
  {
   "cell_type": "code",
   "execution_count": 113,
   "id": "1d97a393",
   "metadata": {},
   "outputs": [
    {
     "name": "stdout",
     "output_type": "stream",
     "text": [
      "✅ All procurement nodes have both 'urgency' and 'urgency_linear'.\n",
      "Urgency range: 0.000 to 1.000\n",
      "Urgency_linear range: 0.000 to 1.000\n"
     ]
    },
    {
     "data": {
      "text/plain": [
       "(True, [], (np.float64(0.0), np.float64(1.0)))"
      ]
     },
     "execution_count": 113,
     "metadata": {},
     "output_type": "execute_result"
    }
   ],
   "source": [
    "verify_urgency_computed_and_range(G_it)"
   ]
  },
  {
   "cell_type": "code",
   "execution_count": 114,
   "id": "459bef1e",
   "metadata": {},
   "outputs": [
    {
     "name": "stdout",
     "output_type": "stream",
     "text": [
      "✅ All procurement nodes have both 'urgency' and 'urgency_linear'.\n",
      "Urgency range: 0.000 to 0.973\n",
      "Urgency_linear range: 0.000 to 0.978\n"
     ]
    },
    {
     "data": {
      "text/plain": [
       "(True, [], (np.float64(0.0), np.float64(0.9734833131121782)))"
      ]
     },
     "execution_count": 114,
     "metadata": {},
     "output_type": "execute_result"
    }
   ],
   "source": [
    "verify_urgency_computed_and_range(G_fr)"
   ]
  },
  {
   "cell_type": "code",
   "execution_count": 95,
   "id": "6e3fe751",
   "metadata": {},
   "outputs": [],
   "source": [
    "import os\n",
    "import pandas as pd\n",
    "import numpy as np\n",
    "import matplotlib.pyplot as plt\n",
    "import networkx as nx\n",
    "import re\n",
    "\n",
    "def ensure_folder(folder):\n",
    "    \"\"\"Ensure the results folder exists.\"\"\"\n",
    "    os.makedirs(folder, exist_ok=True)\n",
    "\n",
    "def parse_numeric(val):\n",
    "    if isinstance(val, (int, float)):\n",
    "        return float(val)\n",
    "    if isinstance(val, str):\n",
    "        s = re.sub(r'[^0-9.]', '', val)\n",
    "        try:\n",
    "            return float(s)\n",
    "        except ValueError:\n",
    "            return None\n",
    "    return None\n",
    "\n",
    "def build_procurement_df(G, value_attrs=('AWARD_VALUE_EURO_FIN_1','AWARD_EST_VALUE_EURO','AWARD_VALUE_EURO')):\n",
    "    records = []\n",
    "    for node, attrs in G.nodes(data=True):\n",
    "        if attrs.get('type') == 'Procurement':\n",
    "            vals = []\n",
    "            for u, v, data in G.in_edges(node, data=True):\n",
    "                if data.get('relationship')=='WON' and G.nodes[u].get('bid_winner')=='True':\n",
    "                    for attr in value_attrs:\n",
    "                        num = parse_numeric(G.nodes[u].get(attr))\n",
    "                        if num is not None:\n",
    "                            vals.append(num)\n",
    "                            break\n",
    "            records.append({\n",
    "                'procurement_id': node,\n",
    "                'value': np.mean(vals) if vals else np.nan,\n",
    "                'expected_shadiness': attrs.get('expected_shadiness', np.nan),\n",
    "                'urgency': attrs.get('urgency', np.nan),\n",
    "                'urgency_linear': attrs.get('urgency_linear', np.nan),\n",
    "                'num_candidates': sum(1 for u, v, d in G.in_edges(node, data=True)\n",
    "                                      if d.get('relationship')=='WON' and G.nodes[u].get('bid_winner')=='True')\n",
    "            })\n",
    "    return pd.DataFrame(records)\n",
    "\n",
    "def compute_robust_urgency(G, \n",
    "                           value_attrs=('AWARD_VALUE_EURO_FIN_1','AWARD_EST_VALUE_EURO','AWARD_VALUE_EURO'),\n",
    "                           a=0.5, b=2.0, denom_percentile=99, median_fill=True):\n",
    "    raw_vals = []\n",
    "    proc_vals = {}\n",
    "    for p, attrs in G.nodes(data=True):\n",
    "        if attrs.get('type') == 'Procurement':\n",
    "            vals = []\n",
    "            for u, v, data in G.in_edges(p, data=True):\n",
    "                if data.get('relationship')=='WON' and G.nodes[u].get('bid_winner')=='True':\n",
    "                    for attr in value_attrs:\n",
    "                        num = parse_numeric(G.nodes[u].get(attr))\n",
    "                        if num is not None:\n",
    "                            vals.append(num)\n",
    "                            break\n",
    "            if vals:\n",
    "                proc_vals[p] = float(np.mean(vals))\n",
    "                raw_vals.append(proc_vals[p])\n",
    "    if not raw_vals:\n",
    "        raise ValueError(\"No numeric values found on winner nodes.\")\n",
    "    \n",
    "    robust_vmax = np.percentile(raw_vals, denom_percentile)\n",
    "    median_v = np.median(raw_vals)\n",
    "    \n",
    "    for p, attrs in G.nodes(data=True):\n",
    "        if attrs.get('type') == 'Procurement':\n",
    "            v = proc_vals.get(p, None)\n",
    "            if v is None:\n",
    "                v = median_v if median_fill else 0.0\n",
    "            v_clamped = min(v, robust_vmax)\n",
    "            x = v_clamped / robust_vmax if robust_vmax > 0 else 0.0\n",
    "            gamma = a + (b - a) * x\n",
    "            v_scaled = x ** gamma if x > 0 else 0.0\n",
    "            r = float(attrs.get('expected_shadiness', 0.0))\n",
    "            G.nodes[p]['urgency'] = r * v_scaled\n",
    "            G.nodes[p]['urgency_linear'] = r * x  # simple linear scaling\n",
    "\n",
    "def urgency_bucket_counts_df(df, col='urgency', bucket_size=0.1):\n",
    "    urgencies = df[col].dropna().values\n",
    "    edges = np.arange(0, 1 + bucket_size, bucket_size)\n",
    "    counts, _ = np.histogram(urgencies, bins=edges)\n",
    "    buckets = [f\"[{edges[i]:.1f},{edges[i+1]:.1f})\" for i in range(len(edges)-1)]\n",
    "    buckets[-1] = f\"[{edges[-2]:.1f},{edges[-1]:.1f}]\"\n",
    "    return pd.DataFrame({'Bucket': buckets, 'Count': counts})\n",
    "\n",
    "def plot_and_save_boxplot(df, folder):\n",
    "    bins = [0, 1, 2, 5, 10, np.inf]\n",
    "    labels = ['1', '2', '3-5', '6-10', '>10']\n",
    "    df['candidate_bin'] = pd.cut(df['num_candidates'], bins=bins, labels=labels, right=True)\n",
    "\n",
    "    fig, axes = plt.subplots(2, 2, figsize=(12, 10))\n",
    "\n",
    "    boxprops = dict(linewidth=2)\n",
    "    medianprops = dict(linewidth=2, color='firebrick')\n",
    "    whiskerprops = dict(linewidth=2)\n",
    "    capprops = dict(linewidth=2)\n",
    "\n",
    "    df.boxplot(column='expected_shadiness', by='candidate_bin', ax=axes[0, 0],\n",
    "               boxprops=boxprops, medianprops=medianprops,\n",
    "               whiskerprops=whiskerprops, capprops=capprops)\n",
    "    axes[0, 0].set_title('Expected Shadiness by Candidate Bin')\n",
    "    axes[0, 0].set_xlabel('Candidates')\n",
    "    axes[0, 0].set_ylabel('Expected Shadiness')\n",
    "\n",
    "    df.boxplot(column='urgency', by='candidate_bin', ax=axes[0, 1],\n",
    "               boxprops=boxprops, medianprops=medianprops,\n",
    "               whiskerprops=whiskerprops, capprops=capprops)\n",
    "    axes[0, 1].set_title('Urgency (nonlinear) by Candidate Bin')\n",
    "    axes[0, 1].set_xlabel('Candidates')\n",
    "    axes[0, 1].set_ylabel('Urgency')\n",
    "\n",
    "    df.boxplot(column='urgency_linear', by='candidate_bin', ax=axes[1, 0],\n",
    "               boxprops=boxprops, medianprops=medianprops,\n",
    "               whiskerprops=whiskerprops, capprops=capprops)\n",
    "    axes[1, 0].set_title('Urgency (linear) by Candidate Bin')\n",
    "    axes[1, 0].set_xlabel('Candidates')\n",
    "    axes[1, 0].set_ylabel('Urgency Linear')\n",
    "\n",
    "    axes[1, 1].axis('off')  # Empty subplot\n",
    "\n",
    "    plt.suptitle('')\n",
    "    plt.tight_layout()\n",
    "    fig_path = os.path.join(folder, 'boxplots_by_candidate_bin.png')\n",
    "    fig.savefig(fig_path)\n",
    "    plt.close(fig)\n",
    "\n",
    "def compute_urgency_cdf_table(df, col='urgency', step=0.1):\n",
    "    thresholds = np.arange(0, 1 + step, step)\n",
    "    cdf = []\n",
    "    urg = df[col].dropna()\n",
    "    for t in thresholds:\n",
    "        cdf.append({'urgency_threshold': t, 'cumulative_proportion': (urg <= t).mean()})\n",
    "    return pd.DataFrame(cdf)\n",
    "\n",
    "def plot_and_save_cdf(df, folder):\n",
    "    for col, name in [('urgency', 'nonlinear'), ('urgency_linear', 'linear')]:\n",
    "        sorted_u = np.sort(df[col].dropna().values)\n",
    "        cdf = np.arange(1, len(sorted_u) + 1) / len(sorted_u)\n",
    "        fig, ax = plt.subplots()\n",
    "        ax.plot(sorted_u, cdf)\n",
    "        ax.set_xlabel(f'Urgency ({name})')\n",
    "        ax.set_ylabel('Cumulative Proportion')\n",
    "        ax.set_title(f'CDF of Procurement Urgency ({name})')\n",
    "        ax.grid(True)\n",
    "        plt.tight_layout()\n",
    "        fig_path = os.path.join(folder, f'urgency_cdf_{name}.png')\n",
    "        fig.savefig(fig_path)\n",
    "        plt.close(fig)\n",
    "\n",
    "def top_n_urgency(df, n=10, folder=None):\n",
    "    top_n_nonlinear = df.nlargest(n, 'urgency')[['procurement_id', 'value', 'expected_shadiness', 'urgency']]\n",
    "    top_n_linear = df.nlargest(n, 'urgency_linear')[['procurement_id', 'value', 'expected_shadiness', 'urgency_linear']]\n",
    "    if folder:\n",
    "        top_n_nonlinear.to_csv(os.path.join(folder, 'top10_procurements_by_urgency_nonlinear.csv'), index=False)\n",
    "        top_n_linear.to_csv(os.path.join(folder, 'top10_procurements_by_urgency_linear.csv'), index=False)\n",
    "    return top_n_nonlinear, top_n_linear\n",
    "\n",
    "def summary_statistics(df):\n",
    "    stats = {\n",
    "        'expected_shadiness_mean': df['expected_shadiness'].mean(),\n",
    "        'expected_shadiness_median': df['expected_shadiness'].median(),\n",
    "        'urgency_mean': df['urgency'].mean(),\n",
    "        'urgency_median': df['urgency'].median(),\n",
    "        'urgency_linear_mean': df['urgency_linear'].mean(),\n",
    "        'urgency_linear_median': df['urgency_linear'].median()\n",
    "    }\n",
    "    return pd.DataFrame([stats])\n",
    "\n",
    "def generate_diagnostic_report_to_folder(G, folder='results'):\n",
    "    ensure_folder(folder)\n",
    "    # Original DataFrame and buckets\n",
    "    df_orig = build_procurement_df(G)\n",
    "    buckets_orig = urgency_bucket_counts_df(df_orig, col='urgency')\n",
    "    buckets_orig.to_csv(os.path.join(folder, 'original_urgency_buckets.csv'), index=False)\n",
    "    buckets_orig_linear = urgency_bucket_counts_df(df_orig, col='urgency_linear')\n",
    "    buckets_orig_linear.to_csv(os.path.join(folder, 'original_urgency_linear_buckets.csv'), index=False)\n",
    "\n",
    "    # Robust metrics\n",
    "    compute_robust_urgency(G, denom_percentile=99)\n",
    "    df_robust = build_procurement_df(G)\n",
    "    buckets_robust = urgency_bucket_counts_df(df_robust, col='urgency')\n",
    "    buckets_robust.to_csv(os.path.join(folder, 'robust_urgency_buckets.csv'), index=False)\n",
    "    buckets_robust_linear = urgency_bucket_counts_df(df_robust, col='urgency_linear')\n",
    "    buckets_robust_linear.to_csv(os.path.join(folder, 'robust_urgency_linear_buckets.csv'), index=False)\n",
    "\n",
    "    # Save boxplots\n",
    "    plot_and_save_boxplot(df_orig, folder)\n",
    "\n",
    "    # Save CDFs\n",
    "    cdf_df = compute_urgency_cdf_table(df_robust, col='urgency')\n",
    "    cdf_df.to_csv(os.path.join(folder, 'urgency_cdf_nonlinear_table.csv'), index=False)\n",
    "    cdf_df_linear = compute_urgency_cdf_table(df_robust, col='urgency_linear')\n",
    "    cdf_df_linear.to_csv(os.path.join(folder, 'urgency_cdf_linear_table.csv'), index=False)\n",
    "    plot_and_save_cdf(df_robust, folder)\n",
    "\n",
    "    # Save top-10 lists\n",
    "    top_n_urgency(df_robust, n=10, folder=folder)\n",
    "\n",
    "    # Save summary statistics\n",
    "    summary_df = summary_statistics(df_robust)\n",
    "    summary_df.to_csv(os.path.join(folder, 'summary_statistics.csv'), index=False)\n",
    "\n",
    "    print(f\"Diagnostic report exported to '{folder}' folder.\")\n",
    "\n",
    "def generate_diagnostic_report_to_folder(G, folder='results'):\n",
    "    ensure_folder(folder)\n",
    "\n",
    "    # Build DataFrame from current graph (already contains urgency values)\n",
    "    df = build_procurement_df(G)\n",
    "\n",
    "    # Save original urgency buckets\n",
    "    buckets = urgency_bucket_counts_df(df, col='urgency')\n",
    "    buckets.to_csv(os.path.join(folder, 'urgency_buckets.csv'), index=False)\n",
    "    buckets_linear = urgency_bucket_counts_df(df, col='urgency_linear')\n",
    "    buckets_linear.to_csv(os.path.join(folder, 'urgency_linear_buckets.csv'), index=False)\n",
    "\n",
    "    # Save boxplots\n",
    "    plot_and_save_boxplot(df, folder)\n",
    "\n",
    "    # Save CDFs and CDF tables\n",
    "    cdf_df = compute_urgency_cdf_table(df, col='urgency')\n",
    "    cdf_df.to_csv(os.path.join(folder, 'urgency_cdf_nonlinear_table.csv'), index=False)\n",
    "    cdf_df_linear = compute_urgency_cdf_table(df, col='urgency_linear')\n",
    "    cdf_df_linear.to_csv(os.path.join(folder, 'urgency_cdf_linear_table.csv'), index=False)\n",
    "    plot_and_save_cdf(df, folder)\n",
    "\n",
    "    # Save top-10 lists\n",
    "    top_n_urgency(df, n=10, folder=folder)\n",
    "\n",
    "    # Save summary statistics\n",
    "    summary_df = summary_statistics(df)\n",
    "    summary_df.to_csv(os.path.join(folder, 'summary_statistics.csv'), index=False)\n",
    "\n",
    "    print(f\"✅ Diagnostic report exported to '{folder}' folder.\")"
   ]
  },
  {
   "cell_type": "code",
   "execution_count": 180,
   "id": "19926a30",
   "metadata": {},
   "outputs": [
    {
     "name": "stdout",
     "output_type": "stream",
     "text": [
      "✅ Diagnostic report exported to 'results_lin_it' folder.\n"
     ]
    }
   ],
   "source": [
    "generate_diagnostic_report_to_folder(G_it, \"results_lin_it\")"
   ]
  },
  {
   "cell_type": "code",
   "execution_count": 96,
   "id": "69454330",
   "metadata": {},
   "outputs": [
    {
     "name": "stdout",
     "output_type": "stream",
     "text": [
      "✅ Diagnostic report exported to 'results_lin_fr' folder.\n"
     ]
    }
   ],
   "source": [
    "generate_diagnostic_report_to_folder(G_fr, \"results_lin_fr\")"
   ]
  },
  {
   "cell_type": "code",
   "execution_count": 97,
   "id": "7feaca8a",
   "metadata": {},
   "outputs": [],
   "source": [
    "import networkx as nx\n",
    "import numpy as np\n",
    "import re\n",
    "\n",
    "### ---- Helper Functions ---- ###\n",
    "\n",
    "def parse_numeric(val):\n",
    "    \"\"\"Safely parse numeric values.\"\"\"\n",
    "    if isinstance(val, (int, float)):\n",
    "        return float(val)\n",
    "    if isinstance(val, str):\n",
    "        s = re.sub(r'[^0-9.]', '', val)\n",
    "        try:\n",
    "            return float(s)\n",
    "        except ValueError:\n",
    "            return None\n",
    "    return None\n",
    "\n",
    "def parse_screening(node_attrs):\n",
    "    \"\"\"Extract maximum screening score from a node's 'screening' attribute.\"\"\"\n",
    "    s = node_attrs.get('screening', '')\n",
    "    try:\n",
    "        if isinstance(s, str):\n",
    "            data = eval(s)  # safe if you trust your data\n",
    "        else:\n",
    "            data = s\n",
    "        if not data.get('match_found', False):\n",
    "            return 0.0\n",
    "        scores = data.get('scores', {})\n",
    "        if isinstance(scores, dict) and scores:\n",
    "            return max(float(v) for v in scores.values() if v is not None)\n",
    "        else:\n",
    "            return 0.0\n",
    "    except Exception:\n",
    "        return 0.0\n",
    "\n",
    "def parse_stake(node_attrs, stake_attrs):\n",
    "    \"\"\"Extract ownership stake from attributes.\"\"\"\n",
    "    for attr in stake_attrs:\n",
    "        val = node_attrs.get(attr)\n",
    "        if val is not None:\n",
    "            m = re.search(r'\\d+\\.?\\d*', str(val))\n",
    "            if m:\n",
    "                try:\n",
    "                    return float(m.group()) / 100.0\n",
    "                except ValueError:\n",
    "                    pass\n",
    "    return 1.0  # default if missing\n",
    "\n",
    "### ---- Main Functions ---- ###\n",
    "\n",
    "def compute_shadiness_max_only(G,\n",
    "                                omega_sub=0.5, omega_sh=0.6,\n",
    "                                omega_duo=0.4, omega_guo=0.7):\n",
    "    \"\"\"\n",
    "    Compute 'shadiness' per candidate:\n",
    "    - Keep 1 node with real screening score (highest risk).\n",
    "    - Set all others to screening=0.0 (perfectly clean).\n",
    "    \"\"\"\n",
    "    for node, attrs in G.nodes(data=True):\n",
    "        if attrs.get('bid_winner') == 'True':\n",
    "            candidate_screening = parse_screening(attrs)\n",
    "\n",
    "            ownership_scores = []\n",
    "\n",
    "            # Collect ownership screenings\n",
    "            for u, v, data in G.in_edges(node, data=True):\n",
    "                if data.get('relationship') == 'SUBSIDIARY_OF':\n",
    "                    ownership_scores.append((u, parse_screening(G.nodes[u]), omega_sub, ['subsidiarydirect', 'subsidiarytotal']))\n",
    "                if data.get('relationship') == 'SHAREHOLDER_OF':\n",
    "                    ownership_scores.append((u, parse_screening(G.nodes[u]), omega_sh, ['shareholderdirect', 'shareholdertotal']))\n",
    "                if data.get('relationship') == 'DOMESTIC_ULTIMATE_OWNER_OF':\n",
    "                    ownership_scores.append((u, parse_screening(G.nodes[u]), omega_duo, ['duodirect', 'duototal']))\n",
    "                if data.get('relationship') == 'GLOBAL_ULTIMATE_OWNER_OF':\n",
    "                    ownership_scores.append((u, parse_screening(G.nodes[u]), omega_guo, ['guodirect', 'guototal']))\n",
    "\n",
    "            # Identify highest scoring node\n",
    "            all_scores = [(node, candidate_screening, None)] + [(u, scr, rel) for (u, scr, rel, stake) in ownership_scores]\n",
    "            best_node, best_score, _ = max(all_scores, key=lambda x: x[1])\n",
    "\n",
    "            # Compute final shadiness\n",
    "            prod = 1.0\n",
    "\n",
    "            if best_node == node:\n",
    "                # candidate himself is max\n",
    "                w = 1.0  # assume self weight 1\n",
    "                prod *= (1 - best_score)  # real score\n",
    "            else:\n",
    "                prod *= (1 - 0.0)  # candidate treated as perfect\n",
    "\n",
    "            for (u, scr, omega, stake_attrs) in ownership_scores:\n",
    "                w = parse_stake(G.nodes[u], stake_attrs)\n",
    "                if u == best_node:\n",
    "                    prod *= (1 - omega * w * scr)  # real screening score\n",
    "                else:\n",
    "                    prod *= (1 - omega * w * 0.0)  # perfect clean (0.0)\n",
    "\n",
    "            G.nodes[node]['shadiness'] = 1 - prod\n",
    "            G.nodes[node]['shadiness'] = min(max(G.nodes[node]['shadiness'], 0.0), 1.0)  # clip into [0,1]\n",
    "\n",
    "def compute_expected_shadiness(G):\n",
    "    \"\"\"\n",
    "    Compute 'expected_shadiness' for each Procurement node:\n",
    "    sum(likelyhood * shadiness) over winners.\n",
    "    \"\"\"\n",
    "    for node, attrs in G.nodes(data=True):\n",
    "        if attrs.get('type') == 'Procurement':\n",
    "            total = 0.0\n",
    "            for u, v, data in G.in_edges(node, data=True):\n",
    "                if data.get('relationship') == 'WON' and G.nodes[u].get('bid_winner') == 'True':\n",
    "                    likelyhood = float(G.nodes[u].get('likelyhood', 0.0))  # keep typo\n",
    "                    shadiness = float(G.nodes[u].get('shadiness', 0.0))\n",
    "                    total += likelyhood * shadiness\n",
    "            G.nodes[node]['expected_shadiness'] = min(max(total, 0.0), 1.0)  # safe clip\n",
    "\n",
    "def compute_urgency(G, \n",
    "                    value_attrs=('AWARD_VALUE_EURO_FIN_1','AWARD_EST_VALUE_EURO','AWARD_VALUE_EURO'),\n",
    "                    a=0.5, b=2.0, denom_percentile=99, median_fill=True):\n",
    "    \"\"\"\n",
    "    Compute 'urgency' and 'urgency_linear' based on expected_shadiness * scaled value.\n",
    "    \"\"\"\n",
    "    raw_vals = []\n",
    "    proc_vals = {}\n",
    "    for p, attrs in G.nodes(data=True):\n",
    "        if attrs.get('type') == 'Procurement':\n",
    "            vals = []\n",
    "            for u, v, data in G.in_edges(p, data=True):\n",
    "                if data.get('relationship') == 'WON' and G.nodes[u].get('bid_winner') == 'True':\n",
    "                    for attr in value_attrs:\n",
    "                        num = parse_numeric(G.nodes[u].get(attr))\n",
    "                        if num is not None:\n",
    "                            vals.append(num)\n",
    "                            break\n",
    "            if vals:\n",
    "                proc_vals[p] = float(np.mean(vals))\n",
    "                raw_vals.append(proc_vals[p])\n",
    "    if not raw_vals:\n",
    "        raise ValueError(\"No numeric values found on winner nodes.\")\n",
    "\n",
    "    robust_vmax = np.percentile(raw_vals, denom_percentile)\n",
    "    median_v = np.median(raw_vals)\n",
    "    mean_v = np.mean(raw_vals)\n",
    "    std_v = np.std(raw_vals)\n",
    "\n",
    "    if std_v == 0:\n",
    "        raise ValueError(\"Standard deviation of procurement values is zero — cannot z-score.\")\n",
    "\n",
    "\n",
    "    for p, attrs in G.nodes(data=True):\n",
    "        if attrs.get('type') == 'Procurement':\n",
    "            v = proc_vals.get(p, None)\n",
    "            if v is None:\n",
    "                v = median_v if median_fill else 0.0\n",
    "            \n",
    "            # Z-score normalization\n",
    "            z = (v - mean_v) / std_v if std_v > 0 else 0.0\n",
    "            x = norm.cdf(z)  # Maps to [0, 1]\n",
    "\n",
    "            # Nonlinear transformation\n",
    "            gamma = a + (b - a) * x\n",
    "            v_scaled = x ** gamma if x > 0 else 0.0\n",
    "\n",
    "            # Shadiness-weighted urgency\n",
    "            r = float(attrs.get('expected_shadiness', 0.0))\n",
    "            G.nodes[p]['urgency'] = r * v_scaled\n",
    "            G.nodes[p]['urgency_linear'] = r * x\n",
    "\n",
    "\n",
    "### ---- Run Full Pipeline ---- ###\n",
    "\n",
    "def full_shadiness_pipeline(G):\n",
    "    compute_shadiness_max_only(G)\n",
    "    compute_expected_shadiness(G)\n",
    "    compute_urgency(G)"
   ]
  },
  {
   "cell_type": "code",
   "execution_count": 189,
   "id": "d84cee56",
   "metadata": {},
   "outputs": [],
   "source": [
    "full_shadiness_pipeline(G_it)"
   ]
  },
  {
   "cell_type": "code",
   "execution_count": 98,
   "id": "11e0c3f6",
   "metadata": {},
   "outputs": [],
   "source": [
    "full_shadiness_pipeline(G_fr)"
   ]
  },
  {
   "cell_type": "code",
   "execution_count": 191,
   "id": "b0e16063",
   "metadata": {},
   "outputs": [
    {
     "name": "stdout",
     "output_type": "stream",
     "text": [
      "✅ Diagnostic report exported to 'results_simulated_it' folder.\n"
     ]
    }
   ],
   "source": [
    "generate_diagnostic_report_to_folder(G_it, \"results_simulated_it\")"
   ]
  },
  {
   "cell_type": "code",
   "execution_count": 100,
   "id": "61d46127",
   "metadata": {},
   "outputs": [
    {
     "name": "stdout",
     "output_type": "stream",
     "text": [
      "✅ Diagnostic report exported to 'results_simulated_fr' folder.\n"
     ]
    }
   ],
   "source": [
    "generate_diagnostic_report_to_folder(G_fr, \"results_simulated_fr\")"
   ]
  },
  {
   "cell_type": "code",
   "execution_count": 115,
   "id": "08bb4b34",
   "metadata": {},
   "outputs": [],
   "source": [
    "import pandas as pd\n",
    "import numpy as np\n",
    "\n",
    "def compare_graphs_summary_percentiles(G1, G2, percentiles=(25, 50, 75, 100), name1='Graph A', name2='Graph B'):\n",
    "    def parse_numeric(val):\n",
    "        if isinstance(val, (int, float)):\n",
    "            return float(val)\n",
    "        if isinstance(val, str):\n",
    "            try:\n",
    "                return float(val.replace(',', '').strip())\n",
    "            except:\n",
    "                return None\n",
    "        return None\n",
    "\n",
    "    def get_procurement_df(G):\n",
    "        records = []\n",
    "        for node, attrs in G.nodes(data=True):\n",
    "            if attrs.get('type') == 'Procurement':\n",
    "                vals = []\n",
    "                winner_ids = []\n",
    "                winners = []\n",
    "                for u, v, data in G.in_edges(node, data=True):\n",
    "                    if data.get('relationship') == 'WON' and G.nodes[u].get('bid_winner') == 'True':\n",
    "                        for attr in ('AWARD_VALUE_EURO_FIN_1', 'AWARD_EST_VALUE_EURO', 'AWARD_VALUE_EURO'):\n",
    "                            num = parse_numeric(G.nodes[u].get(attr))\n",
    "                            if num is not None:\n",
    "                                vals.append(num)\n",
    "                                break\n",
    "                        winners.append(G.nodes[u].get('the_name', 'Unknown'))\n",
    "                        winner_ids.append(u)\n",
    "                records.append({\n",
    "                    'procurement_id': node,\n",
    "                    'winner_name': winners[0] if winners else 'Unknown',\n",
    "                    'winner_id': winner_ids[0] if winner_ids else None,\n",
    "                    'value': np.mean(vals) if vals else np.nan,\n",
    "                    'urgency_linear': attrs.get('urgency_linear', np.nan),\n",
    "                    'urgency': attrs.get('urgency', np.nan),\n",
    "                    'expected_shadiness': attrs.get('expected_shadiness', np.nan)\n",
    "                })\n",
    "        return pd.DataFrame(records)\n",
    "\n",
    "    def get_percentile_row(df, percentile):\n",
    "        urgency_vals = df['urgency'].dropna()\n",
    "        if len(urgency_vals) == 0:\n",
    "            return {'winner_name': 'N/A', 'urgency': np.nan, 'value': np.nan}\n",
    "        threshold = np.percentile(urgency_vals, percentile)\n",
    "        eligible = df[df['urgency'] >= threshold]\n",
    "        if len(eligible) == 0:\n",
    "            return {'winner_name': 'N/A', 'urgency': np.nan, 'value': np.nan}\n",
    "        row = eligible.sort_values('urgency', ascending=True).iloc[0]\n",
    "        return {\n",
    "            'winner_name': row['winner_name'],\n",
    "            'urgency': row['urgency'],\n",
    "            'value': row['value']\n",
    "        }\n",
    "\n",
    "    df1 = get_procurement_df(G1)\n",
    "    df2 = get_procurement_df(G2)\n",
    "\n",
    "    def basic_stats(df, name):\n",
    "        u = df['urgency'].dropna()\n",
    "        es = df['expected_shadiness'].dropna()\n",
    "        return {\n",
    "            'Dataset': name,\n",
    "            'Procurement Count': len(df),\n",
    "            'Avg Urgency': u.mean(),\n",
    "            'Median Urgency': u.median(),\n",
    "            'Std Dev Urgency': u.std(),\n",
    "            'Max Urgency': u.max(),\n",
    "            'Avg Value (EUR)': df['value'].dropna().mean(),\n",
    "            'Avg Expected Shadiness': es.mean(),\n",
    "            'Median Expected Shadiness': es.median(),\n",
    "            'Std Dev Expected Shadiness': es.std()\n",
    "        }\n",
    "\n",
    "    stats_df = pd.DataFrame([\n",
    "        basic_stats(df1, name1),\n",
    "        basic_stats(df2, name2)\n",
    "    ])\n",
    "\n",
    "    summary = {\n",
    "        'Percentile': [],\n",
    "        f'{name1} Winner': [],\n",
    "        f'{name1} Urgency': [],\n",
    "        f'{name1} Value (EUR)': [],\n",
    "        f'{name2} Winner': [],\n",
    "        f'{name2} Urgency': [],\n",
    "        f'{name2} Value (EUR)': [],\n",
    "    }\n",
    "\n",
    "    for p in percentiles:\n",
    "        row1 = get_percentile_row(df1, p)\n",
    "        row2 = get_percentile_row(df2, p)\n",
    "\n",
    "        summary['Percentile'].append(f\"{p}th\")\n",
    "        summary[f'{name1} Winner'].append(row1['winner_name'])\n",
    "        summary[f'{name1} Urgency'].append(row1['urgency'])\n",
    "        summary[f'{name1} Value (EUR)'].append(row1['value'])\n",
    "        summary[f'{name2} Winner'].append(row2['winner_name'])\n",
    "        summary[f'{name2} Urgency'].append(row2['urgency'])\n",
    "        summary[f'{name2} Value (EUR)'].append(row2['value'])\n",
    "\n",
    "    def top_k_rows_combined(df1, df2, G1, G2, k=10):\n",
    "        top1 = df1.sort_values('urgency', ascending=False).head(k).reset_index(drop=True)\n",
    "        top2 = df2.sort_values('urgency', ascending=False).head(k).reset_index(drop=True)\n",
    "\n",
    "        bvdids1 = [G1.nodes.get(row['winner_id'], {}).get('bvdidnumber', 'Unknown') for _, row in top1.iterrows()]\n",
    "        bvdids2 = [G2.nodes.get(row['winner_id'], {}).get('bvdidnumber', 'Unknown') for _, row in top2.iterrows()]\n",
    "\n",
    "        combined = pd.DataFrame({\n",
    "            'France Winner': top1['winner_name'],\n",
    "            'France Urgency': top1['urgency'],\n",
    "            'France Expected Shadiness': top1['expected_shadiness'],\n",
    "            'France Value (€)': top1['value'],\n",
    "            'France BVDID': bvdids1,\n",
    "            'Italy Winner': top2['winner_name'],\n",
    "            'Italy Urgency': top2['urgency'],\n",
    "            'Italy Expected Shadiness': top2['expected_shadiness'],\n",
    "            'Italy Value (€)': top2['value'],\n",
    "            'Italy BVDID': bvdids2\n",
    "        })\n",
    "\n",
    "        return combined\n",
    "\n",
    "    top3_combined = top_k_rows_combined(df1, df2, G1, G2, k=3)\n",
    "\n",
    "    return stats_df.set_index('Dataset').T, pd.DataFrame(summary), top3_combined"
   ]
  },
  {
   "cell_type": "code",
   "execution_count": 116,
   "id": "69145e7a",
   "metadata": {},
   "outputs": [],
   "source": [
    "stats_df, percentile_df, top_three = compare_graphs_summary_percentiles(\n",
    "    G_fr, G_it, name1='France', name2='Italy'\n",
    ")"
   ]
  },
  {
   "cell_type": "code",
   "execution_count": 59,
   "id": "c3516ee7",
   "metadata": {},
   "outputs": [
    {
     "data": {
      "text/html": [
       "<div>\n",
       "<style scoped>\n",
       "    .dataframe tbody tr th:only-of-type {\n",
       "        vertical-align: middle;\n",
       "    }\n",
       "\n",
       "    .dataframe tbody tr th {\n",
       "        vertical-align: top;\n",
       "    }\n",
       "\n",
       "    .dataframe thead th {\n",
       "        text-align: right;\n",
       "    }\n",
       "</style>\n",
       "<table border=\"1\" class=\"dataframe\">\n",
       "  <thead>\n",
       "    <tr style=\"text-align: right;\">\n",
       "      <th>Dataset</th>\n",
       "      <th>France</th>\n",
       "      <th>Italy</th>\n",
       "    </tr>\n",
       "  </thead>\n",
       "  <tbody>\n",
       "    <tr>\n",
       "      <th>Procurement Count</th>\n",
       "      <td>1.334600e+05</td>\n",
       "      <td>4.086900e+04</td>\n",
       "    </tr>\n",
       "    <tr>\n",
       "      <th>Avg Urgency</th>\n",
       "      <td>1.016660e-01</td>\n",
       "      <td>4.105286e-02</td>\n",
       "    </tr>\n",
       "    <tr>\n",
       "      <th>Median Urgency</th>\n",
       "      <td>3.509502e-02</td>\n",
       "      <td>0.000000e+00</td>\n",
       "    </tr>\n",
       "    <tr>\n",
       "      <th>Std Dev Urgency</th>\n",
       "      <td>1.247726e-01</td>\n",
       "      <td>9.089467e-02</td>\n",
       "    </tr>\n",
       "    <tr>\n",
       "      <th>Max Urgency</th>\n",
       "      <td>9.734833e-01</td>\n",
       "      <td>1.000000e+00</td>\n",
       "    </tr>\n",
       "    <tr>\n",
       "      <th>Avg Value (EUR)</th>\n",
       "      <td>1.025900e+08</td>\n",
       "      <td>2.874815e+06</td>\n",
       "    </tr>\n",
       "    <tr>\n",
       "      <th>Avg Expected Shadiness</th>\n",
       "      <td>2.464247e-01</td>\n",
       "      <td>9.905416e-02</td>\n",
       "    </tr>\n",
       "    <tr>\n",
       "      <th>Median Expected Shadiness</th>\n",
       "      <td>8.571429e-02</td>\n",
       "      <td>0.000000e+00</td>\n",
       "    </tr>\n",
       "    <tr>\n",
       "      <th>Std Dev Expected Shadiness</th>\n",
       "      <td>2.996810e-01</td>\n",
       "      <td>2.149277e-01</td>\n",
       "    </tr>\n",
       "  </tbody>\n",
       "</table>\n",
       "</div>"
      ],
      "text/plain": [
       "Dataset                           France         Italy\n",
       "Procurement Count           1.334600e+05  4.086900e+04\n",
       "Avg Urgency                 1.016660e-01  4.105286e-02\n",
       "Median Urgency              3.509502e-02  0.000000e+00\n",
       "Std Dev Urgency             1.247726e-01  9.089467e-02\n",
       "Max Urgency                 9.734833e-01  1.000000e+00\n",
       "Avg Value (EUR)             1.025900e+08  2.874815e+06\n",
       "Avg Expected Shadiness      2.464247e-01  9.905416e-02\n",
       "Median Expected Shadiness   8.571429e-02  0.000000e+00\n",
       "Std Dev Expected Shadiness  2.996810e-01  2.149277e-01"
      ]
     },
     "execution_count": 59,
     "metadata": {},
     "output_type": "execute_result"
    }
   ],
   "source": [
    "stats_df"
   ]
  },
  {
   "cell_type": "code",
   "execution_count": 60,
   "id": "12d5fbcf",
   "metadata": {},
   "outputs": [
    {
     "data": {
      "text/html": [
       "<div>\n",
       "<style scoped>\n",
       "    .dataframe tbody tr th:only-of-type {\n",
       "        vertical-align: middle;\n",
       "    }\n",
       "\n",
       "    .dataframe tbody tr th {\n",
       "        vertical-align: top;\n",
       "    }\n",
       "\n",
       "    .dataframe thead th {\n",
       "        text-align: right;\n",
       "    }\n",
       "</style>\n",
       "<table border=\"1\" class=\"dataframe\">\n",
       "  <thead>\n",
       "    <tr style=\"text-align: right;\">\n",
       "      <th></th>\n",
       "      <th>France Winner</th>\n",
       "      <th>France Urgency</th>\n",
       "      <th>France Expected Shadiness</th>\n",
       "      <th>France Value (€)</th>\n",
       "      <th>France BVDID</th>\n",
       "      <th>Italy Winner</th>\n",
       "      <th>Italy Urgency</th>\n",
       "      <th>Italy Expected Shadiness</th>\n",
       "      <th>Italy Value (€)</th>\n",
       "      <th>Italy BVDID</th>\n",
       "    </tr>\n",
       "  </thead>\n",
       "  <tbody>\n",
       "    <tr>\n",
       "      <th>0</th>\n",
       "      <td>Ossiam</td>\n",
       "      <td>0.973483</td>\n",
       "      <td>0.981600</td>\n",
       "      <td>75000000.00</td>\n",
       "      <td>FR512855958</td>\n",
       "      <td>Sisal S.P.A.</td>\n",
       "      <td>1.00000</td>\n",
       "      <td>1.0</td>\n",
       "      <td>222000000.0</td>\n",
       "      <td>IT05425630968</td>\n",
       "    </tr>\n",
       "    <tr>\n",
       "      <th>1</th>\n",
       "      <td>AIR Corsica</td>\n",
       "      <td>0.934988</td>\n",
       "      <td>0.935947</td>\n",
       "      <td>92878645.00</td>\n",
       "      <td>FR349638395</td>\n",
       "      <td>Exergia S.P.A.</td>\n",
       "      <td>0.98289</td>\n",
       "      <td>1.0</td>\n",
       "      <td>40827972.0</td>\n",
       "      <td>IT01483992B</td>\n",
       "    </tr>\n",
       "    <tr>\n",
       "      <th>2</th>\n",
       "      <td>Mbda</td>\n",
       "      <td>0.926107</td>\n",
       "      <td>0.965597</td>\n",
       "      <td>58206772.95</td>\n",
       "      <td>FR381737618</td>\n",
       "      <td>Exergia S.P.A.</td>\n",
       "      <td>0.98289</td>\n",
       "      <td>1.0</td>\n",
       "      <td>40827972.0</td>\n",
       "      <td>IT01483992B</td>\n",
       "    </tr>\n",
       "  </tbody>\n",
       "</table>\n",
       "</div>"
      ],
      "text/plain": [
       "  France Winner  France Urgency  France Expected Shadiness  France Value (€)  \\\n",
       "0        Ossiam        0.973483                   0.981600       75000000.00   \n",
       "1   AIR Corsica        0.934988                   0.935947       92878645.00   \n",
       "2          Mbda        0.926107                   0.965597       58206772.95   \n",
       "\n",
       "  France BVDID    Italy Winner  Italy Urgency  Italy Expected Shadiness  \\\n",
       "0  FR512855958    Sisal S.P.A.        1.00000                       1.0   \n",
       "1  FR349638395  Exergia S.P.A.        0.98289                       1.0   \n",
       "2  FR381737618  Exergia S.P.A.        0.98289                       1.0   \n",
       "\n",
       "   Italy Value (€)    Italy BVDID  \n",
       "0      222000000.0  IT05425630968  \n",
       "1       40827972.0    IT01483992B  \n",
       "2       40827972.0    IT01483992B  "
      ]
     },
     "execution_count": 60,
     "metadata": {},
     "output_type": "execute_result"
    }
   ],
   "source": [
    "top_three"
   ]
  },
  {
   "cell_type": "code",
   "execution_count": 117,
   "id": "cd261fd3",
   "metadata": {},
   "outputs": [
    {
     "data": {
      "text/html": [
       "<div>\n",
       "<style scoped>\n",
       "    .dataframe tbody tr th:only-of-type {\n",
       "        vertical-align: middle;\n",
       "    }\n",
       "\n",
       "    .dataframe tbody tr th {\n",
       "        vertical-align: top;\n",
       "    }\n",
       "\n",
       "    .dataframe thead th {\n",
       "        text-align: right;\n",
       "    }\n",
       "</style>\n",
       "<table border=\"1\" class=\"dataframe\">\n",
       "  <thead>\n",
       "    <tr style=\"text-align: right;\">\n",
       "      <th></th>\n",
       "      <th>Percentile</th>\n",
       "      <th>France Winner</th>\n",
       "      <th>France Urgency</th>\n",
       "      <th>France Value (EUR)</th>\n",
       "      <th>Italy Winner</th>\n",
       "      <th>Italy Urgency</th>\n",
       "      <th>Italy Value (EUR)</th>\n",
       "    </tr>\n",
       "  </thead>\n",
       "  <tbody>\n",
       "    <tr>\n",
       "      <th>0</th>\n",
       "      <td>25th</td>\n",
       "      <td>Desamest Solutions</td>\n",
       "      <td>0.000000</td>\n",
       "      <td>41806.0</td>\n",
       "      <td>Smeda S.R.L.</td>\n",
       "      <td>0.000000</td>\n",
       "      <td>5.248607e+05</td>\n",
       "    </tr>\n",
       "    <tr>\n",
       "      <th>1</th>\n",
       "      <td>50th</td>\n",
       "      <td>Adipap SA</td>\n",
       "      <td>0.035098</td>\n",
       "      <td>32770.0</td>\n",
       "      <td>Smeda S.R.L.</td>\n",
       "      <td>0.000000</td>\n",
       "      <td>5.248607e+05</td>\n",
       "    </tr>\n",
       "    <tr>\n",
       "      <th>2</th>\n",
       "      <td>75th</td>\n",
       "      <td>Setec International</td>\n",
       "      <td>0.207089</td>\n",
       "      <td>69772.5</td>\n",
       "      <td>Litos Progetti S.R.L.</td>\n",
       "      <td>0.023952</td>\n",
       "      <td>1.016453e+05</td>\n",
       "    </tr>\n",
       "    <tr>\n",
       "      <th>3</th>\n",
       "      <td>100th</td>\n",
       "      <td>Ossiam</td>\n",
       "      <td>0.973483</td>\n",
       "      <td>75000000.0</td>\n",
       "      <td>Sisal S.P.A.</td>\n",
       "      <td>1.000000</td>\n",
       "      <td>2.220000e+08</td>\n",
       "    </tr>\n",
       "  </tbody>\n",
       "</table>\n",
       "</div>"
      ],
      "text/plain": [
       "  Percentile        France Winner  France Urgency  France Value (EUR)  \\\n",
       "0       25th   Desamest Solutions        0.000000             41806.0   \n",
       "1       50th            Adipap SA        0.035098             32770.0   \n",
       "2       75th  Setec International        0.207089             69772.5   \n",
       "3      100th               Ossiam        0.973483          75000000.0   \n",
       "\n",
       "            Italy Winner  Italy Urgency  Italy Value (EUR)  \n",
       "0           Smeda S.R.L.       0.000000       5.248607e+05  \n",
       "1           Smeda S.R.L.       0.000000       5.248607e+05  \n",
       "2  Litos Progetti S.R.L.       0.023952       1.016453e+05  \n",
       "3           Sisal S.P.A.       1.000000       2.220000e+08  "
      ]
     },
     "execution_count": 117,
     "metadata": {},
     "output_type": "execute_result"
    }
   ],
   "source": [
    "percentile_df"
   ]
  },
  {
   "cell_type": "code",
   "execution_count": 48,
   "id": "0508a98f",
   "metadata": {},
   "outputs": [],
   "source": [
    "import matplotlib.pyplot as plt\n",
    "import numpy as np\n",
    "\n",
    "def plot_urgency_linear_cdf_comparison(G1, G2, name1='Graph A', name2='Graph B', save_path=None):\n",
    "    def get_urgency_linear(G):\n",
    "        return [\n",
    "            float(attrs.get('urgency_linear'))\n",
    "            for _, attrs in G.nodes(data=True)\n",
    "            if attrs.get('type') == 'Procurement' and attrs.get('urgency_linear') is not None\n",
    "        ]\n",
    "\n",
    "    u1 = sorted(get_urgency_linear(G1))\n",
    "    u2 = sorted(get_urgency_linear(G2))\n",
    "\n",
    "    def compute_cdf(data):\n",
    "        data = np.array(data)\n",
    "        cdf_y = np.arange(1, len(data) + 1) / len(data)\n",
    "        return data, cdf_y\n",
    "\n",
    "    x1, y1 = compute_cdf(u1)\n",
    "    x2, y2 = compute_cdf(u2)\n",
    "\n",
    "    plt.figure(figsize=(10, 6))\n",
    "    plt.plot(x1, y1, label=name1, linewidth=3)\n",
    "    plt.plot(x2, y2, label=name2, linewidth=3, linestyle='--')\n",
    "    plt.xlabel('Linear Urgency Score', fontsize=25)\n",
    "    plt.ylabel('Cumulative Proportion', fontsize=25)\n",
    "    plt.title('CDF of Linear Urgency Scores', fontsize=30)\n",
    "    plt.legend(fontsize=25, loc='lower right')\n",
    "    plt.xticks(fontsize=20)\n",
    "    plt.yticks(fontsize=20)\n",
    "    plt.grid(True)\n",
    "    plt.tight_layout()\n",
    "\n",
    "    if save_path:\n",
    "        plt.savefig(save_path)\n",
    "    plt.show()"
   ]
  },
  {
   "cell_type": "code",
   "execution_count": 49,
   "id": "63494766",
   "metadata": {},
   "outputs": [
    {
     "data": {
      "image/png": "[encoded data removed]",
      "text/plain": [
       "<Figure size 1000x600 with 1 Axes>"
      ]
     },
     "metadata": {},
     "output_type": "display_data"
    }
   ],
   "source": [
    "plot_urgency_linear_cdf_comparison(G_fr, G_it, 'France', 'Italy')"
   ]
  },
  {
   "cell_type": "code",
   "execution_count": 64,
   "id": "54e8396e",
   "metadata": {},
   "outputs": [],
   "source": [
    "def get_parent_nodes_with_edges_by_bvdid(G, bvdid):\n",
    "    \"\"\"\n",
    "    Given a bvdidnumber, find all direct parent nodes (predecessors)\n",
    "    and return their IDs, attributes, and relationship types from the edges.\n",
    "\n",
    "    Parameters:\n",
    "    - G: NetworkX DiGraph\n",
    "    - bvdid: the target bvdidnumber\n",
    "\n",
    "    Returns:\n",
    "    - List of dicts with keys: 'parent_id', 'parent_attrs', 'relationship'\n",
    "    \"\"\"\n",
    "    # Find the node with this bvdidnumber\n",
    "    matches = [n for n, data in G.nodes(data=True) if data.get('bvdidnumber') == bvdid]\n",
    "    if not matches:\n",
    "        print(f\"No node found with bvdidnumber = {bvdid}\")\n",
    "        return []\n",
    "\n",
    "    node_id = matches[0]\n",
    "    parents = []\n",
    "    for u, v, edge_data in G.in_edges(node_id, data=True):\n",
    "        parents.append({\n",
    "            'parent_id': u,\n",
    "            'parent_attrs': G.nodes[u],\n",
    "            'relationship': edge_data.get('relationship', 'unknown')\n",
    "        })\n",
    "    return parents"
   ]
  },
  {
   "cell_type": "code",
   "execution_count": 66,
   "id": "b2c8c021",
   "metadata": {},
   "outputs": [
    {
     "data": {
      "text/plain": [
       "[{'parent_id': 'IT05425630968',\n",
       "  'parent_attrs': {'Unnamed: 0.1': '336411',\n",
       "   'Unnamed: 0': '9416702',\n",
       "   'ID_NOTICE_CAN': '2019448872',\n",
       "   'TED_NOTICE_URL': 'ted.europa.eu/udl?uri=TED:NOTICE:448872-2019:TEXT:EN:HTML',\n",
       "   'YEAR': '2019',\n",
       "   'ID_TYPE': '3',\n",
       "   'DT_DISPATCH': '19/09/19',\n",
       "   'XSD_VERSION': 'R209.S3',\n",
       "   'CANCELLED': '0',\n",
       "   'CORRECTIONS': '0',\n",
       "   'B_MULTIPLE_CAE': 'N',\n",
       "   'CAE_NAME': 'Agenzia delle Dogane e dei Monopoli — Direzione Centrale Gestione Tributi e monopolio giochi',\n",
       "   'CAE_NATIONALID': 'Unknown',\n",
       "   'CAE_ADDRESS': 'Via della Luce 34A/bis',\n",
       "   'CAE_TOWN': 'Roma',\n",
       "   'CAE_POSTAL_CODE': '00153',\n",
       "   'CAE_GPA_ANNEX': 'A2   ',\n",
       "   'ISO_COUNTRY_CODE': 'IT',\n",
       "   'ISO_COUNTRY_CODE_GPA': 'IT',\n",
       "   'B_MULTIPLE_COUNTRY': 'N',\n",
       "   'ISO_COUNTRY_CODE_ALL': 'Unknown',\n",
       "   'CAE_TYPE': 'N',\n",
       "   'EU_INST_CODE': 'Unknown',\n",
       "   'MAIN_ACTIVITY': 'Other',\n",
       "   'B_ON_BEHALF': 'N',\n",
       "   'B_INVOLVES_JOINT_PROCUREMENT': 'N',\n",
       "   'B_AWARDED_BY_CENTRAL_BODY': 'N',\n",
       "   'TYPE_OF_CONTRACT': 'S',\n",
       "   'TAL_LOCATION_NUTS': 'IT',\n",
       "   'B_FRA_AGREEMENT': 'N',\n",
       "   'FRA_ESTIMATED': 'Unknown',\n",
       "   'B_FRA_CONTRACT': 'N',\n",
       "   'B_DYN_PURCH_SYST': 'N',\n",
       "   'CPV': '92351100.0',\n",
       "   'MAIN_CPV_CODE_GPA': '92351.0',\n",
       "   'ID_LOT': 'Unknown',\n",
       "   'ADDITIONAL_CPVS': 'Unknown',\n",
       "   'B_GPA': 'N',\n",
       "   'GPA_COVERAGE': '3.0',\n",
       "   'LOTS_NUMBER': '1.0',\n",
       "   'VALUE_EURO': '222000000.0',\n",
       "   'VALUE_EURO_FIN_1': '222000000.0',\n",
       "   'VALUE_EURO_FIN_2': '222000000.0',\n",
       "   'B_EU_FUNDS': 'N',\n",
       "   'TOP_TYPE': 'OPE',\n",
       "   'B_ACCELERATED': 'Unknown',\n",
       "   'OUT_OF_DIRECTIVES': '0',\n",
       "   'CRIT_CODE': 'M',\n",
       "   'CRIT_PRICE_WEIGHT': '55',\n",
       "   'CRIT_CRITERIA': 'Offerta tecnica',\n",
       "   'CRIT_WEIGHTS': '45',\n",
       "   'B_ELECTRONIC_AUCTION': 'N',\n",
       "   'NUMBER_AWARDS': '1',\n",
       "   'ID_AWARD': '10805617.0',\n",
       "   'ID_LOT_AWARDED': 'Unknown',\n",
       "   'INFO_ON_NON_AWARD': 'Unknown',\n",
       "   'INFO_UNPUBLISHED': 'N',\n",
       "   'B_AWARDED_TO_A_GROUP': 'N',\n",
       "   'WIN_NAME': 'Sisal S.p.A.',\n",
       "   'WIN_NATIONALID': 'Unknown',\n",
       "   'WIN_ADDRESS': 'Via Alessio di Tocqueville 13',\n",
       "   'WIN_TOWN': 'Milano',\n",
       "   'WIN_POSTAL_CODE': '20154',\n",
       "   'WIN_COUNTRY_CODE': 'IT',\n",
       "   'B_CONTRACTOR_SME': 'N',\n",
       "   'CONTRACT_NUMBER': 'Unknown',\n",
       "   'TITLE': 'Gestione dei giochi numerici a totalizzatore nazionale, dei giochi complementari e opzionali e delle relative forme di partecipazione a distanza',\n",
       "   'NUMBER_OFFERS': '3.0',\n",
       "   'NUMBER_TENDERS_SME': 'Unknown',\n",
       "   'NUMBER_TENDERS_OTHER_EU': 'Unknown',\n",
       "   'NUMBER_TENDERS_NON_EU': 'Unknown',\n",
       "   'NUMBER_OFFERS_ELECTR': 'Unknown',\n",
       "   'AWARD_EST_VALUE_EURO': 'Unknown',\n",
       "   'AWARD_VALUE_EURO': '222000000.0',\n",
       "   'AWARD_VALUE_EURO_FIN_1': '222000000.0',\n",
       "   'B_SUBCONTRACTED': 'N',\n",
       "   'DT_AWARD': '17/09/19',\n",
       "   'name': 'Sisal S.P.A.',\n",
       "   'bvdidnumber': 'IT05425630968',\n",
       "   'type': 'Company',\n",
       "   'bid_winner': 'True',\n",
       "   'likelyhood': '0.3333333333333333',\n",
       "   'country_matched': 'True',\n",
       "   'the_name': 'Sisal S.P.A.',\n",
       "   'the_country': 'IT',\n",
       "   'the_town': 'Milano',\n",
       "   'the_postal_code': '20154',\n",
       "   'the_identifier': 'Unknown',\n",
       "   'screening': \"{'match_found': True, 'datasets': 'sanctions', 'scores': {'sanctions': 1.0}}\",\n",
       "   'shadiness': 1.0},\n",
       "  'relationship': 'DOMESTIC_ULTIMATE_OWNER_OF'},\n",
       " {'parent_id': 'IE016956',\n",
       "  'parent_attrs': {'bvdidnumber': 'IT10541150966',\n",
       "   'shareholdercommentstext': 'Unknown',\n",
       "   'shareholdername': 'FLUTTER ENTERTAINMENT PUBLIC LIMITED COMPANY',\n",
       "   'shareholdersalutation': 'Unknown',\n",
       "   'shareholderfirstname': 'Unknown',\n",
       "   'shareholderlastname': 'Unknown',\n",
       "   'shareholderbvdidnumber': 'IE016956',\n",
       "   'shareholdercountryisocode': 'IE',\n",
       "   'shareholdercity': 'DUBLIN',\n",
       "   'shareholdertype': 'Corporate',\n",
       "   'shareholdersameorsimilarnameinth': 'Yes',\n",
       "   'shareholdercompanytakingliabilit': 'No',\n",
       "   'shareholderdirect': '-',\n",
       "   'shareholdertotal': '100.00',\n",
       "   'shareholderinformationonpossible': 'Unknown',\n",
       "   'shareholderinformationsource': 'RM',\n",
       "   'shareholderinformationdate': '2022/12',\n",
       "   'shareholderalsoamanager': 'Not a manager',\n",
       "   'type': 'Company',\n",
       "   'the_name': 'FLUTTER ENTERTAINMENT PUBLIC LIMITED COMPANY',\n",
       "   'the_country': 'IE',\n",
       "   'the_town': 'DUBLIN',\n",
       "   'screening': \"{'match_found': True, 'datasets': 'sanctions', 'scores': {'sanctions': 1.0}}\"},\n",
       "  'relationship': 'SHAREHOLDER_OF'},\n",
       " {'parent_id': 'IT02770200422',\n",
       "  'parent_attrs': {'bvdidnumber': 'IT10387150963',\n",
       "   'subsidiarycommentstext': 'Unknown',\n",
       "   'subsidiaryname': 'MYCICERO SRL',\n",
       "   'subsidiarybvdidnumber': 'IT02770200422',\n",
       "   'subsidiarycountryisocode': 'IT',\n",
       "   'subsidiarycity': 'SENIGALLIA',\n",
       "   'subsidiarytype': 'Corporate',\n",
       "   'subsidiarysameorsimilarnameinthe': 'No',\n",
       "   'subsidiarycompanyforwhichliabili': 'No',\n",
       "   'subsidiarydirect': '30.00',\n",
       "   'subsidiarytotal': 'Unknown',\n",
       "   'subsidiaryinformationonpossiblec': 'Unknown',\n",
       "   'subsidiarystatus': '-',\n",
       "   'subsidiaryinformationsource': 'HO',\n",
       "   'subsidiaryinformationdate': '2022/12',\n",
       "   'type': 'Company',\n",
       "   'the_name': 'MYCICERO SRL',\n",
       "   'the_country': 'IT',\n",
       "   'the_town': 'SENIGALLIA',\n",
       "   'screening': \"{'match_found': False}\"},\n",
       "  'relationship': 'SUBSIDIARY_OF'},\n",
       " {'parent_id': 'ALL91611023S',\n",
       "  'parent_attrs': {'bvdidnumber': 'IT05425630968',\n",
       "   'subsidiarycommentstext': 'Unknown',\n",
       "   'subsidiaryname': 'SISAL ALBANIA',\n",
       "   'subsidiarybvdidnumber': 'ALL91611023S',\n",
       "   'subsidiarycountryisocode': 'AL',\n",
       "   'subsidiarycity': 'TIRANA',\n",
       "   'subsidiarytype': 'Corporate',\n",
       "   'subsidiarysameorsimilarnameinthe': 'No',\n",
       "   'subsidiarycompanyforwhichliabili': 'No',\n",
       "   'subsidiarydirect': '100.00',\n",
       "   'subsidiarytotal': '100.00',\n",
       "   'subsidiaryinformationonpossiblec': 'Unknown',\n",
       "   'subsidiarystatus': '-',\n",
       "   'subsidiaryinformationsource': 'SN',\n",
       "   'subsidiaryinformationdate': '2023/11',\n",
       "   'type': 'Company',\n",
       "   'the_name': 'SISAL ALBANIA',\n",
       "   'the_country': 'AL',\n",
       "   'the_town': 'TIRANA',\n",
       "   'screening': \"{'match_found': False}\"},\n",
       "  'relationship': 'SUBSIDIARY_OF'},\n",
       " {'parent_id': 'IT02433760135',\n",
       "  'parent_attrs': {'bvdidnumber': 'IT05425630968',\n",
       "   'subsidiarycommentstext': 'Unknown',\n",
       "   'subsidiaryname': 'SISAL ITALIA S.P.A.',\n",
       "   'subsidiarybvdidnumber': 'IT02433760135',\n",
       "   'subsidiarycountryisocode': 'IT',\n",
       "   'subsidiarycity': 'MILANO',\n",
       "   'subsidiarytype': 'Corporate',\n",
       "   'subsidiarysameorsimilarnameinthe': 'Yes',\n",
       "   'subsidiarycompanyforwhichliabili': 'No',\n",
       "   'subsidiarydirect': '100.00',\n",
       "   'subsidiarytotal': '100.00',\n",
       "   'subsidiaryinformationonpossiblec': 'Unknown',\n",
       "   'subsidiarystatus': '-',\n",
       "   'subsidiaryinformationsource': 'HO',\n",
       "   'subsidiaryinformationdate': '2023/04',\n",
       "   'type': 'Company',\n",
       "   'the_name': 'SISAL ITALIA S.P.A.',\n",
       "   'the_country': 'IT',\n",
       "   'the_town': 'MILANO',\n",
       "   'screening': \"{'match_found': True, 'datasets': 'sanctions', 'scores': {'sanctions': 0.7105263157894737}}\"},\n",
       "  'relationship': 'SUBSIDIARY_OF'},\n",
       " {'parent_id': 'MA402099-81',\n",
       "  'parent_attrs': {'bvdidnumber': 'IT05425630968',\n",
       "   'subsidiarycommentstext': 'Unknown',\n",
       "   'subsidiaryname': 'SISAL LOTERIE MAROC',\n",
       "   'subsidiarybvdidnumber': 'MA402099-81',\n",
       "   'subsidiarycountryisocode': 'MA',\n",
       "   'subsidiarycity': 'CASABLANCA',\n",
       "   'subsidiarytype': 'Corporate',\n",
       "   'subsidiarysameorsimilarnameinthe': 'No',\n",
       "   'subsidiarycompanyforwhichliabili': 'No',\n",
       "   'subsidiarydirect': '100.00',\n",
       "   'subsidiarytotal': '100.00',\n",
       "   'subsidiaryinformationonpossiblec': 'Unknown',\n",
       "   'subsidiarystatus': '-',\n",
       "   'subsidiaryinformationsource': 'HO',\n",
       "   'subsidiaryinformationdate': '2020/12',\n",
       "   'type': 'Company',\n",
       "   'the_name': 'SISAL LOTERIE MAROC',\n",
       "   'the_country': 'MA',\n",
       "   'the_town': 'CASABLANCA',\n",
       "   'screening': \"{'match_found': False}\"},\n",
       "  'relationship': 'SUBSIDIARY_OF'},\n",
       " {'parent_id': 'ESA01984236',\n",
       "  'parent_attrs': {'bvdidnumber': 'IT05425630968',\n",
       "   'subsidiarycommentstext': 'Unknown',\n",
       "   'subsidiaryname': 'SISAL JUEGO ESPAÑA S.A.',\n",
       "   'subsidiarybvdidnumber': 'ESA01984236',\n",
       "   'subsidiarycountryisocode': 'ES',\n",
       "   'subsidiarycity': 'CEUTA',\n",
       "   'subsidiarytype': 'Corporate',\n",
       "   'subsidiarysameorsimilarnameinthe': 'No',\n",
       "   'subsidiarycompanyforwhichliabili': 'No',\n",
       "   'subsidiarydirect': '-',\n",
       "   'subsidiarytotal': '100.00',\n",
       "   'subsidiaryinformationonpossiblec': 'Unknown',\n",
       "   'subsidiarystatus': '-',\n",
       "   'subsidiaryinformationsource': 'HO',\n",
       "   'subsidiaryinformationdate': '2020/12',\n",
       "   'type': 'Company',\n",
       "   'the_name': 'SISAL JUEGO ESPAÑA S.A.',\n",
       "   'the_country': 'ES',\n",
       "   'the_town': 'CEUTA',\n",
       "   'screening': \"{'match_found': False}\"},\n",
       "  'relationship': 'SUBSIDIARY_OF'},\n",
       " {'parent_id': 'TR*110311706498',\n",
       "  'parent_attrs': {'bvdidnumber': 'IT05425630968',\n",
       "   'subsidiarycommentstext': 'Unknown',\n",
       "   'subsidiaryname': 'SISAL SANS INTERAKTF HIZMETFER VE SANS OYUNLARI YATAS',\n",
       "   'subsidiarybvdidnumber': 'TR*110311706498',\n",
       "   'subsidiarycountryisocode': 'TR',\n",
       "   'subsidiarycity': 'Unknown',\n",
       "   'subsidiarytype': 'Corporate',\n",
       "   'subsidiarysameorsimilarnameinthe': 'No',\n",
       "   'subsidiarycompanyforwhichliabili': 'No',\n",
       "   'subsidiarydirect': '49.00',\n",
       "   'subsidiarytotal': 'Unknown',\n",
       "   'subsidiaryinformationonpossiblec': 'Unknown',\n",
       "   'subsidiarystatus': '-',\n",
       "   'subsidiaryinformationsource': 'HO',\n",
       "   'subsidiaryinformationdate': '2020/12',\n",
       "   'type': 'Company',\n",
       "   'the_name': 'SISAL SANS INTERAKTF HIZMETFER VE SANS OYUNLARI YATAS',\n",
       "   'the_country': 'TR',\n",
       "   'the_town': 'Unknown',\n",
       "   'screening': \"{'match_found': False}\"},\n",
       "  'relationship': 'SUBSIDIARY_OF'},\n",
       " {'parent_id': 'TR*110324274551',\n",
       "  'parent_attrs': {'bvdidnumber': 'IT05425630968',\n",
       "   'subsidiarycommentstext': 'Unknown',\n",
       "   'subsidiaryname': 'SISALSANS DIJITAL VE ELEKTRONIK SANS OYUNLARI VE YAYINCILIK A.S.',\n",
       "   'subsidiarybvdidnumber': 'TR*110324274551',\n",
       "   'subsidiarycountryisocode': 'TR',\n",
       "   'subsidiarycity': 'Unknown',\n",
       "   'subsidiarytype': 'Corporate',\n",
       "   'subsidiarysameorsimilarnameinthe': 'No',\n",
       "   'subsidiarycompanyforwhichliabili': 'No',\n",
       "   'subsidiarydirect': '49.00',\n",
       "   'subsidiarytotal': 'Unknown',\n",
       "   'subsidiaryinformationonpossiblec': 'Unknown',\n",
       "   'subsidiarystatus': '-',\n",
       "   'subsidiaryinformationsource': 'HO',\n",
       "   'subsidiaryinformationdate': '2020/12',\n",
       "   'type': 'Company',\n",
       "   'the_name': 'SISALSANS DIJITAL VE ELEKTRONIK SANS OYUNLARI VE YAYINCILIK A.S.',\n",
       "   'the_country': 'TR',\n",
       "   'the_town': 'Unknown',\n",
       "   'screening': \"{'match_found': False}\"},\n",
       "  'relationship': 'SUBSIDIARY_OF'}]"
      ]
     },
     "execution_count": 66,
     "metadata": {},
     "output_type": "execute_result"
    }
   ],
   "source": [
    "get_parent_nodes_with_edges_by_bvdid(G_it, 'IT05425630968')"
   ]
  },
  {
   "cell_type": "code",
   "execution_count": 67,
   "id": "261a4803",
   "metadata": {},
   "outputs": [],
   "source": [
    "def get_procurement_with_three_candidates(G):\n",
    "    for node, attrs in G.nodes(data=True):\n",
    "        if attrs.get('type') == 'Procurement':\n",
    "            candidates = [\n",
    "                u for u, v, data in G.in_edges(node, data=True)\n",
    "                if data.get('relationship') == 'WON' and G.nodes[u].get('bid_winner') == 'True'\n",
    "            ]\n",
    "            if len(candidates) == 3:\n",
    "                return node, candidates\n",
    "    return None, []\n",
    "\n",
    "def trace_ownership_structure(G, company_id):\n",
    "    structure = []\n",
    "    for parent, child, data in G.in_edges(company_id, data=True):\n",
    "        if data.get('relationship') in {'SUBSIDIARY_OF', 'SHAREHOLDER_OF', 'DOMESTIC_ULTIMATE_OWNER_OF', 'GLOBAL_ULTIMATE_OWNER_OF'}:\n",
    "            structure.append({\n",
    "                'parent_id': parent,\n",
    "                'parent_name': G.nodes[parent].get('the_name', 'Unknown'),\n",
    "                'relationship': data['relationship'],\n",
    "                'stake': G.nodes[parent].get('shareholderdirect') or G.nodes[parent].get('subsidiarydirect') or 'n/a'\n",
    "            })\n",
    "    return structure\n",
    "\n",
    "def display_procurement_and_candidates(G):\n",
    "    p_node, candidates = get_procurement_with_three_candidates(G)\n",
    "    if not p_node:\n",
    "        print(\"❌ No procurement found with exactly 3 candidates.\")\n",
    "        return\n",
    "\n",
    "    print(f\"\\n📦 Procurement: {p_node}\")\n",
    "    for idx, c in enumerate(candidates, 1):\n",
    "        print(f\"\\n🏢 Candidate {idx}: {G.nodes[c].get('the_name', 'Unknown')} (Node ID: {c})\")\n",
    "        print(\"  Ownership structure:\")\n",
    "        for entry in trace_ownership_structure(G, c):\n",
    "            print(f\"    ← {entry['relationship']}: {entry['parent_name']} (Stake: {entry['stake']})\")"
   ]
  },
  {
   "cell_type": "code",
   "execution_count": 69,
   "id": "4cce4bf2",
   "metadata": {},
   "outputs": [
    {
     "data": {
      "text/plain": [
       "('76', ['FR490155397', 'FR432105450', 'FR342620267'])"
      ]
     },
     "execution_count": 69,
     "metadata": {},
     "output_type": "execute_result"
    }
   ],
   "source": [
    "get_procurement_with_three_candidates(G_fr)"
   ]
  },
  {
   "cell_type": "code",
   "execution_count": 79,
   "id": "03dc589e",
   "metadata": {},
   "outputs": [],
   "source": [
    "def get_procurement_subgraph(G, procurement_id, ownership_rels=None):\n",
    "    if ownership_rels is None:\n",
    "        ownership_rels = {\n",
    "            'SUBSIDIARY_OF',\n",
    "            'SHAREHOLDER_OF',\n",
    "            'DOMESTIC_ULTIMATE_OWNER_OF',\n",
    "            'GLOBAL_ULTIMATE_OWNER_OF'\n",
    "        }\n",
    "\n",
    "    nodes_to_include = {procurement_id}\n",
    "    edges_to_include = []\n",
    "\n",
    "    # Step 1: find candidate companies\n",
    "    candidates = [\n",
    "        u for u, v, data in G.in_edges(procurement_id, data=True)\n",
    "        if data.get('relationship') == 'WON' and G.nodes[u].get('bid_winner') == 'True'\n",
    "    ]\n",
    "\n",
    "    for c in candidates:\n",
    "        nodes_to_include.add(c)\n",
    "        edges_to_include.append((c, procurement_id))\n",
    "\n",
    "        # Step 2: recursively trace all parents of each candidate\n",
    "        stack = [c]\n",
    "        visited = set()\n",
    "        while stack:\n",
    "            current = stack.pop()\n",
    "            for parent, child, data in G.in_edges(current, data=True):\n",
    "                if data.get('relationship') in ownership_rels and parent not in visited:\n",
    "                    visited.add(parent)\n",
    "                    nodes_to_include.add(parent)\n",
    "                    edges_to_include.append((parent, current))\n",
    "                    stack.append(parent)\n",
    "\n",
    "    # Create a new graph and copy nodes and their attributes\n",
    "    subG = nx.DiGraph()\n",
    "    for node in nodes_to_include:\n",
    "        subG.add_node(node, **G.nodes[node])\n",
    "\n",
    "    # Copy edge attributes\n",
    "    for u, v in edges_to_include:\n",
    "        if G.has_edge(u, v):\n",
    "            subG.add_edge(u, v, **G[u][v])\n",
    "\n",
    "    return subG"
   ]
  },
  {
   "cell_type": "code",
   "execution_count": 80,
   "id": "bea766e6",
   "metadata": {},
   "outputs": [],
   "source": [
    "subG = get_procurement_subgraph(G_fr, '76')"
   ]
  },
  {
   "cell_type": "code",
   "execution_count": 81,
   "id": "08ead0e1",
   "metadata": {},
   "outputs": [
    {
     "data": {
      "text/plain": [
       "NodeView(('FR823782487', '76', 'FR342620267', 'FR*20642064', 'FR490155397', 'FR*110310091763', 'FR432105450'))"
      ]
     },
     "execution_count": 81,
     "metadata": {},
     "output_type": "execute_result"
    }
   ],
   "source": [
    "subG.nodes()"
   ]
  },
  {
   "cell_type": "code",
   "execution_count": 82,
   "id": "a2c6659e",
   "metadata": {},
   "outputs": [
    {
     "name": "stdout",
     "output_type": "stream",
     "text": [
      "✅ Graph saved to procurement_graph_subgraph_clean.graphml\n"
     ]
    }
   ],
   "source": [
    "save_graph(subG, 'subgraph')"
   ]
  },
  {
   "cell_type": "code",
   "execution_count": 89,
   "id": "0ea5444e",
   "metadata": {},
   "outputs": [],
   "source": [
    "attributes = subG.nodes['FR823782487']"
   ]
  },
  {
   "cell_type": "code",
   "execution_count": 90,
   "id": "82d66676",
   "metadata": {},
   "outputs": [
    {
     "data": {
      "text/plain": [
       "{'bvdidnumber': 'FR432105450',\n",
       " 'shareholdercommentstext': 'Unknown',\n",
       " 'shareholdername': 'NATAN HOLDING',\n",
       " 'shareholdersalutation': 'Unknown',\n",
       " 'shareholderfirstname': 'Unknown',\n",
       " 'shareholderlastname': 'Unknown',\n",
       " 'shareholderbvdidnumber': 'FR823782487',\n",
       " 'shareholdercountryisocode': 'FR',\n",
       " 'shareholdercity': 'ITTEVILLE',\n",
       " 'shareholdertype': 'Corporate',\n",
       " 'shareholdersameorsimilarnameinth': 'No',\n",
       " 'shareholdercompanytakingliabilit': 'No',\n",
       " 'shareholderdirect': '100.00',\n",
       " 'shareholdertotal': '100.00',\n",
       " 'shareholderinformationonpossible': 'Unknown',\n",
       " 'shareholderinformationsource': 'WW',\n",
       " 'shareholderinformationdate': '2022/01',\n",
       " 'shareholderalsoamanager': 'Not a manager',\n",
       " 'type': 'Company',\n",
       " 'the_name': 'NATAN HOLDING',\n",
       " 'the_country': 'FR',\n",
       " 'the_town': 'ITTEVILLE',\n",
       " 'screening': \"{'match_found': False}\"}"
      ]
     },
     "execution_count": 90,
     "metadata": {},
     "output_type": "execute_result"
    }
   ],
   "source": [
    "attributes"
   ]
  },
  {
   "cell_type": "code",
   "execution_count": null,
   "id": "eac33d69",
   "metadata": {},
   "outputs": [],
   "source": []
  }
 ],
 "metadata": {
  "kernelspec": {
   "display_name": "Python 3",
   "language": "python",
   "name": "python3"
  },
  "language_info": {
   "codemirror_mode": {
    "name": "ipython",
    "version": 3
   },
   "file_extension": ".py",
   "mimetype": "text/x-python",
   "name": "python",
   "nbconvert_exporter": "python",
   "pygments_lexer": "ipython3",
   "version": "3.9.6"
  }
 },
 "nbformat": 4,
 "nbformat_minor": 5
}
